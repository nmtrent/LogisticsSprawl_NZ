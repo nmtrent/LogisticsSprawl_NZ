{
 "cells": [
  {
   "cell_type": "markdown",
   "metadata": {},
   "source": [
    "# Testing correlation between employee counts and # facilities"
   ]
  },
  {
   "cell_type": "code",
   "execution_count": 63,
   "metadata": {},
   "outputs": [],
   "source": [
    "import pandas as pd \n",
    "from pandas import read_csv\n",
    "import numpy as np\n",
    "from sklearn.linear_model import LinearRegression\n",
    "from numpy import cov\n",
    "from scipy.stats import pearsonr\n",
    "from scipy.stats import spearmanr\n",
    "import matplotlib.pyplot as plt\n",
    "import seaborn as sn\n",
    "\n",
    "\n",
    "pd.set_option('display.max_columns', None)\n",
    "pd.set_option('display.max_rows', None)"
   ]
  },
  {
   "cell_type": "code",
   "execution_count": 384,
   "metadata": {},
   "outputs": [],
   "source": [
    "# Group A\n",
    "groupA=pd.read_csv(\"CompleteSet_GroupA.csv\")\n",
    "groupA=groupA.drop(\"Unnamed: 0\",axis=1)\n",
    "#Strip all leading whitespace in Area column\n",
    "groupA['Area'] = groupA['Area'].apply(lambda x: x.strip())\n",
    "\n",
    "#Filter only for 2006, 2013 and 2018\n",
    "groupA = groupA.loc[(groupA['Year'] == 2006) | (groupA['Year'] == 2013)| (groupA['Year']==2018)]\n",
    "\n",
    "#Remove total NZ row\n",
    "groupA = groupA.loc[(groupA['Area'] != \"Total NZ by Regional Council/Statistical Area\")]\n",
    "\n",
    "#Remove total regions\n",
    "groupA = groupA.loc[(groupA['ParentArea'] != \"NewZealand\")]\n",
    "\n",
    "#Only a certain region\n",
    "#groupA = groupA.loc[(groupA['ParentArea'] == \"AucklandRegion\")] #Only Auckland\n",
    "#groupA = groupA.loc[(groupA['ParentArea'] == \"WaikatoRegion\")] #Only Waikato\n",
    "#groupA = groupA.loc[(groupA['ParentArea'] == \"WellingtonRegion\")] #Only Wellington\n",
    "#groupA = groupA.loc[(groupA['ParentArea'] == \"OtagoRegion\")] #Only Otago\n",
    "#groupA = groupA.loc[(groupA['ParentArea'] == \"BayOfPlentyRegion\")] #Only BayOfPlenty\n",
    "\n",
    "#fill in nans caused\n",
    "groupA=groupA.fillna(0)"
   ]
  },
  {
   "cell_type": "markdown",
   "metadata": {},
   "source": [
    "Useful websites\n",
    " * https://realpython.com/linear-regression-in-python/#simple-linear-regression-with-scikit-learn\n",
    " * https://machinelearningmastery.com/how-to-use-correlation-to-understand-the-relationship-between-variables/"
   ]
  },
  {
   "cell_type": "markdown",
   "metadata": {},
   "source": [
    "## Total industry"
   ]
  },
  {
   "cell_type": "markdown",
   "metadata": {},
   "source": [
    "### Scatterplot"
   ]
  },
  {
   "cell_type": "code",
   "execution_count": 385,
   "metadata": {},
   "outputs": [],
   "source": [
    "totInd_Fac_2006 = np.array(groupA.loc[(groupA['Year'] == 2006)].TotInd_GeogUnits.tolist())\n",
    "totInd_Emp_2006 = np.array(groupA.loc[(groupA['Year'] == 2006)].TotInd_EmpCo.tolist())\n",
    "\n",
    "totInd_Fac_2013 = np.array(groupA.loc[(groupA['Year'] == 2013)].TotInd_GeogUnits.tolist())\n",
    "totInd_Emp_2013 = np.array(groupA.loc[(groupA['Year'] == 2013)].TotInd_EmpCo.tolist())\n",
    "\n",
    "totInd_Fac_2018 = np.array(groupA.loc[(groupA['Year'] == 2018)].TotInd_GeogUnits.tolist())\n",
    "totInd_Emp_2018 = np.array(groupA.loc[(groupA['Year'] == 2018)].TotInd_EmpCo.tolist())"
   ]
  },
  {
   "cell_type": "code",
   "execution_count": 386,
   "metadata": {},
   "outputs": [
    {
     "data": {
      "text/plain": [
       "<matplotlib.collections.PathCollection at 0x123faff40>"
      ]
     },
     "execution_count": 386,
     "metadata": {},
     "output_type": "execute_result"
    },
    {
     "data": {
      "image/png": "[encoded data removed]",
      "text/plain": [
       "<Figure size 432x288 with 3 Axes>"
      ]
     },
     "metadata": {
      "needs_background": "light"
     },
     "output_type": "display_data"
    }
   ],
   "source": [
    "fig, (ax1, ax2,ax3) = plt.subplots(1, 3,sharex=True,sharey=True)\n",
    "fig.suptitle('Total industry')\n",
    "ax1.scatter(totInd_Fac_2006, totInd_Emp_2006)\n",
    "ax2.scatter(totInd_Fac_2013, totInd_Emp_2013)\n",
    "ax3.scatter(totInd_Fac_2018, totInd_Emp_2018)\n"
   ]
  },
  {
   "cell_type": "markdown",
   "metadata": {},
   "source": [
    "### Correlation tests"
   ]
  },
  {
   "cell_type": "code",
   "execution_count": 387,
   "metadata": {},
   "outputs": [
    {
     "name": "stdout",
     "output_type": "stream",
     "text": [
      "2006\n",
      "[[  63821.99537761  459649.34012556]\n",
      " [ 459649.34012556 4722061.97057833]]\n",
      "Pearsons correlation: 0.837\n",
      "Spearmans correlation: 0.670\n",
      "2013\n",
      "[[  63805.15555391  451487.78630134]\n",
      " [ 451487.78630134 4909880.55159985]]\n",
      "Pearsons correlation: 0.807\n",
      "Spearmans correlation: 0.654\n",
      "2018\n",
      "[[  78309.20740768  567092.2623912 ]\n",
      " [ 567092.2623912  6495162.66847209]]\n",
      "Pearsons correlation: 0.795\n",
      "Spearmans correlation: 0.660\n"
     ]
    }
   ],
   "source": [
    "# Covariance\n",
    "\n",
    "print(\"2006\")\n",
    "covariance = np.cov([totInd_Fac_2006], [totInd_Emp_2006])\n",
    "print(covariance)\n",
    "\n",
    "# Pearson's correlation\n",
    "corrP, _ = pearsonr(totInd_Fac_2006, totInd_Emp_2006)\n",
    "print('Pearsons correlation: %.3f' % corrP)\n",
    "\n",
    "# Spearman's correlation\n",
    "corrS, _ = spearmanr(totInd_Fac_2006, totInd_Emp_2006)\n",
    "print('Spearmans correlation: %.3f' % corrS)\n",
    "\n",
    "print(\"2013\")\n",
    "covariance = np.cov([totInd_Fac_2013], [totInd_Emp_2013])\n",
    "print(covariance)\n",
    "\n",
    "# Pearson's correlation\n",
    "corrP, _ = pearsonr(totInd_Fac_2013, totInd_Emp_2013)\n",
    "print('Pearsons correlation: %.3f' % corrP)\n",
    "\n",
    "# Spearman's correlation\n",
    "corrS, _ = spearmanr(totInd_Fac_2013, totInd_Emp_2013)\n",
    "print('Spearmans correlation: %.3f' % corrS)\n",
    "\n",
    "print(\"2018\")\n",
    "covariance = np.cov([totInd_Fac_2018], [totInd_Emp_2018])\n",
    "print(covariance)\n",
    "\n",
    "# Pearson's correlation\n",
    "corrP, _ = pearsonr(totInd_Fac_2018, totInd_Emp_2018)\n",
    "print('Pearsons correlation: %.3f' % corrP)\n",
    "\n",
    "# Spearman's correlation\n",
    "corrS, _ = spearmanr(totInd_Fac_2018, totInd_Emp_2018)\n",
    "print('Spearmans correlation: %.3f' % corrS)"
   ]
  },
  {
   "cell_type": "markdown",
   "metadata": {},
   "source": [
    "### Linear regression\n",
    "regressor - # Facilities ; predictor - employee count"
   ]
  },
  {
   "cell_type": "code",
   "execution_count": 388,
   "metadata": {},
   "outputs": [],
   "source": [
    "totInd_Fac_2006 = totInd_Fac_2006.reshape((-1, 1))\n",
    "totInd_Fac_2013 = totInd_Fac_2013.reshape((-1, 1))\n",
    "totInd_Fac_2018 = totInd_Fac_2018.reshape((-1, 1))"
   ]
  },
  {
   "cell_type": "markdown",
   "metadata": {},
   "source": [
    "### Create model"
   ]
  },
  {
   "cell_type": "code",
   "execution_count": 389,
   "metadata": {},
   "outputs": [],
   "source": [
    "model_2006 = LinearRegression().fit(totInd_Fac_2006, totInd_Emp_2006)\n",
    "model_2013 = LinearRegression().fit(totInd_Fac_2013, totInd_Emp_2013)\n",
    "model_2018 = LinearRegression().fit(totInd_Fac_2018, totInd_Emp_2018)"
   ]
  },
  {
   "cell_type": "code",
   "execution_count": 390,
   "metadata": {},
   "outputs": [
    {
     "name": "stdout",
     "output_type": "stream",
     "text": [
      "2006\n",
      "coefficient of determination: 0.7010535962548646\n",
      "intercept: -751.3062256459226\n",
      "slope: [7.20205217]\n",
      "2013\n",
      "coefficient of determination: 0.650676787761086\n",
      "intercept: -762.5558608544247\n",
      "slope: [7.07603927]\n",
      "2018\n",
      "coefficient of determination: 0.6322729216741214\n",
      "intercept: -866.8409294414419\n",
      "slope: [7.24170607]\n"
     ]
    }
   ],
   "source": [
    "print(\"2006\")\n",
    "r_sq = model_2006.score(totInd_Fac_2006, totInd_Emp_2006)\n",
    "print('coefficient of determination:', r_sq)\n",
    "print('intercept:', model_2006.intercept_)\n",
    "print('slope:', model_2006.coef_)\n",
    "\n",
    "\n",
    "print(\"2013\")\n",
    "r_sq = model_2013.score(totInd_Fac_2013, totInd_Emp_2013)\n",
    "print('coefficient of determination:', r_sq)\n",
    "print('intercept:', model_2013.intercept_)\n",
    "print('slope:', model_2013.coef_)\n",
    "\n",
    "\n",
    "print(\"2018\")\n",
    "r_sq = model_2018.score(totInd_Fac_2018, totInd_Emp_2018)\n",
    "print('coefficient of determination:', r_sq)\n",
    "print('intercept:', model_2018.intercept_)\n",
    "print('slope:', model_2018.coef_)"
   ]
  },
  {
   "cell_type": "code",
   "execution_count": 391,
   "metadata": {},
   "outputs": [
    {
     "data": {
      "text/plain": [
       "[<matplotlib.lines.Line2D at 0x1242187c0>]"
      ]
     },
     "execution_count": 391,
     "metadata": {},
     "output_type": "execute_result"
    },
    {
     "data": {
      "image/png": "[encoded data removed]",
      "text/plain": [
       "<Figure size 432x288 with 3 Axes>"
      ]
     },
     "metadata": {
      "needs_background": "light"
     },
     "output_type": "display_data"
    }
   ],
   "source": [
    "fig, (ax1, ax2,ax3) = plt.subplots(1, 3,sharex=True,sharey=True)\n",
    "fig.suptitle('Total Industry')\n",
    "ax1.scatter(totInd_Fac_2006, totInd_Emp_2006)\n",
    "ax1.plot(totInd_Fac_2006,model_2006.coef_*totInd_Fac_2006+model_2006.intercept_,'r')\n",
    "ax2.scatter(totInd_Fac_2013, totInd_Emp_2013)\n",
    "ax2.plot(totInd_Fac_2013,model_2013.coef_*totInd_Fac_2013+model_2013.intercept_,'r')\n",
    "ax3.scatter(totInd_Fac_2018, totInd_Emp_2018)\n",
    "ax3.plot(totInd_Fac_2018,model_2018.coef_*totInd_Fac_2018+model_2018.intercept_,'r')"
   ]
  },
  {
   "cell_type": "markdown",
   "metadata": {},
   "source": [
    "## Wholesale (F)"
   ]
  },
  {
   "cell_type": "markdown",
   "metadata": {},
   "source": [
    "### Scatterplot"
   ]
  },
  {
   "cell_type": "code",
   "execution_count": 392,
   "metadata": {},
   "outputs": [],
   "source": [
    "whole_Fac_2006 = np.array(groupA.loc[(groupA['Year'] == 2006)].F_GeogUnits.tolist())\n",
    "whole_Emp_2006 = np.array(groupA.loc[(groupA['Year'] == 2006)].F_EmpCo.tolist())\n",
    "\n",
    "whole_Fac_2013 = np.array(groupA.loc[(groupA['Year'] == 2013)].F_GeogUnits.tolist())\n",
    "whole_Emp_2013 = np.array(groupA.loc[(groupA['Year'] == 2013)].F_EmpCo.tolist())\n",
    "\n",
    "whole_Fac_2018 = np.array(groupA.loc[(groupA['Year'] == 2018)].F_GeogUnits.tolist())\n",
    "whole_Emp_2018 = np.array(groupA.loc[(groupA['Year'] == 2018)].F_EmpCo.tolist())"
   ]
  },
  {
   "cell_type": "code",
   "execution_count": 393,
   "metadata": {},
   "outputs": [
    {
     "data": {
      "text/plain": [
       "<matplotlib.collections.PathCollection at 0x1240dd4f0>"
      ]
     },
     "execution_count": 393,
     "metadata": {},
     "output_type": "execute_result"
    },
    {
     "data": {
      "image/png": "[encoded data removed]",
      "text/plain": [
       "<Figure size 432x288 with 3 Axes>"
      ]
     },
     "metadata": {
      "needs_background": "light"
     },
     "output_type": "display_data"
    }
   ],
   "source": [
    "fig, (ax1, ax2,ax3) = plt.subplots(1, 3,sharex=True,sharey=True)\n",
    "fig.suptitle('Wholesale')\n",
    "ax1.scatter(whole_Fac_2006, whole_Emp_2006)\n",
    "ax2.scatter(whole_Fac_2013, whole_Emp_2013)\n",
    "ax3.scatter(whole_Fac_2018, whole_Emp_2018)"
   ]
  },
  {
   "cell_type": "markdown",
   "metadata": {},
   "source": [
    "### Correlation tests"
   ]
  },
  {
   "cell_type": "code",
   "execution_count": 394,
   "metadata": {},
   "outputs": [
    {
     "name": "stdout",
     "output_type": "stream",
     "text": [
      "2006\n",
      "[[  676.85589466  5945.02341445]\n",
      " [ 5945.02341445 60615.22738291]]\n",
      "Pearsons correlation: 0.928\n",
      "Spearmans correlation: 0.696\n",
      "2013\n",
      "[[  702.25644283  6528.52540835]\n",
      " [ 6528.52540835 70827.38072192]]\n",
      "Pearsons correlation: 0.926\n",
      "Spearmans correlation: 0.699\n",
      "2018\n",
      "[[  700.7107004   7121.56176834]\n",
      " [ 7121.56176834 86738.44148219]]\n",
      "Pearsons correlation: 0.913\n",
      "Spearmans correlation: 0.717\n"
     ]
    }
   ],
   "source": [
    "# Covariance\n",
    "\n",
    "print(\"2006\")\n",
    "covariance = np.cov([whole_Fac_2006], [whole_Emp_2006])\n",
    "print(covariance)\n",
    "\n",
    "# Pearson's correlation\n",
    "corrP, _ = pearsonr(whole_Fac_2006, whole_Emp_2006)\n",
    "print('Pearsons correlation: %.3f' % corrP)\n",
    "\n",
    "# Spearman's correlation\n",
    "corrS, _ = spearmanr(whole_Fac_2006, whole_Emp_2006)\n",
    "print('Spearmans correlation: %.3f' % corrS)\n",
    "\n",
    "print(\"2013\")\n",
    "covariance = np.cov([whole_Fac_2013], [whole_Emp_2013])\n",
    "print(covariance)\n",
    "\n",
    "# Pearson's correlation\n",
    "corrP, _ = pearsonr(whole_Fac_2013, whole_Emp_2013)\n",
    "print('Pearsons correlation: %.3f' % corrP)\n",
    "\n",
    "# Spearman's correlation\n",
    "corrS, _ = spearmanr(whole_Fac_2013, whole_Emp_2013)\n",
    "print('Spearmans correlation: %.3f' % corrS)\n",
    "\n",
    "print(\"2018\")\n",
    "covariance = np.cov([whole_Fac_2018], [whole_Emp_2018])\n",
    "print(covariance)\n",
    "\n",
    "# Pearson's correlation\n",
    "corrP, _ = pearsonr(whole_Fac_2018, whole_Emp_2018)\n",
    "print('Pearsons correlation: %.3f' % corrP)\n",
    "\n",
    "# Spearman's correlation\n",
    "corrS, _ = spearmanr(whole_Fac_2018, whole_Emp_2018)\n",
    "print('Spearmans correlation: %.3f' % corrS)"
   ]
  },
  {
   "cell_type": "markdown",
   "metadata": {},
   "source": [
    "### Linear regression\n",
    "regressor - # Facilities ; predictor - employee count"
   ]
  },
  {
   "cell_type": "markdown",
   "metadata": {},
   "source": [
    "### Create model"
   ]
  },
  {
   "cell_type": "code",
   "execution_count": 395,
   "metadata": {},
   "outputs": [],
   "source": [
    "whole_Fac_2006 = whole_Fac_2006.reshape((-1, 1))\n",
    "whole_Fac_2013 = whole_Fac_2013.reshape((-1, 1))\n",
    "whole_Fac_2018 = whole_Fac_2018.reshape((-1, 1))"
   ]
  },
  {
   "cell_type": "code",
   "execution_count": 396,
   "metadata": {},
   "outputs": [],
   "source": [
    "model_2006 = LinearRegression().fit(whole_Fac_2006, whole_Emp_2006)\n",
    "model_2013 = LinearRegression().fit(whole_Fac_2013, whole_Emp_2013)\n",
    "model_2018 = LinearRegression().fit(whole_Fac_2018, whole_Emp_2018)"
   ]
  },
  {
   "cell_type": "code",
   "execution_count": 397,
   "metadata": {},
   "outputs": [
    {
     "name": "stdout",
     "output_type": "stream",
     "text": [
      "2006\n",
      "coefficient of determination: 0.8614482333943669\n",
      "intercept: -38.836586124757545\n",
      "slope: [8.78329266]\n",
      "2013\n",
      "coefficient of determination: 0.8569061971531925\n",
      "intercept: -38.468513862366784\n",
      "slope: [9.2964977]\n",
      "2018\n",
      "coefficient of determination: 0.8344496308942759\n",
      "intercept: -43.90684776810022\n",
      "slope: [10.16334097]\n"
     ]
    }
   ],
   "source": [
    "print(\"2006\")\n",
    "r_sq = model_2006.score(whole_Fac_2006, whole_Emp_2006)\n",
    "print('coefficient of determination:', r_sq)\n",
    "print('intercept:', model_2006.intercept_)\n",
    "print('slope:', model_2006.coef_)\n",
    "\n",
    "\n",
    "print(\"2013\")\n",
    "r_sq = model_2013.score(whole_Fac_2013, whole_Emp_2013)\n",
    "print('coefficient of determination:', r_sq)\n",
    "print('intercept:', model_2013.intercept_)\n",
    "print('slope:', model_2013.coef_)\n",
    "\n",
    "\n",
    "print(\"2018\")\n",
    "r_sq = model_2018.score(whole_Fac_2018, whole_Emp_2018)\n",
    "print('coefficient of determination:', r_sq)\n",
    "print('intercept:', model_2018.intercept_)\n",
    "print('slope:', model_2018.coef_)"
   ]
  },
  {
   "cell_type": "code",
   "execution_count": 398,
   "metadata": {},
   "outputs": [
    {
     "data": {
      "text/plain": [
       "[<matplotlib.lines.Line2D at 0x122814820>]"
      ]
     },
     "execution_count": 398,
     "metadata": {},
     "output_type": "execute_result"
    },
    {
     "data": {
      "image/png": "[encoded data removed]",
      "text/plain": [
       "<Figure size 432x288 with 3 Axes>"
      ]
     },
     "metadata": {
      "needs_background": "light"
     },
     "output_type": "display_data"
    }
   ],
   "source": [
    "fig, (ax1, ax2,ax3) = plt.subplots(1, 3,sharex=True,sharey=True)\n",
    "fig.suptitle('Wholesale')\n",
    "ax1.scatter(whole_Fac_2006, whole_Emp_2006)\n",
    "ax1.plot(whole_Fac_2006,model_2006.coef_*whole_Fac_2006+model_2006.intercept_,'r')\n",
    "ax2.scatter(whole_Fac_2013, whole_Emp_2013)\n",
    "ax2.plot(whole_Fac_2013,model_2013.coef_*whole_Fac_2013+model_2013.intercept_,'r')\n",
    "ax3.scatter(whole_Fac_2018, whole_Emp_2018)\n",
    "ax3.plot(whole_Fac_2018,model_2018.coef_*whole_Fac_2018+model_2018.intercept_,'r')"
   ]
  },
  {
   "cell_type": "markdown",
   "metadata": {},
   "source": [
    "## Retail (G)"
   ]
  },
  {
   "cell_type": "markdown",
   "metadata": {},
   "source": [
    "### Scatterplot"
   ]
  },
  {
   "cell_type": "code",
   "execution_count": 399,
   "metadata": {},
   "outputs": [],
   "source": [
    "retail_Fac_2006 = np.array(groupA.loc[(groupA['Year'] == 2006)].G_GeogUnits.tolist())\n",
    "retail_Emp_2006 = np.array(groupA.loc[(groupA['Year'] == 2006)].G_EmpCo.tolist())\n",
    "\n",
    "retail_Fac_2013 = np.array(groupA.loc[(groupA['Year'] == 2013)].G_GeogUnits.tolist())\n",
    "retail_Emp_2013 = np.array(groupA.loc[(groupA['Year'] == 2013)].G_EmpCo.tolist())\n",
    "\n",
    "retail_Fac_2018 = np.array(groupA.loc[(groupA['Year'] == 2018)].G_GeogUnits.tolist())\n",
    "retail_Emp_2018 = np.array(groupA.loc[(groupA['Year'] == 2018)].G_EmpCo.tolist())"
   ]
  },
  {
   "cell_type": "code",
   "execution_count": 400,
   "metadata": {},
   "outputs": [
    {
     "data": {
      "text/plain": [
       "<matplotlib.collections.PathCollection at 0x124835400>"
      ]
     },
     "execution_count": 400,
     "metadata": {},
     "output_type": "execute_result"
    },
    {
     "data": {
      "image/png": "[encoded data removed]",
      "text/plain": [
       "<Figure size 432x288 with 3 Axes>"
      ]
     },
     "metadata": {
      "needs_background": "light"
     },
     "output_type": "display_data"
    }
   ],
   "source": [
    "fig, (ax1, ax2,ax3) = plt.subplots(1, 3,sharex=True,sharey=True)\n",
    "fig.suptitle('Retail')\n",
    "ax1.scatter(retail_Fac_2006, retail_Emp_2006)\n",
    "ax2.scatter(retail_Fac_2013, retail_Emp_2013)\n",
    "ax3.scatter(retail_Fac_2018, retail_Emp_2018)"
   ]
  },
  {
   "cell_type": "markdown",
   "metadata": {},
   "source": [
    "### Correlation tests"
   ]
  },
  {
   "cell_type": "code",
   "execution_count": 401,
   "metadata": {},
   "outputs": [
    {
     "name": "stdout",
     "output_type": "stream",
     "text": [
      "2006\n",
      "[[ 1010.95907997  8400.79329667]\n",
      " [ 8400.79329667 79067.27787984]]\n",
      "Pearsons correlation: 0.940\n",
      "Spearmans correlation: 0.810\n",
      "2013\n",
      "[[  920.61285603  7608.75354951]\n",
      " [ 7608.75354951 71613.8512875 ]]\n",
      "Pearsons correlation: 0.937\n",
      "Spearmans correlation: 0.800\n",
      "2018\n",
      "[[  868.78953665  7785.30125128]\n",
      " [ 7785.30125128 82127.61014276]]\n",
      "Pearsons correlation: 0.922\n",
      "Spearmans correlation: 0.807\n"
     ]
    }
   ],
   "source": [
    "# Covariance\n",
    "\n",
    "print(\"2006\")\n",
    "covariance = np.cov([retail_Fac_2006], [retail_Emp_2006])\n",
    "print(covariance)\n",
    "\n",
    "# Pearson's correlation\n",
    "corrP, _ = pearsonr(retail_Fac_2006, retail_Emp_2006)\n",
    "print('Pearsons correlation: %.3f' % corrP)\n",
    "\n",
    "# Spearman's correlation\n",
    "corrS, _ = spearmanr(retail_Fac_2006, retail_Emp_2006)\n",
    "print('Spearmans correlation: %.3f' % corrS)\n",
    "\n",
    "print(\"2013\")\n",
    "covariance = np.cov([retail_Fac_2013], [retail_Emp_2013])\n",
    "print(covariance)\n",
    "\n",
    "# Pearson's correlation\n",
    "corrP, _ = pearsonr(retail_Fac_2013, retail_Emp_2013)\n",
    "print('Pearsons correlation: %.3f' % corrP)\n",
    "\n",
    "# Spearman's correlation\n",
    "corrS, _ = spearmanr(retail_Fac_2013, retail_Emp_2013)\n",
    "print('Spearmans correlation: %.3f' % corrS)\n",
    "\n",
    "print(\"2018\")\n",
    "covariance = np.cov([retail_Fac_2018], [retail_Emp_2018])\n",
    "print(covariance)\n",
    "\n",
    "# Pearson's correlation\n",
    "corrP, _ = pearsonr(retail_Fac_2018, retail_Emp_2018)\n",
    "print('Pearsons correlation: %.3f' % corrP)\n",
    "\n",
    "# Spearman's correlation\n",
    "corrS, _ = spearmanr(retail_Fac_2018, retail_Emp_2018)\n",
    "print('Spearmans correlation: %.3f' % corrS)"
   ]
  },
  {
   "cell_type": "markdown",
   "metadata": {},
   "source": [
    "### Linear regression\n",
    "regressor - # Facilities ; predictor - employee count"
   ]
  },
  {
   "cell_type": "markdown",
   "metadata": {},
   "source": [
    "### Create model"
   ]
  },
  {
   "cell_type": "code",
   "execution_count": 402,
   "metadata": {},
   "outputs": [],
   "source": [
    "retail_Fac_2006 = retail_Fac_2006.reshape((-1, 1))\n",
    "retail_Fac_2013 = retail_Fac_2013.reshape((-1, 1))\n",
    "retail_Fac_2018 = retail_Fac_2018.reshape((-1, 1))"
   ]
  },
  {
   "cell_type": "code",
   "execution_count": 403,
   "metadata": {},
   "outputs": [],
   "source": [
    "model_2006 = LinearRegression().fit(retail_Fac_2006, retail_Emp_2006)\n",
    "model_2013 = LinearRegression().fit(retail_Fac_2013, retail_Emp_2013)\n",
    "model_2018 = LinearRegression().fit(retail_Fac_2018, retail_Emp_2018)"
   ]
  },
  {
   "cell_type": "code",
   "execution_count": 404,
   "metadata": {},
   "outputs": [
    {
     "name": "stdout",
     "output_type": "stream",
     "text": [
      "2006\n",
      "coefficient of determination: 0.882897390882004\n",
      "intercept: -34.94154563769865\n",
      "slope: [8.30972634]\n",
      "2013\n",
      "coefficient of determination: 0.8781181813717782\n",
      "intercept: -37.685165049048294\n",
      "slope: [8.26487866]\n",
      "2018\n",
      "coefficient of determination: 0.8494681054088666\n",
      "intercept: -45.68184588615922\n",
      "slope: [8.96109003]\n"
     ]
    }
   ],
   "source": [
    "print(\"2006\")\n",
    "r_sq = model_2006.score(retail_Fac_2006, retail_Emp_2006)\n",
    "print('coefficient of determination:', r_sq)\n",
    "print('intercept:', model_2006.intercept_)\n",
    "print('slope:', model_2006.coef_)\n",
    "\n",
    "\n",
    "print(\"2013\")\n",
    "r_sq = model_2013.score(retail_Fac_2013, retail_Emp_2013)\n",
    "print('coefficient of determination:', r_sq)\n",
    "print('intercept:', model_2013.intercept_)\n",
    "print('slope:', model_2013.coef_)\n",
    "\n",
    "\n",
    "print(\"2018\")\n",
    "r_sq = model_2018.score(retail_Fac_2018, retail_Emp_2018)\n",
    "print('coefficient of determination:', r_sq)\n",
    "print('intercept:', model_2018.intercept_)\n",
    "print('slope:', model_2018.coef_)"
   ]
  },
  {
   "cell_type": "code",
   "execution_count": 405,
   "metadata": {},
   "outputs": [
    {
     "data": {
      "text/plain": [
       "[<matplotlib.lines.Line2D at 0x1249ec760>]"
      ]
     },
     "execution_count": 405,
     "metadata": {},
     "output_type": "execute_result"
    },
    {
     "data": {
      "image/png": "[encoded data removed]",
      "text/plain": [
       "<Figure size 432x288 with 3 Axes>"
      ]
     },
     "metadata": {
      "needs_background": "light"
     },
     "output_type": "display_data"
    }
   ],
   "source": [
    "fig, (ax1, ax2,ax3) = plt.subplots(1, 3,sharex=True,sharey=True)\n",
    "fig.suptitle('Retail')\n",
    "ax1.scatter(retail_Fac_2006, retail_Emp_2006)\n",
    "ax1.plot(retail_Fac_2006,model_2006.coef_*retail_Fac_2006+model_2006.intercept_,'r')\n",
    "ax2.scatter(retail_Fac_2013, retail_Emp_2013)\n",
    "ax2.plot(retail_Fac_2013,model_2013.coef_*retail_Fac_2013+model_2013.intercept_,'r')\n",
    "ax3.scatter(retail_Fac_2018, retail_Emp_2018)\n",
    "ax3.plot(retail_Fac_2018,model_2018.coef_*retail_Fac_2018+model_2018.intercept_,'r')"
   ]
  },
  {
   "cell_type": "markdown",
   "metadata": {},
   "source": [
    "## TransPostWare "
   ]
  },
  {
   "cell_type": "code",
   "execution_count": 406,
   "metadata": {},
   "outputs": [],
   "source": [
    "groupA['TransPostWare_GeogUnits']=groupA['I461_GeogUnits']+groupA['I471_GeogUnits']+groupA['I481_GeogUnits']+groupA['I51_GeogUnits']+groupA['I53_GeogUnits']\n",
    "groupA['TransPostWare_EmpCo']=groupA['I461_EmpCo']+groupA['I471_EmpCo']+groupA['I481_EmpCo']+groupA['I51_EmpCo']+groupA['I53_EmpCo']"
   ]
  },
  {
   "cell_type": "markdown",
   "metadata": {},
   "source": [
    "### Scatterplot"
   ]
  },
  {
   "cell_type": "code",
   "execution_count": 407,
   "metadata": {},
   "outputs": [],
   "source": [
    "tpw_Fac_2006 = np.array(groupA.loc[(groupA['Year'] == 2006)].TransPostWare_GeogUnits.tolist())\n",
    "tpw_Emp_2006 = np.array(groupA.loc[(groupA['Year'] == 2006)].TransPostWare_EmpCo.tolist())\n",
    "\n",
    "tpw_Fac_2013 = np.array(groupA.loc[(groupA['Year'] == 2013)].TransPostWare_GeogUnits.tolist())\n",
    "tpw_Emp_2013 = np.array(groupA.loc[(groupA['Year'] == 2013)].TransPostWare_EmpCo.tolist())\n",
    "\n",
    "tpw_Fac_2018 = np.array(groupA.loc[(groupA['Year'] == 2018)].TransPostWare_GeogUnits.tolist())\n",
    "tpw_Emp_2018 = np.array(groupA.loc[(groupA['Year'] == 2018)].TransPostWare_EmpCo.tolist())"
   ]
  },
  {
   "cell_type": "code",
   "execution_count": 408,
   "metadata": {},
   "outputs": [
    {
     "data": {
      "text/plain": [
       "<matplotlib.collections.PathCollection at 0x124da3fd0>"
      ]
     },
     "execution_count": 408,
     "metadata": {},
     "output_type": "execute_result"
    },
    {
     "data": {
      "image/png": "[encoded data removed]",
      "text/plain": [
       "<Figure size 432x288 with 3 Axes>"
      ]
     },
     "metadata": {
      "needs_background": "light"
     },
     "output_type": "display_data"
    }
   ],
   "source": [
    "fig, (ax1, ax2,ax3) = plt.subplots(1, 3,sharex=True,sharey=True)\n",
    "fig.suptitle('Transport Post Warehouse')\n",
    "ax1.scatter(tpw_Fac_2006, tpw_Emp_2006)\n",
    "ax2.scatter(tpw_Fac_2013, tpw_Emp_2013)\n",
    "ax3.scatter(tpw_Fac_2018, tpw_Emp_2018)"
   ]
  },
  {
   "cell_type": "markdown",
   "metadata": {},
   "source": [
    "### Correlation tests"
   ]
  },
  {
   "cell_type": "code",
   "execution_count": 409,
   "metadata": {},
   "outputs": [
    {
     "name": "stdout",
     "output_type": "stream",
     "text": [
      "2006\n",
      "[[  28.2268047   341.54655728]\n",
      " [ 341.54655728 9829.42002667]]\n",
      "Pearsons correlation: 0.648\n",
      "Spearmans correlation: 0.546\n",
      "2013\n",
      "[[  26.23638653  315.18580565]\n",
      " [ 315.18580565 8154.84446008]]\n",
      "Pearsons correlation: 0.681\n",
      "Spearmans correlation: 0.562\n",
      "2018\n",
      "[[   29.29055521   355.58771806]\n",
      " [  355.58771806 10494.26540613]]\n",
      "Pearsons correlation: 0.641\n",
      "Spearmans correlation: 0.587\n"
     ]
    }
   ],
   "source": [
    "# Covariance\n",
    "\n",
    "print(\"2006\")\n",
    "covariance = np.cov([tpw_Fac_2006], [tpw_Emp_2006])\n",
    "print(covariance)\n",
    "\n",
    "# Pearson's correlation\n",
    "corrP, _ = pearsonr(tpw_Fac_2006, tpw_Emp_2006)\n",
    "print('Pearsons correlation: %.3f' % corrP)\n",
    "\n",
    "# Spearman's correlation\n",
    "corrS, _ = spearmanr(tpw_Fac_2006, tpw_Emp_2006)\n",
    "print('Spearmans correlation: %.3f' % corrS)\n",
    "\n",
    "print(\"2013\")\n",
    "covariance = np.cov([tpw_Fac_2013], [tpw_Emp_2013])\n",
    "print(covariance)\n",
    "\n",
    "# Pearson's correlation\n",
    "corrP, _ = pearsonr(tpw_Fac_2013, tpw_Emp_2013)\n",
    "print('Pearsons correlation: %.3f' % corrP)\n",
    "\n",
    "# Spearman's correlation\n",
    "corrS, _ = spearmanr(tpw_Fac_2013, tpw_Emp_2013)\n",
    "print('Spearmans correlation: %.3f' % corrS)\n",
    "\n",
    "print(\"2018\")\n",
    "covariance = np.cov([tpw_Fac_2018], [tpw_Emp_2018])\n",
    "print(covariance)\n",
    "\n",
    "# Pearson's correlation\n",
    "corrP, _ = pearsonr(tpw_Fac_2018, tpw_Emp_2018)\n",
    "print('Pearsons correlation: %.3f' % corrP)\n",
    "\n",
    "# Spearman's correlation\n",
    "corrS, _ = spearmanr(tpw_Fac_2018, tpw_Emp_2018)\n",
    "print('Spearmans correlation: %.3f' % corrS)"
   ]
  },
  {
   "cell_type": "markdown",
   "metadata": {},
   "source": [
    "### Linear regression\n",
    "regressor - # Facilities ; predictor - employee count"
   ]
  },
  {
   "cell_type": "markdown",
   "metadata": {},
   "source": [
    "### Create model"
   ]
  },
  {
   "cell_type": "code",
   "execution_count": 410,
   "metadata": {},
   "outputs": [],
   "source": [
    "tpw_Fac_2006 = tpw_Fac_2006.reshape((-1, 1))\n",
    "tpw_Fac_2013 = tpw_Fac_2013.reshape((-1, 1))\n",
    "tpw_Fac_2018 = tpw_Fac_2018.reshape((-1, 1))"
   ]
  },
  {
   "cell_type": "code",
   "execution_count": 411,
   "metadata": {},
   "outputs": [],
   "source": [
    "model_2006 = LinearRegression().fit(tpw_Fac_2006, tpw_Emp_2006)\n",
    "model_2013 = LinearRegression().fit(tpw_Fac_2013, tpw_Emp_2013)\n",
    "model_2018 = LinearRegression().fit(tpw_Fac_2018, tpw_Emp_2018)"
   ]
  },
  {
   "cell_type": "code",
   "execution_count": 412,
   "metadata": {},
   "outputs": [
    {
     "name": "stdout",
     "output_type": "stream",
     "text": [
      "2006\n",
      "coefficient of determination: 0.4204459876092096\n",
      "intercept: -32.40580071657688\n",
      "slope: [12.10007866]\n",
      "2013\n",
      "coefficient of determination: 0.46431594621250527\n",
      "intercept: -30.53433569156313\n",
      "slope: [12.01330851]\n",
      "2018\n",
      "coefficient of determination: 0.41135223072105087\n",
      "intercept: -31.470859518848773\n",
      "slope: [12.1400129]\n"
     ]
    }
   ],
   "source": [
    "print(\"2006\")\n",
    "r_sq = model_2006.score(tpw_Fac_2006, tpw_Emp_2006)\n",
    "print('coefficient of determination:', r_sq)\n",
    "print('intercept:', model_2006.intercept_)\n",
    "print('slope:', model_2006.coef_)\n",
    "\n",
    "\n",
    "print(\"2013\")\n",
    "r_sq = model_2013.score(tpw_Fac_2013, tpw_Emp_2013)\n",
    "print('coefficient of determination:', r_sq)\n",
    "print('intercept:', model_2013.intercept_)\n",
    "print('slope:', model_2013.coef_)\n",
    "\n",
    "\n",
    "print(\"2018\")\n",
    "r_sq = model_2018.score(tpw_Fac_2018, tpw_Emp_2018)\n",
    "print('coefficient of determination:', r_sq)\n",
    "print('intercept:', model_2018.intercept_)\n",
    "print('slope:', model_2018.coef_)"
   ]
  },
  {
   "cell_type": "code",
   "execution_count": 413,
   "metadata": {},
   "outputs": [
    {
     "data": {
      "text/plain": [
       "[<matplotlib.lines.Line2D at 0x124f56400>]"
      ]
     },
     "execution_count": 413,
     "metadata": {},
     "output_type": "execute_result"
    },
    {
     "data": {
      "image/png": "[encoded data removed]",
      "text/plain": [
       "<Figure size 432x288 with 3 Axes>"
      ]
     },
     "metadata": {
      "needs_background": "light"
     },
     "output_type": "display_data"
    }
   ],
   "source": [
    "fig, (ax1, ax2,ax3) = plt.subplots(1, 3,sharex=True,sharey=True)\n",
    "fig.suptitle('Transport Post Warehouse')\n",
    "ax1.scatter(tpw_Fac_2006, tpw_Emp_2006)\n",
    "ax1.plot(tpw_Fac_2006,model_2006.coef_*tpw_Fac_2006+model_2006.intercept_,'r')\n",
    "ax2.scatter(tpw_Fac_2013, tpw_Emp_2013)\n",
    "ax2.plot(tpw_Fac_2013,model_2013.coef_*tpw_Fac_2013+model_2013.intercept_,'r')\n",
    "ax3.scatter(tpw_Fac_2018, tpw_Emp_2018)\n",
    "ax3.plot(tpw_Fac_2018,model_2018.coef_*tpw_Fac_2018+model_2018.intercept_,'r')\n"
   ]
  },
  {
   "cell_type": "markdown",
   "metadata": {},
   "source": [
    "## Transport"
   ]
  },
  {
   "cell_type": "code",
   "execution_count": 414,
   "metadata": {},
   "outputs": [],
   "source": [
    "groupA['Transport_GeogUnits']=groupA['I461_GeogUnits']+groupA['I471_GeogUnits']+groupA['I481_GeogUnits']\n",
    "groupA['Transport_EmpCo']=groupA['I461_EmpCo']+groupA['I471_EmpCo']+groupA['I481_EmpCo']"
   ]
  },
  {
   "cell_type": "markdown",
   "metadata": {},
   "source": [
    "### Scatterplot"
   ]
  },
  {
   "cell_type": "code",
   "execution_count": 415,
   "metadata": {},
   "outputs": [],
   "source": [
    "trans_Fac_2006 = np.array(groupA.loc[(groupA['Year'] == 2006)].Transport_GeogUnits.tolist())\n",
    "trans_Emp_2006 = np.array(groupA.loc[(groupA['Year'] == 2006)].Transport_EmpCo.tolist())\n",
    "\n",
    "trans_Fac_2013 = np.array(groupA.loc[(groupA['Year'] == 2013)].Transport_GeogUnits.tolist())\n",
    "trans_Emp_2013 = np.array(groupA.loc[(groupA['Year'] == 2013)].Transport_EmpCo.tolist())\n",
    "\n",
    "trans_Fac_2018 = np.array(groupA.loc[(groupA['Year'] == 2018)].Transport_GeogUnits.tolist())\n",
    "trans_Emp_2018 = np.array(groupA.loc[(groupA['Year'] == 2018)].Transport_EmpCo.tolist())"
   ]
  },
  {
   "cell_type": "code",
   "execution_count": 416,
   "metadata": {},
   "outputs": [
    {
     "data": {
      "text/plain": [
       "<matplotlib.collections.PathCollection at 0x12532eeb0>"
      ]
     },
     "execution_count": 416,
     "metadata": {},
     "output_type": "execute_result"
    },
    {
     "data": {
      "image/png": "[encoded data removed]",
      "text/plain": [
       "<Figure size 432x288 with 3 Axes>"
      ]
     },
     "metadata": {
      "needs_background": "light"
     },
     "output_type": "display_data"
    }
   ],
   "source": [
    "fig, (ax1, ax2,ax3) = plt.subplots(1, 3,sharex=True,sharey=True)\n",
    "fig.suptitle('Transport')\n",
    "ax1.scatter(trans_Fac_2006, trans_Emp_2006)\n",
    "ax2.scatter(trans_Fac_2013, trans_Emp_2013)\n",
    "ax3.scatter(trans_Fac_2018, trans_Emp_2018)"
   ]
  },
  {
   "cell_type": "markdown",
   "metadata": {},
   "source": [
    "### Correlation tests"
   ]
  },
  {
   "cell_type": "code",
   "execution_count": 417,
   "metadata": {},
   "outputs": [
    {
     "name": "stdout",
     "output_type": "stream",
     "text": [
      "2006\n",
      "[[  11.29891107   95.36947541]\n",
      " [  95.36947541 2133.71605409]]\n",
      "Pearsons correlation: 0.614\n",
      "Spearmans correlation: 0.588\n",
      "2013\n",
      "[[  10.39535538  107.89695359]\n",
      " [ 107.89695359 2442.17822142]]\n",
      "Pearsons correlation: 0.677\n",
      "Spearmans correlation: 0.610\n",
      "2018\n",
      "[[  10.62066002  115.91375977]\n",
      " [ 115.91375977 3285.07483899]]\n",
      "Pearsons correlation: 0.621\n",
      "Spearmans correlation: 0.610\n"
     ]
    }
   ],
   "source": [
    "# Covariance\n",
    "\n",
    "print(\"2006\")\n",
    "covariance = np.cov([trans_Fac_2006], [trans_Emp_2006])\n",
    "print(covariance)\n",
    "\n",
    "# Pearson's correlation\n",
    "corrP, _ = pearsonr(trans_Fac_2006, trans_Emp_2006)\n",
    "print('Pearsons correlation: %.3f' % corrP)\n",
    "\n",
    "# Spearman's correlation\n",
    "corrS, _ = spearmanr(trans_Fac_2006, trans_Emp_2006)\n",
    "print('Spearmans correlation: %.3f' % corrS)\n",
    "\n",
    "print(\"2013\")\n",
    "covariance = np.cov([trans_Fac_2013], [trans_Emp_2013])\n",
    "print(covariance)\n",
    "\n",
    "# Pearson's correlation\n",
    "corrP, _ = pearsonr(trans_Fac_2013, trans_Emp_2013)\n",
    "print('Pearsons correlation: %.3f' % corrP)\n",
    "\n",
    "# Spearman's correlation\n",
    "corrS, _ = spearmanr(trans_Fac_2013, trans_Emp_2013)\n",
    "print('Spearmans correlation: %.3f' % corrS)\n",
    "\n",
    "print(\"2018\")\n",
    "covariance = np.cov([trans_Fac_2018], [trans_Emp_2018])\n",
    "print(covariance)\n",
    "\n",
    "# Pearson's correlation\n",
    "corrP, _ = pearsonr(trans_Fac_2018, trans_Emp_2018)\n",
    "print('Pearsons correlation: %.3f' % corrP)\n",
    "\n",
    "# Spearman's correlation\n",
    "corrS, _ = spearmanr(trans_Fac_2018, trans_Emp_2018)\n",
    "print('Spearmans correlation: %.3f' % corrS)"
   ]
  },
  {
   "cell_type": "markdown",
   "metadata": {},
   "source": [
    "### Linear regression\n",
    "regressor - # Facilities ; predictor - employee count"
   ]
  },
  {
   "cell_type": "markdown",
   "metadata": {},
   "source": [
    "### Create model"
   ]
  },
  {
   "cell_type": "code",
   "execution_count": 418,
   "metadata": {},
   "outputs": [],
   "source": [
    "trans_Fac_2006 = trans_Fac_2006.reshape((-1, 1))\n",
    "trans_Fac_2013 = trans_Fac_2013.reshape((-1, 1))\n",
    "trans_Fac_2018 = trans_Fac_2018.reshape((-1, 1))"
   ]
  },
  {
   "cell_type": "code",
   "execution_count": 419,
   "metadata": {},
   "outputs": [],
   "source": [
    "model_2006 = LinearRegression().fit(trans_Fac_2006, trans_Emp_2006)\n",
    "model_2013 = LinearRegression().fit(trans_Fac_2013, trans_Emp_2013)\n",
    "model_2018 = LinearRegression().fit(trans_Fac_2018, trans_Emp_2018)"
   ]
  },
  {
   "cell_type": "code",
   "execution_count": 420,
   "metadata": {},
   "outputs": [
    {
     "name": "stdout",
     "output_type": "stream",
     "text": [
      "2006\n",
      "coefficient of determination: 0.37726417988141026\n",
      "intercept: -9.262765304975147\n",
      "slope: [8.44058997]\n",
      "2013\n",
      "coefficient of determination: 0.45856580925789914\n",
      "intercept: -11.178398064306018\n",
      "slope: [10.37934247]\n",
      "2018\n",
      "coefficient of determination: 0.3850997269925057\n",
      "intercept: -10.908135109950486\n",
      "slope: [10.91398835]\n"
     ]
    }
   ],
   "source": [
    "print(\"2006\")\n",
    "r_sq = model_2006.score(trans_Fac_2006, trans_Emp_2006)\n",
    "print('coefficient of determination:', r_sq)\n",
    "print('intercept:', model_2006.intercept_)\n",
    "print('slope:', model_2006.coef_)\n",
    "\n",
    "\n",
    "print(\"2013\")\n",
    "r_sq = model_2013.score(trans_Fac_2013, trans_Emp_2013)\n",
    "print('coefficient of determination:', r_sq)\n",
    "print('intercept:', model_2013.intercept_)\n",
    "print('slope:', model_2013.coef_)\n",
    "\n",
    "\n",
    "print(\"2018\")\n",
    "r_sq = model_2018.score(trans_Fac_2018, trans_Emp_2018)\n",
    "print('coefficient of determination:', r_sq)\n",
    "print('intercept:', model_2018.intercept_)\n",
    "print('slope:', model_2018.coef_)"
   ]
  },
  {
   "cell_type": "code",
   "execution_count": 421,
   "metadata": {},
   "outputs": [
    {
     "data": {
      "text/plain": [
       "[<matplotlib.lines.Line2D at 0x1256947c0>]"
      ]
     },
     "execution_count": 421,
     "metadata": {},
     "output_type": "execute_result"
    },
    {
     "data": {
      "image/png": "[encoded data removed]",
      "text/plain": [
       "<Figure size 432x288 with 3 Axes>"
      ]
     },
     "metadata": {
      "needs_background": "light"
     },
     "output_type": "display_data"
    }
   ],
   "source": [
    "fig, (ax1, ax2,ax3) = plt.subplots(1, 3,sharex=True,sharey=True)\n",
    "fig.suptitle('Transport')\n",
    "ax1.scatter(trans_Fac_2006, trans_Emp_2006)\n",
    "ax1.plot(trans_Fac_2006,model_2006.coef_*trans_Fac_2006+model_2006.intercept_,'r')\n",
    "ax2.scatter(trans_Fac_2013, trans_Emp_2013)\n",
    "ax2.plot(trans_Fac_2013,model_2013.coef_*trans_Fac_2013+model_2013.intercept_,'r')\n",
    "ax3.scatter(trans_Fac_2018, trans_Emp_2018)\n",
    "ax3.plot(trans_Fac_2018,model_2018.coef_*trans_Fac_2018+model_2018.intercept_,'r')\n"
   ]
  },
  {
   "cell_type": "markdown",
   "metadata": {},
   "source": [
    "## Post and storage"
   ]
  },
  {
   "cell_type": "code",
   "execution_count": 422,
   "metadata": {},
   "outputs": [],
   "source": [
    "groupA['Storage_GeogUnits']=groupA['I51_GeogUnits']+groupA['I53_GeogUnits']\n",
    "groupA['Storage_EmpCo']=groupA['I51_EmpCo']+groupA['I53_EmpCo']"
   ]
  },
  {
   "cell_type": "markdown",
   "metadata": {},
   "source": [
    "### Scatterplot"
   ]
  },
  {
   "cell_type": "code",
   "execution_count": 423,
   "metadata": {},
   "outputs": [],
   "source": [
    "stor_Fac_2006 = np.array(groupA.loc[(groupA['Year'] == 2006)].Storage_GeogUnits.tolist())\n",
    "stor_Emp_2006 = np.array(groupA.loc[(groupA['Year'] == 2006)].Storage_EmpCo.tolist())\n",
    "\n",
    "stor_Fac_2013 = np.array(groupA.loc[(groupA['Year'] == 2013)].Storage_GeogUnits.tolist())\n",
    "stor_Emp_2013 = np.array(groupA.loc[(groupA['Year'] == 2013)].Storage_EmpCo.tolist())\n",
    "\n",
    "stor_Fac_2018 = np.array(groupA.loc[(groupA['Year'] == 2018)].Storage_GeogUnits.tolist())\n",
    "stor_Emp_2018 = np.array(groupA.loc[(groupA['Year'] == 2018)].Storage_EmpCo.tolist())"
   ]
  },
  {
   "cell_type": "code",
   "execution_count": 424,
   "metadata": {},
   "outputs": [
    {
     "data": {
      "text/plain": [
       "<matplotlib.collections.PathCollection at 0x125b017c0>"
      ]
     },
     "execution_count": 424,
     "metadata": {},
     "output_type": "execute_result"
    },
    {
     "data": {
      "image/png": "[encoded data removed]",
      "text/plain": [
       "<Figure size 432x288 with 3 Axes>"
      ]
     },
     "metadata": {
      "needs_background": "light"
     },
     "output_type": "display_data"
    }
   ],
   "source": [
    "fig, (ax1, ax2,ax3) = plt.subplots(1, 3,sharex=True,sharey=True)\n",
    "fig.suptitle('Storage')\n",
    "ax1.scatter(stor_Fac_2006, stor_Emp_2006)\n",
    "ax2.scatter(stor_Fac_2013, stor_Emp_2013)\n",
    "ax3.scatter(stor_Fac_2018, stor_Emp_2018)"
   ]
  },
  {
   "cell_type": "markdown",
   "metadata": {},
   "source": [
    "### Correlation tests"
   ]
  },
  {
   "cell_type": "code",
   "execution_count": 425,
   "metadata": {},
   "outputs": [
    {
     "name": "stdout",
     "output_type": "stream",
     "text": [
      "2006\n",
      "[[   8.36108004   98.20523291]\n",
      " [  98.20523291 4179.27455132]]\n",
      "Pearsons correlation: 0.525\n",
      "Spearmans correlation: 0.433\n",
      "2013\n",
      "[[   7.96439868   71.71907602]\n",
      " [  71.71907602 2588.04572186]]\n",
      "Pearsons correlation: 0.500\n",
      "Spearmans correlation: 0.465\n",
      "2018\n",
      "[[   9.62612689   90.4809888 ]\n",
      " [  90.4809888  3418.42043821]]\n",
      "Pearsons correlation: 0.499\n",
      "Spearmans correlation: 0.482\n"
     ]
    }
   ],
   "source": [
    "# Covariance\n",
    "\n",
    "print(\"2006\")\n",
    "covariance = np.cov([stor_Fac_2006], [stor_Emp_2006])\n",
    "print(covariance)\n",
    "\n",
    "# Pearson's correlation\n",
    "corrP, _ = pearsonr(stor_Fac_2006, stor_Emp_2006)\n",
    "print('Pearsons correlation: %.3f' % corrP)\n",
    "\n",
    "# Spearman's correlation\n",
    "corrS, _ = spearmanr(stor_Fac_2006, stor_Emp_2006)\n",
    "print('Spearmans correlation: %.3f' % corrS)\n",
    "\n",
    "print(\"2013\")\n",
    "covariance = np.cov([stor_Fac_2013], [stor_Emp_2013])\n",
    "print(covariance)\n",
    "\n",
    "# Pearson's correlation\n",
    "corrP, _ = pearsonr(stor_Fac_2013, stor_Emp_2013)\n",
    "print('Pearsons correlation: %.3f' % corrP)\n",
    "\n",
    "# Spearman's correlation\n",
    "corrS, _ = spearmanr(stor_Fac_2013, stor_Emp_2013)\n",
    "print('Spearmans correlation: %.3f' % corrS)\n",
    "\n",
    "print(\"2018\")\n",
    "covariance = np.cov([stor_Fac_2018], [stor_Emp_2018])\n",
    "print(covariance)\n",
    "\n",
    "# Pearson's correlation\n",
    "corrP, _ = pearsonr(stor_Fac_2018, stor_Emp_2018)\n",
    "print('Pearsons correlation: %.3f' % corrP)\n",
    "\n",
    "# Spearman's correlation\n",
    "corrS, _ = spearmanr(stor_Fac_2018, stor_Emp_2018)\n",
    "print('Spearmans correlation: %.3f' % corrS)"
   ]
  },
  {
   "cell_type": "markdown",
   "metadata": {},
   "source": [
    "### Linear regression\n",
    "regressor - # Facilities ; predictor - employee count"
   ]
  },
  {
   "cell_type": "markdown",
   "metadata": {},
   "source": [
    "### Create model"
   ]
  },
  {
   "cell_type": "code",
   "execution_count": 426,
   "metadata": {},
   "outputs": [],
   "source": [
    "stor_Fac_2006 = stor_Fac_2006.reshape((-1, 1))\n",
    "stor_Fac_2013 = stor_Fac_2013.reshape((-1, 1))\n",
    "stor_Fac_2018 = stor_Fac_2018.reshape((-1, 1))"
   ]
  },
  {
   "cell_type": "code",
   "execution_count": 427,
   "metadata": {},
   "outputs": [],
   "source": [
    "model_2006 = LinearRegression().fit(stor_Fac_2006, stor_Emp_2006)\n",
    "model_2013 = LinearRegression().fit(stor_Fac_2013, stor_Emp_2013)\n",
    "model_2018 = LinearRegression().fit(stor_Fac_2018, stor_Emp_2018)"
   ]
  },
  {
   "cell_type": "code",
   "execution_count": 428,
   "metadata": {},
   "outputs": [
    {
     "name": "stdout",
     "output_type": "stream",
     "text": [
      "2006\n",
      "coefficient of determination: 0.27599802645270033\n",
      "intercept: -12.997152707884485\n",
      "slope: [11.74552001]\n",
      "2013\n",
      "coefficient of determination: 0.24954245027637068\n",
      "intercept: -9.845839758769468\n",
      "slope: [9.00495805]\n",
      "2018\n",
      "coefficient of determination: 0.24879269087496647\n",
      "intercept: -12.03910355611744\n",
      "slope: [9.39952172]\n"
     ]
    }
   ],
   "source": [
    "print(\"2006\")\n",
    "r_sq = model_2006.score(stor_Fac_2006, stor_Emp_2006)\n",
    "print('coefficient of determination:', r_sq)\n",
    "print('intercept:', model_2006.intercept_)\n",
    "print('slope:', model_2006.coef_)\n",
    "\n",
    "\n",
    "print(\"2013\")\n",
    "r_sq = model_2013.score(stor_Fac_2013, stor_Emp_2013)\n",
    "print('coefficient of determination:', r_sq)\n",
    "print('intercept:', model_2013.intercept_)\n",
    "print('slope:', model_2013.coef_)\n",
    "\n",
    "\n",
    "print(\"2018\")\n",
    "r_sq = model_2018.score(stor_Fac_2018, stor_Emp_2018)\n",
    "print('coefficient of determination:', r_sq)\n",
    "print('intercept:', model_2018.intercept_)\n",
    "print('slope:', model_2018.coef_)"
   ]
  },
  {
   "cell_type": "code",
   "execution_count": 429,
   "metadata": {},
   "outputs": [
    {
     "data": {
      "text/plain": [
       "[<matplotlib.lines.Line2D at 0x125c27c40>]"
      ]
     },
     "execution_count": 429,
     "metadata": {},
     "output_type": "execute_result"
    },
    {
     "data": {
      "image/png": "[encoded data removed]",
      "text/plain": [
       "<Figure size 432x288 with 3 Axes>"
      ]
     },
     "metadata": {
      "needs_background": "light"
     },
     "output_type": "display_data"
    }
   ],
   "source": [
    "fig, (ax1, ax2,ax3) = plt.subplots(1, 3,sharex=True,sharey=True)\n",
    "fig.suptitle('Storage')\n",
    "ax1.scatter(stor_Fac_2006, stor_Emp_2006)\n",
    "ax1.plot(stor_Fac_2006,model_2006.coef_*stor_Fac_2006+model_2006.intercept_,'r')\n",
    "ax2.scatter(stor_Fac_2013, stor_Emp_2013)\n",
    "ax2.plot(stor_Fac_2013,model_2013.coef_*stor_Fac_2013+model_2013.intercept_,'r')\n",
    "ax3.scatter(stor_Fac_2018, stor_Emp_2018)\n",
    "ax3.plot(stor_Fac_2018,model_2018.coef_*stor_Fac_2018+model_2018.intercept_,'r')\n"
   ]
  },
  {
   "cell_type": "code",
   "execution_count": null,
   "metadata": {},
   "outputs": [],
   "source": []
  },
  {
   "cell_type": "code",
   "execution_count": null,
   "metadata": {},
   "outputs": [],
   "source": []
  }
 ],
 "metadata": {
  "kernelspec": {
   "display_name": "Python 3",
   "language": "python",
   "name": "python3"
  },
  "language_info": {
   "codemirror_mode": {
    "name": "ipython",
    "version": 3
   },
   "file_extension": ".py",
   "mimetype": "text/x-python",
   "name": "python",
   "nbconvert_exporter": "python",
   "pygments_lexer": "ipython3",
   "version": "3.8.5"
  }
 },
 "nbformat": 4,
 "nbformat_minor": 4
}
