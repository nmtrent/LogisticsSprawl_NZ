{
 "cells": [
  {
   "cell_type": "markdown",
   "id": "boolean-reverse",
   "metadata": {},
   "source": [
    "## Regression analysis\n",
    "\n",
    "In this notebook I want to investigate whether there are relationships between demographics and the number of facilities or employment in specific areas. \n",
    "\n",
    "I could also extend the analysis by including spatial data \"distance to port\" or \"distance to airport\" for example. \n",
    "\n",
    "I am starting by using this blog as a resource:\n",
    "http://darribas.org/gds_scipy16/ipynb_md/08_spatial_regression.html\n",
    "\n",
    "How to interpret OLS results\n",
    "https://medium.com/@jyotiyadav99111/statistics-how-should-i-interpret-results-of-ols-3bde1ebeec01\n",
    "\n",
    "I watched this video:\n",
    "https://pysal.org/spreg/"
   ]
  },
  {
   "cell_type": "markdown",
   "id": "academic-packet",
   "metadata": {},
   "source": [
    "### OLS method\n",
    "\n",
    "Let's start with the following independent variables:\n",
    "* Population density (continuous data) Group E - TotPeople\n",
    "* Ethnicity (categorical data) Group E - European,Maori,Pacific\tAsian,MidELatinAfr,Other,NZ,OtherNEC,NotElseIncl\t\n",
    "* Income per capita (categorical data)  Group D: less5k_TotInd, bet5k10k_TotInd, bet10k20k_TotInd, bet20k30k_TotInd, bet30k50k_TotInd, bet50k70k_TotInd, greater70k_TotInd\n",
    "* Workforce density (continuous data) - Group F, TotPeople\n",
    "\n",
    "And we'll test for each of these dependent variables (GroupA file):\n",
    "* Wholesale facilities (F_GeogUnits)\n",
    "* Retail facilities (G_GeogUnits)\n",
    "* Transport, postal and storage facilities (I461_GeogUnits + I471_GeogUnits + I481_GeogUnits)\n",
    "* Storage, distribution and courier (I51_GeogUnits + I53_GeogUnits)\n",
    "\n",
    "And we want to do this for specific areas:\n",
    "* Auckland Region (Auckland)\n",
    "* Waikato Region (Hamilton)\n",
    "* Bay of Plenty Region (Tauranga)\n",
    "* Wellington Region (Wellington)\n",
    "* Canterbury Region (Christchurch)\n",
    "\n",
    "For the following time stamps (census stamps):\n",
    "* 2006\n",
    "* 2013\n",
    "* 2018\n"
   ]
  },
  {
   "cell_type": "markdown",
   "id": "suburban-religion",
   "metadata": {},
   "source": [
    "### Create a dataframe with the necessary data"
   ]
  },
  {
   "cell_type": "code",
   "execution_count": 110,
   "id": "tropical-talent",
   "metadata": {},
   "outputs": [],
   "source": [
    "import pandas as pd\n",
    "import math\n",
    "import numpy as np\n",
    "\n",
    "def readFiles(input_filename):\n",
    "    df=pd.read_csv(input_filename)\n",
    "    df=df.drop(\"Unnamed: 0\",axis=1)\n",
    "    #Strip all leading whitespace in Area column\n",
    "    df['Area'] = df['Area'].apply(lambda x: x.strip())\n",
    "    return(df)\n",
    "\n",
    "def combine(df_A,df_D,df_E,df_F):\n",
    "    ## Delete the employment columns\n",
    "    df_A=df_A.drop(['TotInd_EmpCo','F_EmpCo','G_EmpCo','I461_EmpCo','I471_EmpCo','I481_EmpCo','I51_EmpCo','I53_EmpCo'],axis='columns')\n",
    "    ## Combine the transport and warehousing columns\n",
    "    transport=df_A[['I471_GeogUnits','I461_GeogUnits','I481_GeogUnits']]\n",
    "    df_A['Trans_GeogUnits']=transport.sum(axis='columns',skipna=True)\n",
    "    storage=df_A[['I51_GeogUnits','I53_GeogUnits']]\n",
    "    df_A['Storage_GeogUnits']=storage.sum(axis='columns',skipna=True)\n",
    "    df_A=df_A.drop(['I51_GeogUnits','I53_GeogUnits','I471_GeogUnits','I461_GeogUnits','I481_GeogUnits'],axis='columns')\n",
    "    ##Remove the totals rows\n",
    "    df_A=df_A.loc[df_A['Area']!=\"Total - New Zealand by Regional Council/SA2\"]\n",
    "    ## Add Workforce density\n",
    "    df_A['Workforce']=np.nan\n",
    "    for i in range(len(df_A)):\n",
    "        df_A.iloc[i,8]=df_F.loc[(df_F['Area']==df_A.iloc[i,0])&(df_F['Year']==df_A.iloc[i,5]),'TotPeople']\n",
    "    ## Add Population density and Ethnicity (as proportion)\n",
    "    df_A['Population']=np.nan\n",
    "    #as proportion of population\n",
    "    df_A['Perc_MaoriPacific']=np.nan\n",
    "    df_A['Majority_MaoriPacific']=\"\"\n",
    "    df_A['Perc_less30k']=np.nan\n",
    "    for i in range(len(df_A)):\n",
    "        record=df_E.loc[(df_E['Area']==df_A.iloc[i,0])&(df_E['Year']==df_A.iloc[i,5]),]\n",
    "        df_A.iloc[i,9]=record['TotPeople']\n",
    "        df_A.iloc[i,10]=(record['Maori']+record['Pacific'])/record['TotPeople']\n",
    "        if df_A.iloc[i,10]>=0.6:\n",
    "            df_A.iloc[i,11]=\"YES\"\n",
    "        else:\n",
    "            df_A.iloc[i,11]=\"NO\"\n",
    "    ## Add income per capita (as proportion)\n",
    "        record=df_D.loc[(df_D['Area']==df_A.iloc[i,0])&(df_D['Year']==df_A.iloc[i,5]),]\n",
    "        df_A.iloc[i,12]=(record['less5k_TotInd']+record['bet5k10k_TotInd']+record['bet10k20k_TotInd']+record['bet20k30k_TotInd'])/record['totStated_TotInd']\n",
    "    return(df_A)\n",
    "\n",
    "def checkAreas(df1,df2):\n",
    "    missingList=[]\n",
    "    for y in [2006,2013,2018]:\n",
    "        set1=df1.loc[df1['Year']==y,'Area']\n",
    "        set2=df2.loc[df2['Year']==y,'Area']\n",
    "        listDF1=list(set(set1)-set(set2))\n",
    "        listDF2=list(set(set2)-set(set1))\n",
    "        missingList.append(listDF1)\n",
    "        missingList.append(listDF2)\n",
    "    return(missingList)\n"
   ]
  },
  {
   "cell_type": "code",
   "execution_count": 111,
   "id": "final-sarah",
   "metadata": {},
   "outputs": [],
   "source": [
    "groupA=readFiles(\"../CompleteSet_GroupA.csv\")\n",
    "#trim to only 2006, 2013 and 2020\n",
    "groupA=groupA.loc[groupA['Year'].isin([2006,2013,2018]),]\n",
    "#rename the totals rows\n",
    "groupA.loc[groupA['Area']==\"Total NZ by Regional Council/Statistical Area\",'Area']=\"Total - New Zealand by Regional Council/SA2\"\n",
    "\n",
    "groupF=readFiles(\"../CompleteSet_GroupF.csv\")\n",
    "groupE=readFiles(\"../CompleteSet_GroupE.csv\")\n",
    "groupD=readFiles(\"../CompleteSet_GroupD.csv\")"
   ]
  },
  {
   "cell_type": "markdown",
   "id": "north-printing",
   "metadata": {},
   "source": [
    "By running the function checkList, I confirmed that groups E, F, and D all have the same areas. There is (the same) discrepancy between Group A and all three other sets for all three census years. \n",
    "\n",
    "I then investigated the implication if we just ignore the \"Oceanic, Islands, Inlets, Lakes etc\" that are not included in Group A. The impact is minimal as these areas have mostly zero people, some have populations but less than 30 people. \n",
    "\n",
    "I thus delete those areas from E, D, and F. I also remove the remaining Oceanic regions that do occur in A\n",
    "\n",
    "Then I rename the rows that state the totals, because there is a naming discrepancy."
   ]
  },
  {
   "cell_type": "code",
   "execution_count": 112,
   "id": "cosmetic-right",
   "metadata": {},
   "outputs": [],
   "source": [
    "#checkList=checkAreas(groupA,groupE)\n",
    "#pd.set_option('display.max_rows', None)\n",
    "#groupE.loc[(groupE['Area'].isin(checkList[1]))&(groupE['Year']==2006),['Area','TotPeople']]\n",
    "#groupD.loc[(groupD['Area'].isin(checkList[1]))&(groupD['Year']==2006),['Area','totStated_TotInd']]\n",
    "#groupF.loc[(groupF['Area'].isin(checkList[1]))&(groupF['Year']==2006),['Area','TotPeople']]\n",
    "\n",
    "checkList=checkAreas(groupA,groupE)\n",
    "deleteList=checkList[1]+[\"Oceanic Chatham Islands\",\"Oceanic Auckland Region East\",\"Oceanic Auckland Region West\",\"Oceanic Bay of Plenty Region\",\"Oceanic Canterbury Region\",\"Oceanic Waikato Region East\",\"Oceanic Waikato Region West\"]\n",
    "\n",
    "groupE=groupE[groupE[\"Area\"].isin(deleteList) == False]\n",
    "groupF=groupF[groupF[\"Area\"].isin(deleteList) == False]\n",
    "groupD=groupD[groupD[\"Area\"].isin(deleteList) == False]\n",
    "groupA=groupA[groupA[\"Area\"].isin(deleteList) == False]\n",
    "\n",
    "#Now we need to combine the dataframes\n",
    "df=combine(groupA,groupD,groupE,groupF)\n"
   ]
  },
  {
   "cell_type": "code",
   "execution_count": 113,
   "id": "electrical-given",
   "metadata": {},
   "outputs": [
    {
     "data": {
      "text/html": [
       "<div>\n",
       "<style scoped>\n",
       "    .dataframe tbody tr th:only-of-type {\n",
       "        vertical-align: middle;\n",
       "    }\n",
       "\n",
       "    .dataframe tbody tr th {\n",
       "        vertical-align: top;\n",
       "    }\n",
       "\n",
       "    .dataframe thead th {\n",
       "        text-align: right;\n",
       "    }\n",
       "</style>\n",
       "<table border=\"1\" class=\"dataframe\">\n",
       "  <thead>\n",
       "    <tr style=\"text-align: right;\">\n",
       "      <th></th>\n",
       "      <th>Area</th>\n",
       "      <th>TotInd_GeogUnits</th>\n",
       "      <th>F_GeogUnits</th>\n",
       "      <th>G_GeogUnits</th>\n",
       "      <th>ParentArea</th>\n",
       "      <th>Year</th>\n",
       "      <th>Trans_GeogUnits</th>\n",
       "      <th>Storage_GeogUnits</th>\n",
       "      <th>Workforce</th>\n",
       "      <th>Population</th>\n",
       "      <th>Perc_MaoriPacific</th>\n",
       "      <th>Majority_MaoriPacific</th>\n",
       "      <th>Perc_less30k</th>\n",
       "    </tr>\n",
       "  </thead>\n",
       "  <tbody>\n",
       "    <tr>\n",
       "      <th>31</th>\n",
       "      <td>Area Outside Region</td>\n",
       "      <td>201.0</td>\n",
       "      <td>3.0</td>\n",
       "      <td>6.0</td>\n",
       "      <td>NewZealand</td>\n",
       "      <td>2006</td>\n",
       "      <td>3.0</td>\n",
       "      <td>0.0</td>\n",
       "      <td>477.0</td>\n",
       "      <td>621.0</td>\n",
       "      <td>0.603865</td>\n",
       "      <td>YES</td>\n",
       "      <td>0.530973</td>\n",
       "    </tr>\n",
       "    <tr>\n",
       "      <th>33</th>\n",
       "      <td>Chatham Islands</td>\n",
       "      <td>198.0</td>\n",
       "      <td>3.0</td>\n",
       "      <td>6.0</td>\n",
       "      <td>AreaOutsideRegion</td>\n",
       "      <td>2006</td>\n",
       "      <td>3.0</td>\n",
       "      <td>0.0</td>\n",
       "      <td>471.0</td>\n",
       "      <td>612.0</td>\n",
       "      <td>0.612745</td>\n",
       "      <td>YES</td>\n",
       "      <td>0.530973</td>\n",
       "    </tr>\n",
       "    <tr>\n",
       "      <th>34</th>\n",
       "      <td>Ross Dependency</td>\n",
       "      <td>0.0</td>\n",
       "      <td>NaN</td>\n",
       "      <td>0.0</td>\n",
       "      <td>AreaOutsideRegion</td>\n",
       "      <td>2006</td>\n",
       "      <td>0.0</td>\n",
       "      <td>0.0</td>\n",
       "      <td>0.0</td>\n",
       "      <td>NaN</td>\n",
       "      <td>NaN</td>\n",
       "      <td>NO</td>\n",
       "      <td>NaN</td>\n",
       "    </tr>\n",
       "    <tr>\n",
       "      <th>66</th>\n",
       "      <td>Area Outside Region</td>\n",
       "      <td>189.0</td>\n",
       "      <td>NaN</td>\n",
       "      <td>6.0</td>\n",
       "      <td>NewZealand</td>\n",
       "      <td>2013</td>\n",
       "      <td>0.0</td>\n",
       "      <td>0.0</td>\n",
       "      <td>480.0</td>\n",
       "      <td>600.0</td>\n",
       "      <td>0.565000</td>\n",
       "      <td>NO</td>\n",
       "      <td>0.366972</td>\n",
       "    </tr>\n",
       "    <tr>\n",
       "      <th>68</th>\n",
       "      <td>Chatham Islands</td>\n",
       "      <td>189.0</td>\n",
       "      <td>NaN</td>\n",
       "      <td>6.0</td>\n",
       "      <td>AreaOutsideRegion</td>\n",
       "      <td>2013</td>\n",
       "      <td>0.0</td>\n",
       "      <td>0.0</td>\n",
       "      <td>477.0</td>\n",
       "      <td>600.0</td>\n",
       "      <td>0.565000</td>\n",
       "      <td>NO</td>\n",
       "      <td>0.370370</td>\n",
       "    </tr>\n",
       "  </tbody>\n",
       "</table>\n",
       "</div>"
      ],
      "text/plain": [
       "                   Area  TotInd_GeogUnits  F_GeogUnits  G_GeogUnits  \\\n",
       "31  Area Outside Region             201.0          3.0          6.0   \n",
       "33      Chatham Islands             198.0          3.0          6.0   \n",
       "34      Ross Dependency               0.0          NaN          0.0   \n",
       "66  Area Outside Region             189.0          NaN          6.0   \n",
       "68      Chatham Islands             189.0          NaN          6.0   \n",
       "\n",
       "           ParentArea  Year  Trans_GeogUnits  Storage_GeogUnits  Workforce  \\\n",
       "31         NewZealand  2006              3.0                0.0      477.0   \n",
       "33  AreaOutsideRegion  2006              3.0                0.0      471.0   \n",
       "34  AreaOutsideRegion  2006              0.0                0.0        0.0   \n",
       "66         NewZealand  2013              0.0                0.0      480.0   \n",
       "68  AreaOutsideRegion  2013              0.0                0.0      477.0   \n",
       "\n",
       "    Population  Perc_MaoriPacific Majority_MaoriPacific  Perc_less30k  \n",
       "31       621.0           0.603865                   YES      0.530973  \n",
       "33       612.0           0.612745                   YES      0.530973  \n",
       "34         NaN                NaN                    NO           NaN  \n",
       "66       600.0           0.565000                    NO      0.366972  \n",
       "68       600.0           0.565000                    NO      0.370370  "
      ]
     },
     "execution_count": 113,
     "metadata": {},
     "output_type": "execute_result"
    }
   ],
   "source": [
    "df.head()"
   ]
  },
  {
   "cell_type": "markdown",
   "id": "pursuant-cooling",
   "metadata": {},
   "source": [
    "### Try OLS"
   ]
  },
  {
   "cell_type": "code",
   "execution_count": 114,
   "id": "professional-economy",
   "metadata": {},
   "outputs": [],
   "source": [
    "import seaborn as sns\n",
    "import matplotlib.pyplot as plt\n",
    "import pysal as ps\n",
    "import geopandas as gpd\n"
   ]
  },
  {
   "cell_type": "code",
   "execution_count": 134,
   "id": "spatial-campus",
   "metadata": {},
   "outputs": [
    {
     "data": {
      "text/plain": [
       "Index(['Area', 'TotInd_GeogUnits', 'F_GeogUnits', 'G_GeogUnits', 'ParentArea',\n",
       "       'Year', 'Trans_GeogUnits', 'Storage_GeogUnits', 'Workforce',\n",
       "       'Population', 'Perc_MaoriPacific', 'Majority_MaoriPacific',\n",
       "       'Perc_less30k'],\n",
       "      dtype='object')"
      ]
     },
     "execution_count": 134,
     "metadata": {},
     "output_type": "execute_result"
    }
   ],
   "source": [
    "auckReg_df_2006=df.loc[(df['ParentArea']==\"AucklandRegion\")&(df['Year']==2006),]\n",
    "auckReg_df_2006=auckReg_df_2006.dropna(axis=0,how=\"any\")\n",
    "auckReg_df_2006.columns"
   ]
  },
  {
   "cell_type": "code",
   "execution_count": 135,
   "id": "micro-fortune",
   "metadata": {},
   "outputs": [
    {
     "name": "stdout",
     "output_type": "stream",
     "text": [
      "REGRESSION\n",
      "----------\n",
      "SUMMARY OF OUTPUT: ORDINARY LEAST SQUARES\n",
      "-----------------------------------------\n",
      "Data set            :     unknown\n",
      "Weights matrix      :        None\n",
      "Dependent Variable  :Tot_GeogUnits                Number of Observations:         522\n",
      "Mean dependent var  :    289.5575                Number of Variables   :           3\n",
      "S.D. dependent var  :    312.2878                Degrees of Freedom    :         519\n",
      "R-squared           :      0.0819\n",
      "Adjusted R-squared  :      0.0784\n",
      "Sum squared residual:46648641.389                F-statistic           :     23.1481\n",
      "Sigma-square        :   89881.775                Prob(F-statistic)     :   2.346e-10\n",
      "S.E. of regression  :     299.803                Log likelihood        :   -3716.213\n",
      "Sigma-square ML     :   89365.213                Akaike info criterion :    7438.426\n",
      "S.E of regression ML:    298.9402                Schwarz criterion     :    7451.199\n",
      "\n",
      "------------------------------------------------------------------------------------\n",
      "            Variable     Coefficient       Std.Error     t-Statistic     Probability\n",
      "------------------------------------------------------------------------------------\n",
      "            CONSTANT     507.1137330      67.5581182       7.5063330       0.0000000\n",
      "        Perc_less30k    -376.9333834     193.6210804      -1.9467580       0.0521029\n",
      "   Perc_MaoriPacific    -333.4957565      82.1988481      -4.0571828       0.0000573\n",
      "------------------------------------------------------------------------------------\n",
      "\n",
      "REGRESSION DIAGNOSTICS\n",
      "MULTICOLLINEARITY CONDITION NUMBER           12.742\n",
      "\n",
      "TEST ON NORMALITY OF ERRORS\n",
      "TEST                             DF        VALUE           PROB\n",
      "Jarque-Bera                       2       12988.344           0.0000\n",
      "\n",
      "DIAGNOSTICS FOR HETEROSKEDASTICITY\n",
      "RANDOM COEFFICIENTS\n",
      "TEST                             DF        VALUE           PROB\n",
      "Breusch-Pagan test                2          30.958           0.0000\n",
      "Koenker-Bassett test              2           2.483           0.2890\n",
      "================================ END OF REPORT =====================================\n"
     ]
    }
   ],
   "source": [
    "\n",
    "indep=np.asarray(auckReg_df_2006[['Perc_less30k','Perc_MaoriPacific']])\n",
    "y=np.asarray(auckReg_df_2006.TotInd_GeogUnits)\n",
    "y.shape = (len(y), 1)\n",
    "m1 = ps.model.spreg.OLS(y,indep,name_x=['Perc_less30k','Perc_MaoriPacific'], name_y='Tot_GeogUnits')\n",
    "\n",
    "print(m1.summary)\n"
   ]
  },
  {
   "cell_type": "code",
   "execution_count": 123,
   "id": "boolean-animation",
   "metadata": {},
   "outputs": [
    {
     "name": "stdout",
     "output_type": "stream",
     "text": [
      "REGRESSION\n",
      "----------\n",
      "SUMMARY OF OUTPUT: ORDINARY LEAST SQUARES\n",
      "-----------------------------------------\n",
      "Data set            :     unknown\n",
      "Weights matrix      :        None\n",
      "Dependent Variable  :Trans_GeogUnits                Number of Observations:         522\n",
      "Mean dependent var  :      3.2069                Number of Variables   :           2\n",
      "S.D. dependent var  :      3.7441                Degrees of Freedom    :         520\n",
      "R-squared           :      0.0101\n",
      "Adjusted R-squared  :      0.0082\n",
      "Sum squared residual:    7229.772                F-statistic           :      5.3140\n",
      "Sigma-square        :      13.903                Prob(F-statistic)     :     0.02155\n",
      "S.E. of regression  :       3.729                Log likelihood        :   -1426.671\n",
      "Sigma-square ML     :      13.850                Akaike info criterion :    2857.342\n",
      "S.E of regression ML:      3.7216                Schwarz criterion     :    2865.857\n",
      "\n",
      "------------------------------------------------------------------------------------\n",
      "            Variable     Coefficient       Std.Error     t-Statistic     Probability\n",
      "------------------------------------------------------------------------------------\n",
      "            CONSTANT       2.8046729       0.2389133      11.7392907       0.0000000\n",
      "   Perc_MaoriPacific       1.8878030       0.8189264       2.3052171       0.0215472\n",
      "------------------------------------------------------------------------------------\n",
      "\n",
      "REGRESSION DIAGNOSTICS\n",
      "MULTICOLLINEARITY CONDITION NUMBER            2.533\n",
      "\n",
      "TEST ON NORMALITY OF ERRORS\n",
      "TEST                             DF        VALUE           PROB\n",
      "Jarque-Bera                       2        7564.897           0.0000\n",
      "\n",
      "DIAGNOSTICS FOR HETEROSKEDASTICITY\n",
      "RANDOM COEFFICIENTS\n",
      "TEST                             DF        VALUE           PROB\n",
      "Breusch-Pagan test                1          14.539           0.0001\n",
      "Koenker-Bassett test              1           1.475           0.2246\n",
      "================================ END OF REPORT =====================================\n"
     ]
    }
   ],
   "source": []
  },
  {
   "cell_type": "code",
   "execution_count": 89,
   "id": "organic-advice",
   "metadata": {},
   "outputs": [
    {
     "name": "stdout",
     "output_type": "stream",
     "text": [
      "REGRESSION\n",
      "----------\n",
      "SUMMARY OF OUTPUT: ORDINARY LEAST SQUARES\n",
      "-----------------------------------------\n",
      "Data set            :     unknown\n",
      "Weights matrix      :        None\n",
      "Dependent Variable  :   GeogUnits                Number of Observations:         560\n",
      "Mean dependent var  :    276.0321                Number of Variables   :           2\n",
      "S.D. dependent var  :    308.6700                Degrees of Freedom    :         558\n",
      "R-squared           :      0.0013\n",
      "Adjusted R-squared  :     -0.0004\n",
      "Sum squared residual:53188260.573                F-statistic           :      0.7521\n",
      "Sigma-square        :   95319.463                Prob(F-statistic)     :      0.3862\n",
      "S.E. of regression  :     308.739                Log likelihood        :   -4003.801\n",
      "Sigma-square ML     :   94979.037                Akaike info criterion :    8011.602\n",
      "S.E of regression ML:    308.1867                Schwarz criterion     :    8020.257\n",
      "\n",
      "------------------------------------------------------------------------------------\n",
      "            Variable     Coefficient       Std.Error     t-Statistic     Probability\n",
      "------------------------------------------------------------------------------------\n",
      "            CONSTANT     300.2898925      30.8648514       9.7291864       0.0000000\n",
      "          Population      -0.0104101       0.0120041      -0.8672193       0.3861946\n",
      "------------------------------------------------------------------------------------\n",
      "\n",
      "REGRESSION DIAGNOSTICS\n",
      "MULTICOLLINEARITY CONDITION NUMBER            4.510\n",
      "\n",
      "TEST ON NORMALITY OF ERRORS\n",
      "TEST                             DF        VALUE           PROB\n",
      "Jarque-Bera                       2       11536.007           0.0000\n",
      "\n",
      "DIAGNOSTICS FOR HETEROSKEDASTICITY\n",
      "RANDOM COEFFICIENTS\n",
      "TEST                             DF        VALUE           PROB\n",
      "Breusch-Pagan test                1          90.088           0.0000\n",
      "Koenker-Bassett test              1           7.898           0.0049\n",
      "================================ END OF REPORT =====================================\n"
     ]
    }
   ],
   "source": [
    "indep=np.asarray(auckReg_df_2006[['Population']])\n",
    "y=np.asarray(auckReg_df_2006.TotInd_GeogUnits)\n",
    "y.shape = (len(y), 1)\n",
    "m2 = ps.model.spreg.OLS(y,indep,name_x=['Population'], name_y='GeogUnits')\n",
    "print(m2.summary)\n",
    "        "
   ]
  },
  {
   "cell_type": "code",
   "execution_count": 82,
   "id": "billion-direction",
   "metadata": {},
   "outputs": [
    {
     "data": {
      "text/plain": [
       "(560, 1)"
      ]
     },
     "execution_count": 82,
     "metadata": {},
     "output_type": "execute_result"
    }
   ],
   "source": [
    "y.shape"
   ]
  },
  {
   "cell_type": "code",
   "execution_count": 50,
   "id": "needed-cherry",
   "metadata": {},
   "outputs": [
    {
     "data": {
      "text/plain": [
       "numpy.ndarray"
      ]
     },
     "execution_count": 50,
     "metadata": {},
     "output_type": "execute_result"
    }
   ],
   "source": [
    "type(test)"
   ]
  },
  {
   "cell_type": "code",
   "execution_count": null,
   "id": "allied-microphone",
   "metadata": {},
   "outputs": [],
   "source": []
  }
 ],
 "metadata": {
  "kernelspec": {
   "display_name": "Python (geo_env)",
   "language": "python",
   "name": "geo_env"
  },
  "language_info": {
   "codemirror_mode": {
    "name": "ipython",
    "version": 3
   },
   "file_extension": ".py",
   "mimetype": "text/x-python",
   "name": "python",
   "nbconvert_exporter": "python",
   "pygments_lexer": "ipython3",
   "version": "3.9.2"
  }
 },
 "nbformat": 4,
 "nbformat_minor": 5
}
