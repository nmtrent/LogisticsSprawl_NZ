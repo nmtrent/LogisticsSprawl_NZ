{
 "cells": [
  {
   "cell_type": "code",
   "execution_count": 27,
   "id": "outer-moral",
   "metadata": {},
   "outputs": [
    {
     "data": {
      "text/plain": [
       "106    123138.0\n",
       "Name: TotInd_GeogUnits, dtype: float64"
      ]
     },
     "execution_count": 27,
     "metadata": {},
     "output_type": "execute_result"
    }
   ],
   "source": [
    "#Read in the combo file\n",
    "from pandas import DataFrame, read_csv\n",
    "import pandas as pd \n",
    "\n",
    "GroupA=pd.read_csv(\"CompleteSet_GroupA.csv\")\n",
    "GroupA=GroupA.drop(\"Unnamed: 0\",axis=1)\n",
    "#Strip all leading whitespace in Area column\n",
    "GroupA['Area'] = GroupA['Area'].apply(lambda x: x.strip())\n",
    "\n",
    "\n",
    "\n",
    "\n",
    "# F - Wholesale Trade\n",
    "# G - Retail Trade\n",
    "# I461 - Road freight transport\n",
    "# I471 - Road freight transport\n",
    "# I481 - Water freight transport\n",
    "# I51 - Postal and courier pick-up\n",
    "# I53 - Warehousing and storage"
   ]
  },
  {
   "cell_type": "code",
   "execution_count": 53,
   "id": "greenhouse-nurse",
   "metadata": {},
   "outputs": [
    {
     "name": "stdout",
     "output_type": "stream",
     "text": [
      "[11553, 11823, 12099, 12285, 12654, 13014, 13386, 13530, 13758, 13992, 13782, 13635, 13629, 13482, 13779, 14040, 14034, 13995, 13971, 14118, 14262]\n"
     ]
    },
    {
     "data": {
      "image/png": "[encoded data removed]",
      "text/plain": [
       "<Figure size 432x288 with 1 Axes>"
      ]
     },
     "metadata": {
      "needs_background": "light"
     },
     "output_type": "display_data"
    }
   ],
   "source": [
    "# Total industry change\n",
    "import matplotlib.pyplot as plt\n",
    "\n",
    "def subsetDat(frame,area,year):\n",
    "    val=int(frame[(frame.Area==area)& (frame.Year==year)].TotInd_GeogUnits)\n",
    "    return(val)\n",
    "    \n",
    "myList = list(set(GroupA[GroupA.ParentArea=='NewZealand'].Area))\n",
    "areaName= myList[2]\n",
    "yAxis=[subsetDat(GroupA,areaName,2000),subsetDat(GroupA,areaName,2001),subsetDat(GroupA,areaName,2002),subsetDat(GroupA,areaName,2003),\n",
    "       subsetDat(GroupA,areaName,2004),subsetDat(GroupA,areaName,2005),subsetDat(GroupA,areaName,2006),subsetDat(GroupA,areaName,2007),\n",
    "       subsetDat(GroupA,areaName,2008),subsetDat(GroupA,areaName,2009),subsetDat(GroupA,areaName,2010),subsetDat(GroupA,areaName,2011),\n",
    "       subsetDat(GroupA,areaName,2012),subsetDat(GroupA,areaName,2013),subsetDat(GroupA,areaName,2014),subsetDat(GroupA,areaName,2015),\n",
    "       subsetDat(GroupA,areaName,2016),subsetDat(GroupA,areaName,2017),subsetDat(GroupA,areaName,2018),subsetDat(GroupA,areaName,2019),\n",
    "       subsetDat(GroupA,areaName,2020)]\n",
    "\n",
    "print(yAxis)\n",
    "\n",
    "years=[2000,2001,2002,2003,2004,2005,2006,2007,2008,2009,2010,2011,2012,2013,2014,2015,2016,2017,2018,2019,2020]\n",
    "years = [str(x) for x in years]\n",
    "\n",
    "#f, ax = plt.subplots(1, figsize=(9, 9))\n",
    "plt.plot(years,yAxis)\n",
    "plt.title(areaName)\n",
    "plt.ylabel('Total Industry Geographic Units')\n",
    "plt.xlabel('Years')\n",
    "plt.show()\n",
    "#df1 = df[(df.a != -1) & (df.b != -1)]\n",
    "\n",
    "#plt.hist(GroupA[(GroupA.ParentArea=='NewZealand')&(GroupA.Year==2000)].TotInd_GeogUnits)\n",
    "#plt.show()\n"
   ]
  },
  {
   "cell_type": "code",
   "execution_count": 50,
   "id": "fabulous-judgment",
   "metadata": {},
   "outputs": [
    {
     "data": {
      "text/plain": [
       "int"
      ]
     },
     "execution_count": 50,
     "metadata": {},
     "output_type": "execute_result"
    }
   ],
   "source": [
    "\n",
    "\n",
    "type(years[0])"
   ]
  },
  {
   "cell_type": "code",
   "execution_count": 45,
   "id": "velvet-importance",
   "metadata": {},
   "outputs": [
    {
     "data": {
      "text/plain": [
       "list"
      ]
     },
     "execution_count": 45,
     "metadata": {},
     "output_type": "execute_result"
    }
   ],
   "source": [
    "type(years)\n"
   ]
  },
  {
   "cell_type": "code",
   "execution_count": 48,
   "id": "demographic-lemon",
   "metadata": {},
   "outputs": [
    {
     "ename": "AttributeError",
     "evalue": "'list' object has no attribute 'dtype'",
     "output_type": "error",
     "traceback": [
      "\u001b[0;31m---------------------------------------------------------------------------\u001b[0m",
      "\u001b[0;31mAttributeError\u001b[0m                            Traceback (most recent call last)",
      "\u001b[0;32m<ipython-input-48-fffe89942b5c>\u001b[0m in \u001b[0;36m<module>\u001b[0;34m\u001b[0m\n\u001b[0;32m----> 1\u001b[0;31m \u001b[0myears\u001b[0m\u001b[0;34m.\u001b[0m\u001b[0mdtype\u001b[0m\u001b[0;34m\u001b[0m\u001b[0;34m\u001b[0m\u001b[0m\n\u001b[0m\u001b[1;32m      2\u001b[0m \u001b[0;34m\u001b[0m\u001b[0m\n",
      "\u001b[0;31mAttributeError\u001b[0m: 'list' object has no attribute 'dtype'"
     ]
    }
   ],
   "source": [
    "\n",
    "\n"
   ]
  },
  {
   "cell_type": "code",
   "execution_count": null,
   "id": "valuable-gravity",
   "metadata": {},
   "outputs": [],
   "source": []
  }
 ],
 "metadata": {
  "kernelspec": {
   "display_name": "Python (geo_env)",
   "language": "python",
   "name": "geo_env"
  },
  "language_info": {
   "codemirror_mode": {
    "name": "ipython",
    "version": 3
   },
   "file_extension": ".py",
   "mimetype": "text/x-python",
   "name": "python",
   "nbconvert_exporter": "python",
   "pygments_lexer": "ipython3",
   "version": "3.9.2"
  }
 },
 "nbformat": 4,
 "nbformat_minor": 5
}
