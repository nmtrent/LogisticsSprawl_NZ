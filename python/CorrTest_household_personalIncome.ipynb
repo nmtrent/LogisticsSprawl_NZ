{
 "cells": [
  {
   "cell_type": "markdown",
   "metadata": {},
   "source": [
    "# The affluence variable\n",
    "\n",
    "This markdown contains the following:\n",
    "\n",
    "* Correlation between personal and household income categories\n",
    "* Investigating household 'affluence' in different regions (this is not just for interest as it is no longer used to prepare the variable)\n",
    "* Determining the national median of the median household incomes\n",
    "* Preparing the personal income affluence indicator for the models"
   ]
  },
  {
   "cell_type": "markdown",
   "metadata": {},
   "source": [
    "Set up the environment"
   ]
  },
  {
   "cell_type": "code",
   "execution_count": 1,
   "metadata": {},
   "outputs": [],
   "source": [
    "import pandas as pd \n",
    "from pandas import read_csv\n",
    "import numpy as np\n",
    "from sklearn.linear_model import LinearRegression\n",
    "from numpy import cov\n",
    "from scipy.stats import pearsonr\n",
    "from scipy.stats import spearmanr\n",
    "import matplotlib.pyplot as plt\n",
    "import seaborn as sn\n",
    "\n",
    "\n",
    "pd.set_option('display.max_columns', None)\n",
    "pd.set_option('display.max_rows', None)"
   ]
  },
  {
   "cell_type": "markdown",
   "metadata": {},
   "source": [
    "Read in the household and personal income files"
   ]
  },
  {
   "cell_type": "code",
   "execution_count": 2,
   "metadata": {},
   "outputs": [
    {
     "name": "stdout",
     "output_type": "stream",
     "text": [
      "(6759, 13)\n",
      "(4506, 14)\n"
     ]
    }
   ],
   "source": [
    "# Group D\n",
    "groupD=pd.read_csv(\"CompleteSet_GroupD.csv\")\n",
    "groupD=groupD.drop(\"Unnamed: 0\",axis=1)\n",
    "#Strip all leading whitespace in Area column\n",
    "groupD['Area'] = groupD['Area'].apply(lambda x: x.strip())\n",
    "\n",
    "#Remove total NZ row\n",
    "groupD = groupD.loc[(groupD['Area'] != \"Total - New Zealand by Regional Council/SA2\")]\n",
    "#Remove total regions\n",
    "groupD = groupD.loc[(groupD['ParentArea'] != \"NewZealand\")]\n",
    "\n",
    "#Keep only 2013 and 2018\n",
    "#groupD = groupD.loc[(groupD['Year'] == 2013) | (groupD['Year']==2018)]\n",
    "\n",
    "groupD = groupD.drop([ 'less5k_Wholesale', 'less5k_Retail',\n",
    "                      'less5k_TransPostWare', 'bet5k10k_Wholesale',\n",
    "                      'bet5k10k_Retail', 'bet5k10k_TransPostWare',\n",
    "                      'bet10k20k_Wholesale', 'bet10k20k_Retail', 'bet10k20k_TransPostWare',\n",
    "                       'bet20k30k_Wholesale', 'bet20k30k_Retail',\n",
    "                      'bet20k30k_TransPostWare', 'bet30k50k_Wholesale',\n",
    "                      'bet30k50k_Retail', 'bet30k50k_TransPostWare',\n",
    "                      'bet50k70k_Wholesale', 'bet50k70k_Retail', 'bet50k70k_TransPostWare', 'greater70k_Wholesale', 'greater70k_Retail',\n",
    "                      'greater70k_TransPostWare', 'totStated_Wholesale',\n",
    "                      'totStated_Retail', 'totStated_TransPostWare',\n",
    "                      'notStated_Wholesale', 'notStated_Retail', 'notStated_TransPostWare'], axis=1)\n",
    "\n",
    "groupD['Perc_Cat']=-99\n",
    "\n",
    "print(groupD.shape)\n",
    "\n",
    "# Group G\n",
    "groupG=pd.read_csv(\"CompleteSet_GroupG.csv\")\n",
    "groupG=groupG.drop(\"Unnamed: 0\",axis=1)\n",
    "#Strip all leading whitespace in Area column\n",
    "groupG['Area'] = groupG['Area'].apply(lambda x: x.strip())\n",
    "\n",
    "\n",
    "#Remove total NZ row\n",
    "groupG = groupG.loc[(groupG['Area'] != \"Total - New Zealand by Regional Council/SA2\")]\n",
    "#Remove total regions\n",
    "groupG = groupG.loc[(groupG['ParentArea'] != \"NewZealand\")]\n",
    "\n",
    "print(groupG.shape)"
   ]
  },
  {
   "cell_type": "markdown",
   "metadata": {},
   "source": [
    "### Correlation between personal and household income categories"
   ]
  },
  {
   "cell_type": "markdown",
   "metadata": {},
   "source": [
    "Household income per SA2 level is only available for 2013 and 2018. It is important for this project to add the 2006 timestamp as well. Personal incomeper SA2 is available for 2006, 2013, and 2018. Therefore, we want to investigate whether we can use personal income as a proxy for household income. \n",
    "\n",
    "There are 7 categories in both the personal income and household income data.\n",
    "\n",
    "|Category |Personal income|Household income|\n",
    "|---|---|---|\n",
    "|cat1|less5k|less20k|\n",
    "|cat2|between5k10k|between20k30k|\n",
    "|cat3|between10k20k|between30k50k|\n",
    "|cat4|between20k30k|between50k70k|\n",
    "|cat5|between30k50k|between70k100k|\n",
    "|cat6|between50k70k|between100k150k|\n",
    "|cat7|greater 70k|greater150k|\n"
   ]
  },
  {
   "cell_type": "markdown",
   "metadata": {},
   "source": [
    "First we visually inspect the correlations between the categories. "
   ]
  },
  {
   "cell_type": "code",
   "execution_count": 3,
   "metadata": {},
   "outputs": [],
   "source": [
    "#Preparing the data\n",
    "cat1_house_2013 = np.array(groupG.loc[(groupG['Year'] == 2013)].less20k.tolist())\n",
    "cat1_house_2013 = np.nan_to_num(cat1_house_2013,copy=False,nan=0.0)\n",
    "cat2_house_2013 = np.array(groupG.loc[(groupG['Year'] == 2013)].bet20k_30k.tolist())\n",
    "cat2_house_2013 = np.nan_to_num(cat2_house_2013,copy=False,nan=0.0)\n",
    "cat3_house_2013 = np.array(groupG.loc[(groupG['Year'] == 2013)].bet30k_50k.tolist())\n",
    "cat3_house_2013 = np.nan_to_num(cat3_house_2013,copy=False,nan=0.0)\n",
    "cat4_house_2013 = np.array(groupG.loc[(groupG['Year'] == 2013)].bet50k_70k.tolist())\n",
    "cat4_house_2013 = np.nan_to_num(cat4_house_2013,copy=False,nan=0.0)\n",
    "cat5_house_2013 = np.array(groupG.loc[(groupG['Year'] == 2013)].bet70k_100k.tolist())\n",
    "cat5_house_2013 = np.nan_to_num(cat5_house_2013,copy=False,nan=0.0)\n",
    "cat6_house_2013 = np.array(groupG.loc[(groupG['Year'] == 2013)].bet100k_150k.tolist())\n",
    "cat6_house_2013 = np.nan_to_num(cat6_house_2013,copy=False,nan=0.0)\n",
    "cat7_house_2013 = np.array(groupG.loc[(groupG['Year'] == 2013)].greater150k.tolist())\n",
    "cat7_house_2013 = np.nan_to_num(cat7_house_2013,copy=False,nan=0.0)\n",
    "\n",
    "cat1_house_2018 = np.array(groupG.loc[(groupG['Year'] == 2018)].less20k.tolist())\n",
    "cat1_house_2018 = np.nan_to_num(cat1_house_2018,copy=False,nan=0.0)\n",
    "cat2_house_2018 = np.array(groupG.loc[(groupG['Year'] == 2018)].bet20k_30k.tolist())\n",
    "cat2_house_2018 = np.nan_to_num(cat2_house_2018,copy=False,nan=0.0)\n",
    "cat3_house_2018 = np.array(groupG.loc[(groupG['Year'] == 2018)].bet30k_50k.tolist())\n",
    "cat3_house_2018 = np.nan_to_num(cat3_house_2018,copy=False,nan=0.0)\n",
    "cat4_house_2018 = np.array(groupG.loc[(groupG['Year'] == 2018)].bet50k_70k.tolist())\n",
    "cat4_house_2018 = np.nan_to_num(cat4_house_2018,copy=False,nan=0.0)\n",
    "cat5_house_2018 = np.array(groupG.loc[(groupG['Year'] == 2018)].bet70k_100k.tolist())\n",
    "cat5_house_2018 = np.nan_to_num(cat5_house_2018,copy=False,nan=0.0)\n",
    "cat6_house_2018 = np.array(groupG.loc[(groupG['Year'] == 2018)].bet100k_150k.tolist())\n",
    "cat6_house_2018 = np.nan_to_num(cat6_house_2018,copy=False,nan=0.0)\n",
    "cat7_house_2018 = np.array(groupG.loc[(groupG['Year'] == 2018)].greater150k.tolist())\n",
    "cat7_house_2018 = np.nan_to_num(cat7_house_2018,copy=False,nan=0.0)\n",
    "\n",
    "cat1_pers_2013 = np.array(groupD.loc[(groupD['Year'] == 2013)].less5k_TotInd.tolist())\n",
    "cat1_pers_2013 = np.nan_to_num(cat1_pers_2013,copy=False,nan=0.0)\n",
    "cat2_pers_2013 = np.array(groupD.loc[(groupD['Year'] == 2013)].bet5k10k_TotInd.tolist())\n",
    "cat2_pers_2013 = np.nan_to_num(cat2_pers_2013,copy=False,nan=0.0)\n",
    "cat3_pers_2013 = np.array(groupD.loc[(groupD['Year'] == 2013)].bet10k20k_TotInd.tolist())\n",
    "cat3_pers_2013 = np.nan_to_num(cat3_pers_2013,copy=False,nan=0.0)\n",
    "cat4_pers_2013 = np.array(groupD.loc[(groupD['Year'] == 2013)].bet20k30k_TotInd.tolist())\n",
    "cat4_pers_2013 = np.nan_to_num(cat4_pers_2013,copy=False,nan=0.0)\n",
    "cat5_pers_2013 = np.array(groupD.loc[(groupD['Year'] == 2013)].bet30k50k_TotInd.tolist())\n",
    "cat5_pers_2013 = np.nan_to_num(cat5_pers_2013,copy=False,nan=0.0)\n",
    "cat6_pers_2013 = np.array(groupD.loc[(groupD['Year'] == 2013)].bet50k70k_TotInd.tolist())\n",
    "cat6_pers_2013 = np.nan_to_num(cat6_pers_2013,copy=False,nan=0.0)\n",
    "cat7_pers_2013 = np.array(groupD.loc[(groupD['Year'] == 2013)].greater70k_TotInd.tolist())\n",
    "cat7_pers_2013 = np.nan_to_num(cat7_pers_2013,copy=False,nan=0.0)\n",
    "\n",
    "cat1_pers_2018 = np.array(groupD.loc[(groupD['Year'] == 2018)].less5k_TotInd.tolist())\n",
    "cat1_pers_2018 = np.nan_to_num(cat1_pers_2018,copy=False,nan=0.0)\n",
    "cat2_pers_2018 = np.array(groupD.loc[(groupD['Year'] == 2018)].bet5k10k_TotInd.tolist())\n",
    "cat2_pers_2018 = np.nan_to_num(cat2_pers_2018,copy=False,nan=0.0)\n",
    "cat3_pers_2018 = np.array(groupD.loc[(groupD['Year'] == 2018)].bet10k20k_TotInd.tolist())\n",
    "cat3_pers_2018 = np.nan_to_num(cat3_pers_2018,copy=False,nan=0.0)\n",
    "cat4_pers_2018 = np.array(groupD.loc[(groupD['Year'] == 2018)].bet20k30k_TotInd.tolist())\n",
    "cat4_pers_2018 = np.nan_to_num(cat4_pers_2018,copy=False,nan=0.0)\n",
    "cat5_pers_2018 = np.array(groupD.loc[(groupD['Year'] == 2018)].bet30k50k_TotInd.tolist())\n",
    "cat5_pers_2018 = np.nan_to_num(cat5_pers_2018,copy=False,nan=0.0)\n",
    "cat6_pers_2018 = np.array(groupD.loc[(groupD['Year'] == 2018)].bet50k70k_TotInd.tolist())\n",
    "cat6_pers_2018 = np.nan_to_num(cat6_pers_2018,copy=False,nan=0.0)\n",
    "cat7_pers_2018 = np.array(groupD.loc[(groupD['Year'] == 2018)].greater70k_TotInd.tolist())\n",
    "cat7_pers_2018 = np.nan_to_num(cat7_pers_2018,copy=False,nan=0.0)"
   ]
  },
  {
   "cell_type": "markdown",
   "metadata": {},
   "source": [
    "#### Category 1 comparison\n",
    "2013 left pane, 2018 right pane\n",
    "\n",
    "x - household\n",
    "\n",
    "y - personal income"
   ]
  },
  {
   "cell_type": "code",
   "execution_count": 4,
   "metadata": {},
   "outputs": [
    {
     "data": {
      "text/plain": [
       "<matplotlib.collections.PathCollection at 0x122375d30>"
      ]
     },
     "execution_count": 4,
     "metadata": {},
     "output_type": "execute_result"
    },
    {
     "data": {
      "image/png": "[encoded data removed]",
      "text/plain": [
       "<Figure size 432x288 with 2 Axes>"
      ]
     },
     "metadata": {
      "needs_background": "light"
     },
     "output_type": "display_data"
    }
   ],
   "source": [
    "fig, (ax1, ax2) = plt.subplots(1, 2,sharex=True,sharey=True)\n",
    "fig.suptitle('Cat1 correlation')\n",
    "ax1.scatter(cat1_house_2013, cat1_pers_2013)\n",
    "ax2.scatter(cat1_house_2018, cat1_pers_2018)"
   ]
  },
  {
   "cell_type": "markdown",
   "metadata": {},
   "source": [
    "Not great evidence of correlation"
   ]
  },
  {
   "cell_type": "markdown",
   "metadata": {},
   "source": [
    "#### Category 2 comparison\n",
    "2013 left pane, 2018 right pane\n",
    "\n",
    "x - household\n",
    "\n",
    "y - personal income"
   ]
  },
  {
   "cell_type": "code",
   "execution_count": 5,
   "metadata": {},
   "outputs": [
    {
     "data": {
      "text/plain": [
       "<matplotlib.collections.PathCollection at 0x1223de250>"
      ]
     },
     "execution_count": 5,
     "metadata": {},
     "output_type": "execute_result"
    },
    {
     "data": {
      "image/png": "[encoded data removed]",
      "text/plain": [
       "<Figure size 432x288 with 2 Axes>"
      ]
     },
     "metadata": {
      "needs_background": "light"
     },
     "output_type": "display_data"
    }
   ],
   "source": [
    "fig, (ax1, ax2) = plt.subplots(1, 2,sharex=True,sharey=True)\n",
    "fig.suptitle('Cat2 correlation')\n",
    "ax1.scatter(cat2_house_2013, cat2_pers_2013)\n",
    "ax2.scatter(cat2_house_2018, cat2_pers_2018)"
   ]
  },
  {
   "cell_type": "markdown",
   "metadata": {},
   "source": [
    "Not great evidence of correlation"
   ]
  },
  {
   "cell_type": "markdown",
   "metadata": {},
   "source": [
    "#### Category 3 comparison\n",
    "2013 left pane, 2018 right pane\n",
    "\n",
    "x - household\n",
    "\n",
    "y - personal income"
   ]
  },
  {
   "cell_type": "code",
   "execution_count": 6,
   "metadata": {},
   "outputs": [
    {
     "data": {
      "text/plain": [
       "<matplotlib.collections.PathCollection at 0x122797820>"
      ]
     },
     "execution_count": 6,
     "metadata": {},
     "output_type": "execute_result"
    },
    {
     "data": {
      "image/png": "[encoded data removed]",
      "text/plain": [
       "<Figure size 432x288 with 2 Axes>"
      ]
     },
     "metadata": {
      "needs_background": "light"
     },
     "output_type": "display_data"
    }
   ],
   "source": [
    "fig, (ax1, ax2) = plt.subplots(1, 2,sharex=True,sharey=True)\n",
    "fig.suptitle('Cat3 correlation')\n",
    "ax1.scatter(cat3_house_2013, cat3_pers_2013)\n",
    "ax2.scatter(cat3_house_2018, cat3_pers_2018)"
   ]
  },
  {
   "cell_type": "markdown",
   "metadata": {},
   "source": [
    "This is starting to look like something, but not convincing yet..."
   ]
  },
  {
   "cell_type": "markdown",
   "metadata": {},
   "source": [
    "#### Category 4 comparison\n",
    "2013 left pane, 2018 right pane\n",
    "\n",
    "x - household\n",
    "\n",
    "y - personal income"
   ]
  },
  {
   "cell_type": "code",
   "execution_count": 7,
   "metadata": {},
   "outputs": [
    {
     "data": {
      "text/plain": [
       "<matplotlib.collections.PathCollection at 0x1227cdb80>"
      ]
     },
     "execution_count": 7,
     "metadata": {},
     "output_type": "execute_result"
    },
    {
     "data": {
      "image/png": "[encoded data removed]",
      "text/plain": [
       "<Figure size 432x288 with 2 Axes>"
      ]
     },
     "metadata": {
      "needs_background": "light"
     },
     "output_type": "display_data"
    }
   ],
   "source": [
    "fig, (ax1, ax2) = plt.subplots(1, 2,sharex=True,sharey=True)\n",
    "fig.suptitle('Cat4 correlation')\n",
    "ax1.scatter(cat4_house_2013, cat4_pers_2013)\n",
    "ax2.scatter(cat4_house_2018, cat4_pers_2018)"
   ]
  },
  {
   "cell_type": "markdown",
   "metadata": {},
   "source": [
    "This is starting to look like something."
   ]
  },
  {
   "cell_type": "code",
   "execution_count": 8,
   "metadata": {},
   "outputs": [
    {
     "name": "stdout",
     "output_type": "stream",
     "text": [
      "2013\n",
      "[[3868.36143874 2856.73690911]\n",
      " [2856.73690911 2452.07337878]]\n",
      "Pearsons correlation: 0.928\n",
      "Spearmans correlation: 0.923\n",
      "2018\n",
      "[[4270.58390234 3035.37528766]\n",
      " [3035.37528766 2713.699943  ]]\n",
      "Pearsons correlation: 0.892\n",
      "Spearmans correlation: 0.890\n"
     ]
    }
   ],
   "source": [
    "# Covariance\n",
    "\n",
    "print(\"2013\")\n",
    "covariance = np.cov([cat4_pers_2013], [cat4_house_2013])\n",
    "print(covariance)\n",
    "\n",
    "# Pearson's correlation\n",
    "corrP, _ = pearsonr(cat4_pers_2013, cat4_house_2013)\n",
    "print('Pearsons correlation: %.3f' % corrP)\n",
    "\n",
    "# Spearman's correlation\n",
    "corrS, _ = spearmanr(cat4_pers_2013, cat4_house_2013)\n",
    "print('Spearmans correlation: %.3f' % corrS)\n",
    "\n",
    "print(\"2018\")\n",
    "covariance = np.cov([cat4_pers_2018], [cat4_house_2018])\n",
    "print(covariance)\n",
    "\n",
    "# Pearson's correlation\n",
    "corrP, _ = pearsonr(cat4_pers_2018, cat4_house_2018)\n",
    "print('Pearsons correlation: %.3f' % corrP)\n",
    "\n",
    "# Spearman's correlation\n",
    "corrS, _ = spearmanr(cat4_pers_2018, cat4_house_2018)\n",
    "print('Spearmans correlation: %.3f' % corrS)"
   ]
  },
  {
   "cell_type": "markdown",
   "metadata": {},
   "source": [
    "#### Category 5 comparison\n",
    "2013 left pane, 2018 right pane\n",
    "\n",
    "x - household\n",
    "\n",
    "y - personal income"
   ]
  },
  {
   "cell_type": "code",
   "execution_count": 9,
   "metadata": {},
   "outputs": [
    {
     "data": {
      "text/plain": [
       "<matplotlib.collections.PathCollection at 0x12294d1c0>"
      ]
     },
     "execution_count": 9,
     "metadata": {},
     "output_type": "execute_result"
    },
    {
     "data": {
      "image/png": "[encoded data removed]",
      "text/plain": [
       "<Figure size 432x288 with 2 Axes>"
      ]
     },
     "metadata": {
      "needs_background": "light"
     },
     "output_type": "display_data"
    }
   ],
   "source": [
    "fig, (ax1, ax2) = plt.subplots(1, 2,sharex=True,sharey=True)\n",
    "fig.suptitle('Cat5 correlation')\n",
    "ax1.scatter(cat5_house_2013, cat5_pers_2013)\n",
    "ax2.scatter(cat5_house_2018, cat5_pers_2018)"
   ]
  },
  {
   "cell_type": "markdown",
   "metadata": {},
   "source": [
    "The linear relation is tightening up."
   ]
  },
  {
   "cell_type": "code",
   "execution_count": 10,
   "metadata": {},
   "outputs": [
    {
     "name": "stdout",
     "output_type": "stream",
     "text": [
      "2013\n",
      "[[20697.48207837  8360.83519842]\n",
      " [ 8360.83519842  3881.68318973]]\n",
      "Pearsons correlation: 0.933\n",
      "Spearmans correlation: 0.935\n",
      "2018\n",
      "[[27720.1182686   8900.68759948]\n",
      " [ 8900.68759948  3623.58380182]]\n",
      "Pearsons correlation: 0.888\n",
      "Spearmans correlation: 0.905\n"
     ]
    }
   ],
   "source": [
    "# Covariance\n",
    "\n",
    "print(\"2013\")\n",
    "covariance = np.cov([cat5_pers_2013], [cat5_house_2013])\n",
    "print(covariance)\n",
    "\n",
    "# Pearson's correlation\n",
    "corrP, _ = pearsonr(cat5_pers_2013, cat5_house_2013)\n",
    "print('Pearsons correlation: %.3f' % corrP)\n",
    "\n",
    "# Spearman's correlation\n",
    "corrS, _ = spearmanr(cat5_pers_2013, cat5_house_2013)\n",
    "print('Spearmans correlation: %.3f' % corrS)\n",
    "\n",
    "print(\"2018\")\n",
    "covariance = np.cov([cat5_pers_2018], [cat5_house_2018])\n",
    "print(covariance)\n",
    "\n",
    "# Pearson's correlation\n",
    "corrP, _ = pearsonr(cat5_pers_2018, cat5_house_2018)\n",
    "print('Pearsons correlation: %.3f' % corrP)\n",
    "\n",
    "# Spearman's correlation\n",
    "corrS, _ = spearmanr(cat5_pers_2018, cat5_house_2018)\n",
    "print('Spearmans correlation: %.3f' % corrS)"
   ]
  },
  {
   "cell_type": "markdown",
   "metadata": {},
   "source": [
    "#### Category 6 comparison\n",
    "2013 left pane, 2018 right pane\n",
    "\n",
    "x - household\n",
    "\n",
    "y - personal income"
   ]
  },
  {
   "cell_type": "code",
   "execution_count": 11,
   "metadata": {},
   "outputs": [
    {
     "data": {
      "text/plain": [
       "<matplotlib.collections.PathCollection at 0x122773b20>"
      ]
     },
     "execution_count": 11,
     "metadata": {},
     "output_type": "execute_result"
    },
    {
     "data": {
      "image/png": "[encoded data removed]",
      "text/plain": [
       "<Figure size 432x288 with 2 Axes>"
      ]
     },
     "metadata": {
      "needs_background": "light"
     },
     "output_type": "display_data"
    }
   ],
   "source": [
    "fig, (ax1, ax2) = plt.subplots(1, 2,sharex=True,sharey=True)\n",
    "fig.suptitle('Cat6 correlation')\n",
    "ax1.scatter(cat6_house_2013, cat6_pers_2013)\n",
    "ax2.scatter(cat6_house_2018, cat6_pers_2018)"
   ]
  },
  {
   "cell_type": "markdown",
   "metadata": {},
   "source": [
    "There's a line..."
   ]
  },
  {
   "cell_type": "code",
   "execution_count": 12,
   "metadata": {},
   "outputs": [
    {
     "name": "stdout",
     "output_type": "stream",
     "text": [
      "2013\n",
      "[[10910.94214109  6555.33528297]\n",
      " [ 6555.33528297  4358.71521453]]\n",
      "Pearsons correlation: 0.951\n",
      "Spearmans correlation: 0.959\n",
      "2018\n",
      "[[17630.81355942 10268.88813317]\n",
      " [10268.88813317  6660.82567707]]\n",
      "Pearsons correlation: 0.948\n",
      "Spearmans correlation: 0.956\n"
     ]
    }
   ],
   "source": [
    "# Covariance\n",
    "\n",
    "print(\"2013\")\n",
    "covariance = np.cov([cat6_pers_2013], [cat6_house_2013])\n",
    "print(covariance)\n",
    "\n",
    "# Pearson's correlation\n",
    "corrP, _ = pearsonr(cat6_pers_2013, cat6_house_2013)\n",
    "print('Pearsons correlation: %.3f' % corrP)\n",
    "\n",
    "# Spearman's correlation\n",
    "corrS, _ = spearmanr(cat6_pers_2013, cat6_house_2013)\n",
    "print('Spearmans correlation: %.3f' % corrS)\n",
    "\n",
    "print(\"2018\")\n",
    "covariance = np.cov([cat6_pers_2018], [cat6_house_2018])\n",
    "print(covariance)\n",
    "\n",
    "# Pearson's correlation\n",
    "corrP, _ = pearsonr(cat6_pers_2018, cat6_house_2018)\n",
    "print('Pearsons correlation: %.3f' % corrP)\n",
    "\n",
    "# Spearman's correlation\n",
    "corrS, _ = spearmanr(cat6_pers_2018, cat6_house_2018)\n",
    "print('Spearmans correlation: %.3f' % corrS)"
   ]
  },
  {
   "cell_type": "markdown",
   "metadata": {},
   "source": [
    "#### Category 7 comparison\n",
    "2013 left pane, 2018 right pane\n",
    "\n",
    "x - household\n",
    "\n",
    "y - personal income"
   ]
  },
  {
   "cell_type": "code",
   "execution_count": 13,
   "metadata": {},
   "outputs": [
    {
     "data": {
      "text/plain": [
       "<matplotlib.collections.PathCollection at 0x1231a85b0>"
      ]
     },
     "execution_count": 13,
     "metadata": {},
     "output_type": "execute_result"
    },
    {
     "data": {
      "image/png": "[encoded data removed]",
      "text/plain": [
       "<Figure size 432x288 with 2 Axes>"
      ]
     },
     "metadata": {
      "needs_background": "light"
     },
     "output_type": "display_data"
    }
   ],
   "source": [
    "fig, (ax1, ax2) = plt.subplots(1, 2,sharex=True,sharey=True)\n",
    "fig.suptitle('Cat7 correlation')\n",
    "ax1.scatter(cat7_house_2013, cat7_pers_2013)\n",
    "ax2.scatter(cat7_house_2018, cat7_pers_2018)"
   ]
  },
  {
   "cell_type": "markdown",
   "metadata": {},
   "source": [
    "That's convincing."
   ]
  },
  {
   "cell_type": "code",
   "execution_count": 14,
   "metadata": {},
   "outputs": [
    {
     "name": "stdout",
     "output_type": "stream",
     "text": [
      "2013\n",
      "[[28128.42417688 13418.13415801]\n",
      " [13418.13415801  6824.68569084]]\n",
      "Pearsons correlation: 0.968\n",
      "Spearmans correlation: 0.967\n",
      "2018\n",
      "[[50316.71805857 25831.09189583]\n",
      " [25831.09189583 13954.21735732]]\n",
      "Pearsons correlation: 0.975\n",
      "Spearmans correlation: 0.973\n"
     ]
    }
   ],
   "source": [
    "# Covariance\n",
    "\n",
    "print(\"2013\")\n",
    "covariance = np.cov([cat7_pers_2013], [cat7_house_2013])\n",
    "print(covariance)\n",
    "\n",
    "# Pearson's correlation\n",
    "corrP, _ = pearsonr(cat7_pers_2013, cat7_house_2013)\n",
    "print('Pearsons correlation: %.3f' % corrP)\n",
    "\n",
    "# Spearman's correlation\n",
    "corrS, _ = spearmanr(cat7_pers_2013, cat7_house_2013)\n",
    "print('Spearmans correlation: %.3f' % corrS)\n",
    "\n",
    "print(\"2018\")\n",
    "covariance = np.cov([cat7_pers_2018], [cat7_house_2018])\n",
    "print(covariance)\n",
    "\n",
    "# Pearson's correlation\n",
    "corrP, _ = pearsonr(cat7_pers_2018, cat7_house_2018)\n",
    "print('Pearsons correlation: %.3f' % corrP)\n",
    "\n",
    "# Spearman's correlation\n",
    "corrS, _ = spearmanr(cat7_pers_2018, cat7_house_2018)\n",
    "print('Spearmans correlation: %.3f' % corrS)"
   ]
  },
  {
   "cell_type": "markdown",
   "metadata": {},
   "source": [
    "So what we are observing is that there is strong correlation between personal income and household income categories on the affluent side of the scale. So we can use personal income as a proxy for household income IF our variable is \"affluence\" and not \"poverty\""
   ]
  },
  {
   "cell_type": "markdown",
   "metadata": {},
   "source": [
    "### Investigating household affluence in different regions"
   ]
  },
  {
   "cell_type": "markdown",
   "metadata": {},
   "source": [
    "What constitutes \"affluence\" is different in different cities/regions. Here we want to differentiate between the category cut-off for affluence by region. To do that, we start with the histogram of median incomes per SA2 in each area. "
   ]
  },
  {
   "cell_type": "markdown",
   "metadata": {},
   "source": [
    "Let's use Auckland as an illustration"
   ]
  },
  {
   "cell_type": "code",
   "execution_count": 15,
   "metadata": {},
   "outputs": [
    {
     "name": "stdout",
     "output_type": "stream",
     "text": [
      "80th percentile Auck 2013: 95320.00000000001\n",
      "The 80th perc in 2013 was in category: 5\n",
      "80th percentile Auck 2018: 116300.0\n",
      "The 80th perc in 2018 was in category: 6\n"
     ]
    },
    {
     "data": {
      "image/png": "[encoded data removed]",
      "text/plain": [
       "<Figure size 432x288 with 2 Axes>"
      ]
     },
     "metadata": {
      "needs_background": "light"
     },
     "output_type": "display_data"
    }
   ],
   "source": [
    "medHouseInc2013_Auck=np.array(groupG.loc[(groupG['Year'] == 2013)&(groupG['ParentArea'] == 'AucklandRegion')].MedInc.tolist())\n",
    "medHouseInc2013_Auck = np.nan_to_num(medHouseInc2013_Auck,copy=False,nan=0.0)\n",
    "\n",
    "medHouseInc2018_Auck=np.array(groupG.loc[(groupG['Year'] == 2018)&(groupG['ParentArea'] == 'AucklandRegion')].MedInc.tolist())\n",
    "medHouseInc2018_Auck = np.nan_to_num(medHouseInc2018_Auck,copy=False,nan=0.0)\n",
    "\n",
    "fig, (ax1, ax2) = plt.subplots(1, 2,sharex=True,sharey=True)\n",
    "fig.suptitle('Auckland Region')\n",
    "ax1.hist(medHouseInc2013_Auck)\n",
    "ax2.hist(medHouseInc2018_Auck)\n",
    "\n",
    "#80th percentile\n",
    "print(\"80th percentile Auck 2013:\",np.percentile(medHouseInc2013_Auck,80))\n",
    "#determine in which category the 80th percentile falls\n",
    "perc=np.percentile(medHouseInc2013_Auck,80)\n",
    "if (perc > 50000) & (perc <= 70000):\n",
    "    cat=4\n",
    "elif (perc > 70000) & (perc <= 100000):\n",
    "    cat=5\n",
    "elif (perc > 100000) & (perc <= 150000):\n",
    "    cat=6\n",
    "elif (perc > 150000):\n",
    "    cat=7\n",
    "else:\n",
    "    cat=-99  \n",
    "print(\"The 80th perc in 2013 was in category:\",cat)\n",
    "\n",
    "#80th percentile\n",
    "print(\"80th percentile Auck 2018:\",np.percentile(medHouseInc2018_Auck,80))\n",
    "#determine in which category the 80th percentile falls\n",
    "perc=np.percentile(medHouseInc2018_Auck,80)\n",
    "if (perc > 50000) & (perc <= 70000):\n",
    "    cat=4\n",
    "elif (perc > 70000) & (perc <= 100000):\n",
    "    cat=5\n",
    "elif (perc > 100000) & (perc <= 150000):\n",
    "    cat=6\n",
    "elif (perc > 150000):\n",
    "    cat=7\n",
    "else:\n",
    "    cat=-99  \n",
    "print(\"The 80th perc in 2018 was in category:\",cat)\n",
    "\n",
    "# add the cat to the groupD file\n",
    "\n",
    "#groupD.loc[(groupD['Year'] == 2013)&(groupD['ParentArea'] == 'AucklandRegion'),'Perc_Cat']=cat"
   ]
  },
  {
   "cell_type": "markdown",
   "metadata": {},
   "source": [
    "Therefore, the affluence indicator in the Auckland Region in 2013 is the percentage of individuals who earn an income in cat 5 and up (i.e. cat 5 + cat 6 + cat 7), whereas in 2018 it is the percentage of individuals who earn an income of cat 6 and up. \n",
    "\n",
    "But now what about 2006? Do we just assume it's a category difference?\n",
    "\n",
    "Let's test whether there are category differences in the other regions."
   ]
  },
  {
   "cell_type": "markdown",
   "metadata": {},
   "source": [
    "#### Run for all regions and update groupD\n",
    "I am keeping this Group D update here so that we could see the results for the different regions later, but I never write this updated columns to csv, so it isn't used to calculate the variable. "
   ]
  },
  {
   "cell_type": "code",
   "execution_count": 16,
   "metadata": {},
   "outputs": [
    {
     "data": {
      "image/png": "[encoded data removed]",
      "text/plain": [
       "<Figure size 432x288 with 2 Axes>"
      ]
     },
     "metadata": {
      "needs_background": "light"
     },
     "output_type": "display_data"
    },
    {
     "data": {
      "image/png": "[encoded data removed]",
      "text/plain": [
       "<Figure size 432x288 with 2 Axes>"
      ]
     },
     "metadata": {
      "needs_background": "light"
     },
     "output_type": "display_data"
    },
    {
     "data": {
      "image/png": "[encoded data removed]",
      "text/plain": [
       "<Figure size 432x288 with 2 Axes>"
      ]
     },
     "metadata": {
      "needs_background": "light"
     },
     "output_type": "display_data"
    },
    {
     "data": {
      "image/png": "[encoded data removed]",
      "text/plain": [
       "<Figure size 432x288 with 2 Axes>"
      ]
     },
     "metadata": {
      "needs_background": "light"
     },
     "output_type": "display_data"
    },
    {
     "data": {
      "image/png": "[encoded data removed]",
      "text/plain": [
       "<Figure size 432x288 with 2 Axes>"
      ]
     },
     "metadata": {
      "needs_background": "light"
     },
     "output_type": "display_data"
    },
    {
     "data": {
      "image/png": "[encoded data removed]",
      "text/plain": [
       "<Figure size 432x288 with 2 Axes>"
      ]
     },
     "metadata": {
      "needs_background": "light"
     },
     "output_type": "display_data"
    },
    {
     "data": {
      "image/png": "[encoded data removed]",
      "text/plain": [
       "<Figure size 432x288 with 2 Axes>"
      ]
     },
     "metadata": {
      "needs_background": "light"
     },
     "output_type": "display_data"
    },
    {
     "data": {
      "image/png": "[encoded data removed]",
      "text/plain": [
       "<Figure size 432x288 with 2 Axes>"
      ]
     },
     "metadata": {
      "needs_background": "light"
     },
     "output_type": "display_data"
    },
    {
     "data": {
      "image/png": "[encoded data removed]",
      "text/plain": [
       "<Figure size 432x288 with 2 Axes>"
      ]
     },
     "metadata": {
      "needs_background": "light"
     },
     "output_type": "display_data"
    },
    {
     "data": {
      "image/png": "[encoded data removed]",
      "text/plain": [
       "<Figure size 432x288 with 2 Axes>"
      ]
     },
     "metadata": {
      "needs_background": "light"
     },
     "output_type": "display_data"
    },
    {
     "data": {
      "image/png": "[encoded data removed]",
      "text/plain": [
       "<Figure size 432x288 with 2 Axes>"
      ]
     },
     "metadata": {
      "needs_background": "light"
     },
     "output_type": "display_data"
    },
    {
     "data": {
      "image/png": "[encoded data removed]",
      "text/plain": [
       "<Figure size 432x288 with 2 Axes>"
      ]
     },
     "metadata": {
      "needs_background": "light"
     },
     "output_type": "display_data"
    },
    {
     "data": {
      "image/png": "[encoded data removed]",
      "text/plain": [
       "<Figure size 432x288 with 2 Axes>"
      ]
     },
     "metadata": {
      "needs_background": "light"
     },
     "output_type": "display_data"
    },
    {
     "data": {
      "image/png": "[encoded data removed]",
      "text/plain": [
       "<Figure size 432x288 with 2 Axes>"
      ]
     },
     "metadata": {
      "needs_background": "light"
     },
     "output_type": "display_data"
    },
    {
     "data": {
      "image/png": "[encoded data removed]",
      "text/plain": [
       "<Figure size 432x288 with 2 Axes>"
      ]
     },
     "metadata": {
      "needs_background": "light"
     },
     "output_type": "display_data"
    },
    {
     "data": {
      "image/png": "[encoded data removed]",
      "text/plain": [
       "<Figure size 432x288 with 2 Axes>"
      ]
     },
     "metadata": {
      "needs_background": "light"
     },
     "output_type": "display_data"
    },
    {
     "data": {
      "image/png": "[encoded data removed]",
      "text/plain": [
       "<Figure size 432x288 with 2 Axes>"
      ]
     },
     "metadata": {
      "needs_background": "light"
     },
     "output_type": "display_data"
    }
   ],
   "source": [
    "def extractMed(year,region):\n",
    "    medDat=np.array(groupG.loc[(groupG['Year'] == year)&(groupG['ParentArea'] == region)].MedInc.tolist())\n",
    "    medDat=np.nan_to_num(medDat,copy=False,nan=0.0)\n",
    "    return(medDat)\n",
    "\n",
    "def scatters(dat2013,dat2018,region):\n",
    "    fig, (ax1, ax2) = plt.subplots(1, 2,sharex=True,sharey=True)\n",
    "    fig.suptitle(region)\n",
    "    ax1.hist(dat2013)\n",
    "    ax2.hist(dat2018)\n",
    "\n",
    "def determinePerc(dat):\n",
    "    perc=np.percentile(dat,80)\n",
    "    if (perc > 50000) & (perc <= 70000):\n",
    "        cat=4\n",
    "    elif (perc > 70000) & (perc <= 100000):\n",
    "        cat=5\n",
    "    elif (perc > 100000) & (perc <= 150000):\n",
    "        cat=6\n",
    "    elif (perc > 150000):\n",
    "        cat=7\n",
    "    else:\n",
    "        cat=-99  \n",
    "    return(cat)\n",
    "\n",
    "def replaceVals(year,region,cat):\n",
    "    groupD.loc[(groupD['Year'] == year)&(groupD['ParentArea'] == region),'Perc_Cat']=cat\n",
    "    \n",
    "\n",
    "regionMaster=['AreaOutsideRegion','AucklandRegion','BayOfPlentyRegion','CanterburyRegion','GisborneRegion','HawkesBayRegion',\n",
    "             'Manawatu-WanganuiRegion','MarlboroughRegion','NelsonRegion','NorthlandRegion','OtagoRegion','SouthlandRegion',\n",
    "              'TaranakiRegion','TasmanRegion','WaikatoRegion','WellingtonRegion','WestCoastRegion']\n",
    "\n",
    "for region in regionMaster:\n",
    "    data2013=extractMed(2013,region)\n",
    "    data2018=extractMed(2018,region)\n",
    "    scatters(data2013,data2018,region)\n",
    "    replaceVals(2013,region,determinePerc(data2013))\n",
    "    replaceVals(2018,region,determinePerc(data2018))"
   ]
  },
  {
   "cell_type": "code",
   "execution_count": 99,
   "metadata": {},
   "outputs": [
    {
     "name": "stdout",
     "output_type": "stream",
     "text": [
      "AreaOutsideRegion 2013:  [-99]\n",
      "AreaOutsideRegion 2018:  [-99]\n",
      "\n",
      "AucklandRegion 2013:  [5]\n",
      "AucklandRegion 2018:  [6]\n",
      "\n",
      "BayOfPlentyRegion 2013:  [4]\n",
      "BayOfPlentyRegion 2018:  [5]\n",
      "\n",
      "CanterburyRegion 2013:  [5]\n",
      "CanterburyRegion 2018:  [5]\n",
      "\n",
      "GisborneRegion 2013:  [4]\n",
      "GisborneRegion 2018:  [4]\n",
      "\n",
      "HawkesBayRegion 2013:  [4]\n",
      "HawkesBayRegion 2018:  [5]\n",
      "\n",
      "Manawatu-WanganuiRegion 2013:  [4]\n",
      "Manawatu-WanganuiRegion 2018:  [5]\n",
      "\n",
      "MarlboroughRegion 2013:  [4]\n",
      "MarlboroughRegion 2018:  [5]\n",
      "\n",
      "NelsonRegion 2013:  [4]\n",
      "NelsonRegion 2018:  [5]\n",
      "\n",
      "NorthlandRegion 2013:  [4]\n",
      "NorthlandRegion 2018:  [4]\n",
      "\n",
      "OtagoRegion 2013:  [5]\n",
      "OtagoRegion 2018:  [5]\n",
      "\n",
      "SouthlandRegion 2013:  [5]\n",
      "SouthlandRegion 2018:  [5]\n",
      "\n",
      "TaranakiRegion 2013:  [5]\n",
      "TaranakiRegion 2018:  [5]\n",
      "\n",
      "TasmanRegion 2013:  [4]\n",
      "TasmanRegion 2018:  [5]\n",
      "\n",
      "WaikatoRegion 2013:  [5]\n",
      "WaikatoRegion 2018:  [5]\n",
      "\n",
      "WellingtonRegion 2013:  [5]\n",
      "WellingtonRegion 2018:  [6]\n",
      "\n",
      "WestCoastRegion 2013:  [4]\n",
      "WestCoastRegion 2018:  [4]\n"
     ]
    }
   ],
   "source": [
    "print(\"AreaOutsideRegion 2013: \",np.unique(groupD.loc[(groupD['Year'] == 2013)&(groupD['ParentArea'] == 'AreaOutsideRegion')].Perc_Cat.tolist()))\n",
    "print(\"AreaOutsideRegion 2018: \",np.unique(groupD.loc[(groupD['Year'] == 2018)&(groupD['ParentArea'] == 'AreaOutsideRegion')].Perc_Cat.tolist()))\n",
    "print()\n",
    "print(\"AucklandRegion 2013: \",np.unique(groupD.loc[(groupD['Year'] == 2013)&(groupD['ParentArea'] == 'AucklandRegion')].Perc_Cat.tolist()))\n",
    "print(\"AucklandRegion 2018: \",np.unique(groupD.loc[(groupD['Year'] == 2018)&(groupD['ParentArea'] == 'AucklandRegion')].Perc_Cat.tolist()))\n",
    "print()\n",
    "print(\"BayOfPlentyRegion 2013: \",np.unique(groupD.loc[(groupD['Year'] == 2013)&(groupD['ParentArea'] == 'BayOfPlentyRegion')].Perc_Cat.tolist()))\n",
    "print(\"BayOfPlentyRegion 2018: \",np.unique(groupD.loc[(groupD['Year'] == 2018)&(groupD['ParentArea'] == 'BayOfPlentyRegion')].Perc_Cat.tolist()))\n",
    "print()\n",
    "print(\"CanterburyRegion 2013: \",np.unique(groupD.loc[(groupD['Year'] == 2013)&(groupD['ParentArea'] == 'CanterburyRegion')].Perc_Cat.tolist()))\n",
    "print(\"CanterburyRegion 2018: \",np.unique(groupD.loc[(groupD['Year'] == 2018)&(groupD['ParentArea'] == 'CanterburyRegion')].Perc_Cat.tolist()))\n",
    "print()\n",
    "print(\"GisborneRegion 2013: \",np.unique(groupD.loc[(groupD['Year'] == 2013)&(groupD['ParentArea'] == 'GisborneRegion')].Perc_Cat.tolist()))\n",
    "print(\"GisborneRegion 2018: \",np.unique(groupD.loc[(groupD['Year'] == 2018)&(groupD['ParentArea'] == 'GisborneRegion')].Perc_Cat.tolist()))\n",
    "print()\n",
    "print(\"HawkesBayRegion 2013: \",np.unique(groupD.loc[(groupD['Year'] == 2013)&(groupD['ParentArea'] == 'HawkesBayRegion')].Perc_Cat.tolist()))\n",
    "print(\"HawkesBayRegion 2018: \",np.unique(groupD.loc[(groupD['Year'] == 2018)&(groupD['ParentArea'] == 'HawkesBayRegion')].Perc_Cat.tolist()))\n",
    "print()\n",
    "print(\"Manawatu-WanganuiRegion 2013: \",np.unique(groupD.loc[(groupD['Year'] == 2013)&(groupD['ParentArea'] == 'Manawatu-WanganuiRegion')].Perc_Cat.tolist()))\n",
    "print(\"Manawatu-WanganuiRegion 2018: \",np.unique(groupD.loc[(groupD['Year'] == 2018)&(groupD['ParentArea'] == 'Manawatu-WanganuiRegion')].Perc_Cat.tolist()))\n",
    "print()\n",
    "print(\"MarlboroughRegion 2013: \",np.unique(groupD.loc[(groupD['Year'] == 2013)&(groupD['ParentArea'] == 'MarlboroughRegion')].Perc_Cat.tolist()))\n",
    "print(\"MarlboroughRegion 2018: \",np.unique(groupD.loc[(groupD['Year'] == 2018)&(groupD['ParentArea'] == 'MarlboroughRegion')].Perc_Cat.tolist()))\n",
    "print()\n",
    "print(\"NelsonRegion 2013: \",np.unique(groupD.loc[(groupD['Year'] == 2013)&(groupD['ParentArea'] == 'NelsonRegion')].Perc_Cat.tolist()))\n",
    "print(\"NelsonRegion 2018: \",np.unique(groupD.loc[(groupD['Year'] == 2018)&(groupD['ParentArea'] == 'NelsonRegion')].Perc_Cat.tolist()))\n",
    "print()\n",
    "print(\"NorthlandRegion 2013: \",np.unique(groupD.loc[(groupD['Year'] == 2013)&(groupD['ParentArea'] == 'NorthlandRegion')].Perc_Cat.tolist()))\n",
    "print(\"NorthlandRegion 2018: \",np.unique(groupD.loc[(groupD['Year'] == 2018)&(groupD['ParentArea'] == 'NorthlandRegion')].Perc_Cat.tolist()))\n",
    "print()\n",
    "print(\"OtagoRegion 2013: \",np.unique(groupD.loc[(groupD['Year'] == 2013)&(groupD['ParentArea'] == 'OtagoRegion')].Perc_Cat.tolist()))\n",
    "print(\"OtagoRegion 2018: \",np.unique(groupD.loc[(groupD['Year'] == 2018)&(groupD['ParentArea'] == 'OtagoRegion')].Perc_Cat.tolist()))\n",
    "print()\n",
    "print(\"SouthlandRegion 2013: \",np.unique(groupD.loc[(groupD['Year'] == 2013)&(groupD['ParentArea'] == 'SouthlandRegion')].Perc_Cat.tolist()))\n",
    "print(\"SouthlandRegion 2018: \",np.unique(groupD.loc[(groupD['Year'] == 2018)&(groupD['ParentArea'] == 'SouthlandRegion')].Perc_Cat.tolist()))\n",
    "print()\n",
    "print(\"TaranakiRegion 2013: \",np.unique(groupD.loc[(groupD['Year'] == 2013)&(groupD['ParentArea'] == 'TaranakiRegion')].Perc_Cat.tolist()))\n",
    "print(\"TaranakiRegion 2018: \",np.unique(groupD.loc[(groupD['Year'] == 2018)&(groupD['ParentArea'] == 'TaranakiRegion')].Perc_Cat.tolist()))\n",
    "print()\n",
    "print(\"TasmanRegion 2013: \",np.unique(groupD.loc[(groupD['Year'] == 2013)&(groupD['ParentArea'] == 'TasmanRegion')].Perc_Cat.tolist()))\n",
    "print(\"TasmanRegion 2018: \",np.unique(groupD.loc[(groupD['Year'] == 2018)&(groupD['ParentArea'] == 'TasmanRegion')].Perc_Cat.tolist()))\n",
    "print()\n",
    "print(\"WaikatoRegion 2013: \",np.unique(groupD.loc[(groupD['Year'] == 2013)&(groupD['ParentArea'] == 'WaikatoRegion')].Perc_Cat.tolist()))\n",
    "print(\"WaikatoRegion 2018: \",np.unique(groupD.loc[(groupD['Year'] == 2018)&(groupD['ParentArea'] == 'WaikatoRegion')].Perc_Cat.tolist()))\n",
    "print()\n",
    "print(\"WellingtonRegion 2013: \",np.unique(groupD.loc[(groupD['Year'] == 2013)&(groupD['ParentArea'] == 'WellingtonRegion')].Perc_Cat.tolist()))\n",
    "print(\"WellingtonRegion 2018: \",np.unique(groupD.loc[(groupD['Year'] == 2018)&(groupD['ParentArea'] == 'WellingtonRegion')].Perc_Cat.tolist()))\n",
    "print()\n",
    "print(\"WestCoastRegion 2013: \",np.unique(groupD.loc[(groupD['Year'] == 2013)&(groupD['ParentArea'] == 'WestCoastRegion')].Perc_Cat.tolist()))\n",
    "print(\"WestCoastRegion 2018: \",np.unique(groupD.loc[(groupD['Year'] == 2018)&(groupD['ParentArea'] == 'WestCoastRegion')].Perc_Cat.tolist()))\n"
   ]
  },
  {
   "cell_type": "markdown",
   "metadata": {},
   "source": [
    "How do we know whether we can extrapolate the trend back to 2006? Consider regional GDP growth 2006-2013-2018"
   ]
  },
  {
   "cell_type": "markdown",
   "metadata": {},
   "source": [
    "I drew the stats for regional GDP (RNA) per person from StatsNZ and compared the growth rates between 2006-2013 and 2013-2018. There is NO OBVIOUS LOGICAL CONNECTION between the nominal annual growth rates and whether a egion's 80th percential median income jumped a category or not. "
   ]
  },
  {
   "cell_type": "markdown",
   "metadata": {},
   "source": [
    "This may be because the categories are too broad. What if I compare growth in RNA to growth in 80th percentile of median income?"
   ]
  },
  {
   "cell_type": "markdown",
   "metadata": {},
   "source": [
    "#### Calculating growth rates in 80th percentile of median income"
   ]
  },
  {
   "cell_type": "code",
   "execution_count": 17,
   "metadata": {},
   "outputs": [
    {
     "name": "stdout",
     "output_type": "stream",
     "text": [
      "Growth for  AucklandRegion : 22 %\n",
      "Growth for  BayOfPlentyRegion : 23 %\n",
      "Growth for  CanterburyRegion : 17 %\n",
      "Growth for  GisborneRegion : 13 %\n",
      "Growth for  HawkesBayRegion : 24 %\n",
      "Growth for  Manawatu-WanganuiRegion : 16 %\n",
      "Growth for  MarlboroughRegion : 16 %\n",
      "Growth for  NelsonRegion : 20 %\n",
      "Growth for  NorthlandRegion : 22 %\n",
      "Growth for  OtagoRegion : 28 %\n",
      "Growth for  SouthlandRegion : 12 %\n",
      "Growth for  TaranakiRegion : 13 %\n",
      "Growth for  TasmanRegion : 26 %\n",
      "Growth for  WaikatoRegion : 19 %\n",
      "Growth for  WellingtonRegion : 21 %\n",
      "Growth for  WestCoastRegion : 2 %\n"
     ]
    }
   ],
   "source": [
    "#RNA growth rates from excel sheet\n",
    "arr2=np.array([27,27,19,23,22,20,30,25,27,25,22,-4,25,22,16,13])\n",
    "arr1 = np. array([])\n",
    "for region in regionMaster:\n",
    "    data2013=extractMed(2013,region)\n",
    "    data2018=extractMed(2018,region)\n",
    "    perc2013=np.percentile(data2013,80)\n",
    "    perc2018=np.percentile(data2018,80)\n",
    "    if perc2018-perc2013!=0:\n",
    "        arr1=np.append(arr1,round((perc2018-perc2013)/perc2013*100))\n",
    "        print(\"Growth for \",region,\":\",round((perc2018-perc2013)/perc2013*100),\"%\")"
   ]
  },
  {
   "cell_type": "code",
   "execution_count": 18,
   "metadata": {},
   "outputs": [
    {
     "data": {
      "text/plain": [
       "<matplotlib.collections.PathCollection at 0x124d7e370>"
      ]
     },
     "execution_count": 18,
     "metadata": {},
     "output_type": "execute_result"
    },
    {
     "data": {
      "image/png": "[encoded data removed]",
      "text/plain": [
       "<Figure size 432x288 with 1 Axes>"
      ]
     },
     "metadata": {
      "needs_background": "light"
     },
     "output_type": "display_data"
    }
   ],
   "source": [
    "plt.scatter(arr1, arr2)"
   ]
  },
  {
   "cell_type": "markdown",
   "metadata": {},
   "source": [
    "Nope... nothing there either. "
   ]
  },
  {
   "cell_type": "markdown",
   "metadata": {},
   "source": [
    "OK. So in lieu of a better understanding on what drove the change in median household incomes, I choose to leave the category for 2006 the same as it was for 2013. This is a conservative approach as you would have had to be MORE affluent in 2006 to make it into the affluence category. "
   ]
  },
  {
   "cell_type": "markdown",
   "metadata": {},
   "source": [
    "### Calculating the national median of median household incomes"
   ]
  },
  {
   "cell_type": "code",
   "execution_count": 41,
   "metadata": {},
   "outputs": [
    {
     "data": {
      "text/plain": [
       "851"
      ]
     },
     "execution_count": 41,
     "metadata": {},
     "output_type": "execute_result"
    }
   ],
   "source": [
    "medList=groupG.loc[groupG['Year']==2018,'MedInc'].dropna().unique().tolist()\n",
    "len(medList)\n"
   ]
  },
  {
   "cell_type": "code",
   "execution_count": 42,
   "metadata": {},
   "outputs": [
    {
     "name": "stdout",
     "output_type": "stream",
     "text": [
      "National median of median incomes: 6\n"
     ]
    }
   ],
   "source": [
    "perc=np.percentile(medList,50)\n",
    "if (perc > 50000) & (perc <= 70000):\n",
    "    print('National median of median incomes:',4)\n",
    "elif (perc > 70000) & (perc <= 100000):\n",
    "    print('National median of median incomes:',5)\n",
    "elif (perc > 100000) & (perc <= 150000):\n",
    "    print('National median of median incomes:',6)\n",
    "elif (perc > 150000):\n",
    "    print('National median of median incomes:',7) "
   ]
  },
  {
   "cell_type": "code",
   "execution_count": null,
   "metadata": {},
   "outputs": [],
   "source": []
  }
 ],
 "metadata": {
  "kernelspec": {
   "display_name": "Python (base)",
   "language": "python",
   "name": "base"
  },
  "language_info": {
   "codemirror_mode": {
    "name": "ipython",
    "version": 3
   },
   "file_extension": ".py",
   "mimetype": "text/x-python",
   "name": "python",
   "nbconvert_exporter": "python",
   "pygments_lexer": "ipython3",
   "version": "3.8.5"
  }
 },
 "nbformat": 4,
 "nbformat_minor": 4
}
