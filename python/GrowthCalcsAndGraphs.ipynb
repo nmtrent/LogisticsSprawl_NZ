{
 "cells": [
  {
   "cell_type": "markdown",
   "id": "cee0fca5",
   "metadata": {},
   "source": [
    "## Notebook to calculate growth statistics and make graphs"
   ]
  },
  {
   "cell_type": "code",
   "execution_count": 138,
   "id": "d8050abe",
   "metadata": {},
   "outputs": [],
   "source": [
    "import pandas as pd\n",
    "from pandas import DataFrame, read_csv\n",
    "import numpy as np\n",
    "import matplotlib.pyplot as plt\n",
    "import matplotlib.cm as cm\n",
    "import plotly.graph_objects as go\n",
    "import math\n",
    "\n",
    "pd.set_option('display.max_columns', None)\n",
    "pd.set_option('display.max_rows', None)"
   ]
  },
  {
   "cell_type": "code",
   "execution_count": 139,
   "id": "96ef6f2d",
   "metadata": {},
   "outputs": [],
   "source": [
    "#Read in files\n",
    "# Group A\n",
    "groupA=pd.read_csv(\"../data/outputFiles/CompleteSet_GroupA.csv\")\n",
    "groupA=groupA.drop(\"Unnamed: 0\",axis=1)\n",
    "#Strip all leading whitespace in Area column\n",
    "groupA['Area'] = groupA['Area'].apply(lambda x: x.strip())\n",
    "\n",
    "\n",
    "# Group E\n",
    "groupE=pd.read_csv(\"../data/outputFiles/CompleteSet_GroupE.csv\")\n",
    "groupE=groupE.drop(\"Unnamed: 0\",axis=1)\n",
    "#Strip all leading whitespace in Area column\n",
    "groupE['Area'] = groupE['Area'].apply(lambda x: x.strip())\n",
    "\n",
    "#Group E 2001\n",
    "groupE_2001=pd.read_csv(\"../data/outputFiles/CompleteSet_2001_GroupE.csv\")\n",
    "groupE_2001=groupE_2001.drop(\"Unnamed: 0\",axis=1)\n",
    "#Strip all leading whitespace in Area column\n",
    "groupE_2001['Area'] = groupE_2001['Area'].apply(lambda x: x.strip())\n"
   ]
  },
  {
   "cell_type": "code",
   "execution_count": 140,
   "id": "78d7bedf",
   "metadata": {},
   "outputs": [
    {
     "name": "stdout",
     "output_type": "stream",
     "text": [
      "(357, 19)\n",
      "(21, 19)\n"
     ]
    }
   ],
   "source": [
    "national=groupA.loc[groupA['ParentArea']==\"TOTAL\"]\n",
    "print(national.shape)\n",
    "national=national.drop_duplicates()\n",
    "#delete the last row which contains details about the download\n",
    "national=national.drop(1235,axis=0)\n",
    "print(national.shape)"
   ]
  },
  {
   "cell_type": "code",
   "execution_count": 141,
   "id": "db843283",
   "metadata": {},
   "outputs": [
    {
     "name": "stdout",
     "output_type": "stream",
     "text": [
      "(3, 14)\n"
     ]
    },
    {
     "data": {
      "text/html": [
       "<div>\n",
       "<style scoped>\n",
       "    .dataframe tbody tr th:only-of-type {\n",
       "        vertical-align: middle;\n",
       "    }\n",
       "\n",
       "    .dataframe tbody tr th {\n",
       "        vertical-align: top;\n",
       "    }\n",
       "\n",
       "    .dataframe thead th {\n",
       "        text-align: right;\n",
       "    }\n",
       "</style>\n",
       "<table border=\"1\" class=\"dataframe\">\n",
       "  <thead>\n",
       "    <tr style=\"text-align: right;\">\n",
       "      <th></th>\n",
       "      <th>Area</th>\n",
       "      <th>European</th>\n",
       "      <th>Maori</th>\n",
       "      <th>Pacific</th>\n",
       "      <th>Asian</th>\n",
       "      <th>MidELatinAfr</th>\n",
       "      <th>Other</th>\n",
       "      <th>NZ</th>\n",
       "      <th>OtherNEC</th>\n",
       "      <th>TotPeopleStated</th>\n",
       "      <th>NotElseIncl</th>\n",
       "      <th>TotPeople</th>\n",
       "      <th>ParentArea</th>\n",
       "      <th>Year</th>\n",
       "    </tr>\n",
       "  </thead>\n",
       "  <tbody>\n",
       "    <tr>\n",
       "      <th>0</th>\n",
       "      <td>Total - New Zealand by Regional Council/SA2</td>\n",
       "      <td>2609589.0</td>\n",
       "      <td>565329.0</td>\n",
       "      <td>265974.0</td>\n",
       "      <td>354552.0</td>\n",
       "      <td>34746.0</td>\n",
       "      <td>430881.0</td>\n",
       "      <td>429426.0</td>\n",
       "      <td>1491.0</td>\n",
       "      <td>3860163.0</td>\n",
       "      <td>167784.0</td>\n",
       "      <td>4027947.0</td>\n",
       "      <td>TOTAL</td>\n",
       "      <td>2006</td>\n",
       "    </tr>\n",
       "    <tr>\n",
       "      <th>22</th>\n",
       "      <td>Total - New Zealand by Regional Council/SA2</td>\n",
       "      <td>2969391.0</td>\n",
       "      <td>598602.0</td>\n",
       "      <td>295941.0</td>\n",
       "      <td>471708.0</td>\n",
       "      <td>46953.0</td>\n",
       "      <td>67752.0</td>\n",
       "      <td>65973.0</td>\n",
       "      <td>1788.0</td>\n",
       "      <td>4011399.0</td>\n",
       "      <td>230649.0</td>\n",
       "      <td>4242048.0</td>\n",
       "      <td>TOTAL</td>\n",
       "      <td>2013</td>\n",
       "    </tr>\n",
       "    <tr>\n",
       "      <th>44</th>\n",
       "      <td>Total - New Zealand by Regional Council/SA2</td>\n",
       "      <td>3297864.0</td>\n",
       "      <td>775836.0</td>\n",
       "      <td>381642.0</td>\n",
       "      <td>707598.0</td>\n",
       "      <td>70332.0</td>\n",
       "      <td>58053.0</td>\n",
       "      <td>45330.0</td>\n",
       "      <td>12756.0</td>\n",
       "      <td>4699755.0</td>\n",
       "      <td>0.0</td>\n",
       "      <td>4699755.0</td>\n",
       "      <td>TOTAL</td>\n",
       "      <td>2018</td>\n",
       "    </tr>\n",
       "  </tbody>\n",
       "</table>\n",
       "</div>"
      ],
      "text/plain": [
       "                                           Area   European     Maori  \\\n",
       "0   Total - New Zealand by Regional Council/SA2  2609589.0  565329.0   \n",
       "22  Total - New Zealand by Regional Council/SA2  2969391.0  598602.0   \n",
       "44  Total - New Zealand by Regional Council/SA2  3297864.0  775836.0   \n",
       "\n",
       "     Pacific     Asian  MidELatinAfr     Other        NZ  OtherNEC  \\\n",
       "0   265974.0  354552.0       34746.0  430881.0  429426.0    1491.0   \n",
       "22  295941.0  471708.0       46953.0   67752.0   65973.0    1788.0   \n",
       "44  381642.0  707598.0       70332.0   58053.0   45330.0   12756.0   \n",
       "\n",
       "    TotPeopleStated  NotElseIncl  TotPeople ParentArea  Year  \n",
       "0         3860163.0     167784.0  4027947.0      TOTAL  2006  \n",
       "22        4011399.0     230649.0  4242048.0      TOTAL  2013  \n",
       "44        4699755.0          0.0  4699755.0      TOTAL  2018  "
      ]
     },
     "execution_count": 141,
     "metadata": {},
     "output_type": "execute_result"
    }
   ],
   "source": [
    "national_pop=groupE.loc[groupE['ParentArea']==\"TOTAL\"]\n",
    "national_pop=national_pop.drop_duplicates()\n",
    "#delete the last row which contains details about the download\n",
    "#national=national.drop(1235,axis=0)\n",
    "print(national_pop.shape)\n",
    "national_pop"
   ]
  },
  {
   "cell_type": "code",
   "execution_count": 142,
   "id": "b6d69c2a",
   "metadata": {},
   "outputs": [
    {
     "data": {
      "text/html": [
       "<div>\n",
       "<style scoped>\n",
       "    .dataframe tbody tr th:only-of-type {\n",
       "        vertical-align: middle;\n",
       "    }\n",
       "\n",
       "    .dataframe tbody tr th {\n",
       "        vertical-align: top;\n",
       "    }\n",
       "\n",
       "    .dataframe thead th {\n",
       "        text-align: right;\n",
       "    }\n",
       "</style>\n",
       "<table border=\"1\" class=\"dataframe\">\n",
       "  <thead>\n",
       "    <tr style=\"text-align: right;\">\n",
       "      <th></th>\n",
       "      <th>Area</th>\n",
       "      <th>TotUsuallyResident</th>\n",
       "      <th>European</th>\n",
       "      <th>Maori</th>\n",
       "      <th>Pacific</th>\n",
       "      <th>Asia</th>\n",
       "      <th>Other</th>\n",
       "      <th>TotalSpec1orMore</th>\n",
       "      <th>ParentArea</th>\n",
       "      <th>Year</th>\n",
       "    </tr>\n",
       "  </thead>\n",
       "  <tbody>\n",
       "    <tr>\n",
       "      <th>0</th>\n",
       "      <td>TotalNZ</td>\n",
       "      <td>3737280</td>\n",
       "      <td>2871432.0</td>\n",
       "      <td>526281.0</td>\n",
       "      <td>231801.0</td>\n",
       "      <td>238179.0</td>\n",
       "      <td>24993.0</td>\n",
       "      <td>3586734.0</td>\n",
       "      <td>TOTAL</td>\n",
       "      <td>2001</td>\n",
       "    </tr>\n",
       "  </tbody>\n",
       "</table>\n",
       "</div>"
      ],
      "text/plain": [
       "      Area  TotUsuallyResident   European     Maori   Pacific      Asia  \\\n",
       "0  TotalNZ             3737280  2871432.0  526281.0  231801.0  238179.0   \n",
       "\n",
       "     Other  TotalSpec1orMore ParentArea  Year  \n",
       "0  24993.0         3586734.0      TOTAL  2001  "
      ]
     },
     "execution_count": 142,
     "metadata": {},
     "output_type": "execute_result"
    }
   ],
   "source": [
    "national_pop_2001=groupE_2001.loc[groupE_2001['ParentArea']==\"TOTAL\"]\n",
    "national_pop_2001=national_pop_2001.drop_duplicates()\n",
    "national_pop_2001"
   ]
  },
  {
   "cell_type": "code",
   "execution_count": 143,
   "id": "dbe65466",
   "metadata": {},
   "outputs": [],
   "source": [
    "# Next, create the dataframe\n",
    "\n",
    "plotDat=pd.DataFrame(columns=['Year','ALL_unit','LOG_unit','RET_unit','WSL_unit','TWD_unit',\n",
    "                              'ALL_growth','LOG_growth','RET_growth','WSL_growth','TWD_growth'])\n",
    "years=['2000','2001','2002','2003','2004','2005','2006','2007','2008',\n",
    "      '2009','2010','2011','2012','2013','2014','2015','2016','2017','2018',\n",
    "      '2019','2020']\n",
    "\n",
    "for yr in range(len(years)):\n",
    "    y=years[yr]\n",
    "    ALL=national.loc[national['Year']==int(years[yr])].TotInd_GeogUnits.tolist()\n",
    "    WSL=national.loc[national['Year']==int(years[yr])].F_GeogUnits.tolist()\n",
    "    RET=national.loc[national['Year']==int(years[yr])].G_GeogUnits.tolist()\n",
    "    s=national.loc[national['Year']==int(years[yr])].I461_GeogUnits.tolist()\n",
    "    t=national.loc[national['Year']==int(years[yr])].I471_GeogUnits.tolist()\n",
    "    w=national.loc[national['Year']==int(years[yr])].I481_GeogUnits.tolist()\n",
    "    v=national.loc[national['Year']==int(years[yr])].I51_GeogUnits.tolist()\n",
    "    x=national.loc[national['Year']==int(years[yr])].I53_GeogUnits.tolist()\n",
    "    TWD=s[0]+t[0]+w[0]+v[0]+x[0]\n",
    "    LOG=RET[0]+WSL[0]+TWD\n",
    "    add_row={'Year':y,'ALL_unit':ALL[0],'LOG_unit':LOG,'RET_unit':RET[0],'WSL_unit':WSL[0],'TWD_unit':TWD,\n",
    "            'ALL_growth':np.nan,'LOG_growth':np.nan,'RET_growth':np.nan,'WSL_growth':np.nan,'TWD_growth':np.nan}\n",
    "    plotDat=plotDat.append(add_row,ignore_index=True)\n",
    "\n",
    "plotDat['ALL_growth']=plotDat['ALL_unit']/plotDat.iloc[0,1]*100\n",
    "plotDat['LOG_growth']=plotDat['LOG_unit']/plotDat.iloc[0,2]*100\n",
    "plotDat['RET_growth']=plotDat['RET_unit']/plotDat.iloc[0,3]*100\n",
    "plotDat['WSL_growth']=plotDat['WSL_unit']/plotDat.iloc[0,4]*100\n",
    "plotDat['TWD_growth']=plotDat['TWD_unit']/plotDat.iloc[0,5]*100"
   ]
  },
  {
   "cell_type": "code",
   "execution_count": 144,
   "id": "35b09150",
   "metadata": {},
   "outputs": [],
   "source": [
    "plotDat['POP_num']=np.nan\n",
    "plotDat['POP_growth']=np.nan"
   ]
  },
  {
   "cell_type": "code",
   "execution_count": 145,
   "id": "ecc28254",
   "metadata": {},
   "outputs": [
    {
     "data": {
      "text/html": [
       "<div>\n",
       "<style scoped>\n",
       "    .dataframe tbody tr th:only-of-type {\n",
       "        vertical-align: middle;\n",
       "    }\n",
       "\n",
       "    .dataframe tbody tr th {\n",
       "        vertical-align: top;\n",
       "    }\n",
       "\n",
       "    .dataframe thead th {\n",
       "        text-align: right;\n",
       "    }\n",
       "</style>\n",
       "<table border=\"1\" class=\"dataframe\">\n",
       "  <thead>\n",
       "    <tr style=\"text-align: right;\">\n",
       "      <th></th>\n",
       "      <th>Year</th>\n",
       "      <th>ALL_unit</th>\n",
       "      <th>LOG_unit</th>\n",
       "      <th>RET_unit</th>\n",
       "      <th>WSL_unit</th>\n",
       "      <th>TWD_unit</th>\n",
       "      <th>ALL_growth</th>\n",
       "      <th>LOG_growth</th>\n",
       "      <th>RET_growth</th>\n",
       "      <th>WSL_growth</th>\n",
       "      <th>TWD_growth</th>\n",
       "      <th>POP_num</th>\n",
       "      <th>POP_growth</th>\n",
       "    </tr>\n",
       "  </thead>\n",
       "  <tbody>\n",
       "    <tr>\n",
       "      <th>0</th>\n",
       "      <td>2000</td>\n",
       "      <td>406149.0</td>\n",
       "      <td>60252.0</td>\n",
       "      <td>30204.0</td>\n",
       "      <td>20253.0</td>\n",
       "      <td>9795.0</td>\n",
       "      <td>100.000000</td>\n",
       "      <td>100.000000</td>\n",
       "      <td>100.000000</td>\n",
       "      <td>100.000000</td>\n",
       "      <td>100.000000</td>\n",
       "      <td>NaN</td>\n",
       "      <td>100.000000</td>\n",
       "    </tr>\n",
       "    <tr>\n",
       "      <th>1</th>\n",
       "      <td>2001</td>\n",
       "      <td>403344.0</td>\n",
       "      <td>58281.0</td>\n",
       "      <td>29289.0</td>\n",
       "      <td>19704.0</td>\n",
       "      <td>9288.0</td>\n",
       "      <td>99.309367</td>\n",
       "      <td>96.728739</td>\n",
       "      <td>96.970600</td>\n",
       "      <td>97.289290</td>\n",
       "      <td>94.823890</td>\n",
       "      <td>3.737280e+06</td>\n",
       "      <td>100.000000</td>\n",
       "    </tr>\n",
       "    <tr>\n",
       "      <th>2</th>\n",
       "      <td>2002</td>\n",
       "      <td>407661.0</td>\n",
       "      <td>57777.0</td>\n",
       "      <td>29106.0</td>\n",
       "      <td>19590.0</td>\n",
       "      <td>9081.0</td>\n",
       "      <td>100.372277</td>\n",
       "      <td>95.892253</td>\n",
       "      <td>96.364720</td>\n",
       "      <td>96.726411</td>\n",
       "      <td>92.710567</td>\n",
       "      <td>3.795413e+06</td>\n",
       "      <td>101.555500</td>\n",
       "    </tr>\n",
       "    <tr>\n",
       "      <th>3</th>\n",
       "      <td>2003</td>\n",
       "      <td>421701.0</td>\n",
       "      <td>58740.0</td>\n",
       "      <td>29682.0</td>\n",
       "      <td>19914.0</td>\n",
       "      <td>9144.0</td>\n",
       "      <td>103.829137</td>\n",
       "      <td>97.490540</td>\n",
       "      <td>98.271752</td>\n",
       "      <td>98.326174</td>\n",
       "      <td>93.353752</td>\n",
       "      <td>3.853547e+06</td>\n",
       "      <td>103.111001</td>\n",
       "    </tr>\n",
       "    <tr>\n",
       "      <th>4</th>\n",
       "      <td>2004</td>\n",
       "      <td>456717.0</td>\n",
       "      <td>61965.0</td>\n",
       "      <td>31620.0</td>\n",
       "      <td>20628.0</td>\n",
       "      <td>9717.0</td>\n",
       "      <td>112.450603</td>\n",
       "      <td>102.843059</td>\n",
       "      <td>104.688121</td>\n",
       "      <td>101.851578</td>\n",
       "      <td>99.203675</td>\n",
       "      <td>3.911680e+06</td>\n",
       "      <td>104.666501</td>\n",
       "    </tr>\n",
       "    <tr>\n",
       "      <th>5</th>\n",
       "      <td>2005</td>\n",
       "      <td>476415.0</td>\n",
       "      <td>63777.0</td>\n",
       "      <td>32613.0</td>\n",
       "      <td>21150.0</td>\n",
       "      <td>10014.0</td>\n",
       "      <td>117.300547</td>\n",
       "      <td>105.850428</td>\n",
       "      <td>107.975765</td>\n",
       "      <td>104.428973</td>\n",
       "      <td>102.235835</td>\n",
       "      <td>3.969814e+06</td>\n",
       "      <td>106.222001</td>\n",
       "    </tr>\n",
       "    <tr>\n",
       "      <th>6</th>\n",
       "      <td>2006</td>\n",
       "      <td>493440.0</td>\n",
       "      <td>64878.0</td>\n",
       "      <td>33366.0</td>\n",
       "      <td>21447.0</td>\n",
       "      <td>10065.0</td>\n",
       "      <td>121.492359</td>\n",
       "      <td>107.677753</td>\n",
       "      <td>110.468812</td>\n",
       "      <td>105.895423</td>\n",
       "      <td>102.756508</td>\n",
       "      <td>4.027947e+06</td>\n",
       "      <td>107.777501</td>\n",
       "    </tr>\n",
       "    <tr>\n",
       "      <th>7</th>\n",
       "      <td>2007</td>\n",
       "      <td>504288.0</td>\n",
       "      <td>64902.0</td>\n",
       "      <td>33675.0</td>\n",
       "      <td>21318.0</td>\n",
       "      <td>9909.0</td>\n",
       "      <td>124.163300</td>\n",
       "      <td>107.717586</td>\n",
       "      <td>111.491855</td>\n",
       "      <td>105.258480</td>\n",
       "      <td>101.163859</td>\n",
       "      <td>4.058533e+06</td>\n",
       "      <td>108.595900</td>\n",
       "    </tr>\n",
       "    <tr>\n",
       "      <th>8</th>\n",
       "      <td>2008</td>\n",
       "      <td>514827.0</td>\n",
       "      <td>65262.0</td>\n",
       "      <td>34026.0</td>\n",
       "      <td>21315.0</td>\n",
       "      <td>9921.0</td>\n",
       "      <td>126.758160</td>\n",
       "      <td>108.315077</td>\n",
       "      <td>112.653953</td>\n",
       "      <td>105.243668</td>\n",
       "      <td>101.286371</td>\n",
       "      <td>4.089119e+06</td>\n",
       "      <td>109.414299</td>\n",
       "    </tr>\n",
       "    <tr>\n",
       "      <th>9</th>\n",
       "      <td>2009</td>\n",
       "      <td>518487.0</td>\n",
       "      <td>64617.0</td>\n",
       "      <td>33738.0</td>\n",
       "      <td>21114.0</td>\n",
       "      <td>9765.0</td>\n",
       "      <td>127.659307</td>\n",
       "      <td>107.244573</td>\n",
       "      <td>111.700437</td>\n",
       "      <td>104.251222</td>\n",
       "      <td>99.693721</td>\n",
       "      <td>4.119705e+06</td>\n",
       "      <td>110.232698</td>\n",
       "    </tr>\n",
       "    <tr>\n",
       "      <th>10</th>\n",
       "      <td>2010</td>\n",
       "      <td>511323.0</td>\n",
       "      <td>63342.0</td>\n",
       "      <td>33441.0</td>\n",
       "      <td>20511.0</td>\n",
       "      <td>9390.0</td>\n",
       "      <td>125.895423</td>\n",
       "      <td>105.128460</td>\n",
       "      <td>110.717124</td>\n",
       "      <td>101.273885</td>\n",
       "      <td>95.865237</td>\n",
       "      <td>4.150290e+06</td>\n",
       "      <td>111.051097</td>\n",
       "    </tr>\n",
       "    <tr>\n",
       "      <th>11</th>\n",
       "      <td>2011</td>\n",
       "      <td>511065.0</td>\n",
       "      <td>63213.0</td>\n",
       "      <td>33552.0</td>\n",
       "      <td>20418.0</td>\n",
       "      <td>9243.0</td>\n",
       "      <td>125.831899</td>\n",
       "      <td>104.914360</td>\n",
       "      <td>111.084625</td>\n",
       "      <td>100.814694</td>\n",
       "      <td>94.364472</td>\n",
       "      <td>4.180876e+06</td>\n",
       "      <td>111.869496</td>\n",
       "    </tr>\n",
       "    <tr>\n",
       "      <th>12</th>\n",
       "      <td>2012</td>\n",
       "      <td>510144.0</td>\n",
       "      <td>62820.0</td>\n",
       "      <td>33321.0</td>\n",
       "      <td>20346.0</td>\n",
       "      <td>9153.0</td>\n",
       "      <td>125.605135</td>\n",
       "      <td>104.262099</td>\n",
       "      <td>110.319825</td>\n",
       "      <td>100.459191</td>\n",
       "      <td>93.445636</td>\n",
       "      <td>4.211462e+06</td>\n",
       "      <td>112.687894</td>\n",
       "    </tr>\n",
       "    <tr>\n",
       "      <th>13</th>\n",
       "      <td>2013</td>\n",
       "      <td>513108.0</td>\n",
       "      <td>63069.0</td>\n",
       "      <td>33666.0</td>\n",
       "      <td>20256.0</td>\n",
       "      <td>9147.0</td>\n",
       "      <td>126.334916</td>\n",
       "      <td>104.675363</td>\n",
       "      <td>111.462058</td>\n",
       "      <td>100.014813</td>\n",
       "      <td>93.384380</td>\n",
       "      <td>4.242048e+06</td>\n",
       "      <td>113.506293</td>\n",
       "    </tr>\n",
       "    <tr>\n",
       "      <th>14</th>\n",
       "      <td>2014</td>\n",
       "      <td>530922.0</td>\n",
       "      <td>64218.0</td>\n",
       "      <td>34371.0</td>\n",
       "      <td>20547.0</td>\n",
       "      <td>9300.0</td>\n",
       "      <td>130.720992</td>\n",
       "      <td>106.582354</td>\n",
       "      <td>113.796186</td>\n",
       "      <td>101.451637</td>\n",
       "      <td>94.946401</td>\n",
       "      <td>4.333589e+06</td>\n",
       "      <td>115.955706</td>\n",
       "    </tr>\n",
       "    <tr>\n",
       "      <th>15</th>\n",
       "      <td>2015</td>\n",
       "      <td>543447.0</td>\n",
       "      <td>65532.0</td>\n",
       "      <td>35088.0</td>\n",
       "      <td>20997.0</td>\n",
       "      <td>9447.0</td>\n",
       "      <td>133.804835</td>\n",
       "      <td>108.763195</td>\n",
       "      <td>116.170044</td>\n",
       "      <td>103.673530</td>\n",
       "      <td>96.447167</td>\n",
       "      <td>4.425131e+06</td>\n",
       "      <td>118.405118</td>\n",
       "    </tr>\n",
       "    <tr>\n",
       "      <th>16</th>\n",
       "      <td>2016</td>\n",
       "      <td>553248.0</td>\n",
       "      <td>66222.0</td>\n",
       "      <td>35421.0</td>\n",
       "      <td>21210.0</td>\n",
       "      <td>9591.0</td>\n",
       "      <td>136.217989</td>\n",
       "      <td>109.908385</td>\n",
       "      <td>117.272547</td>\n",
       "      <td>104.725226</td>\n",
       "      <td>97.917305</td>\n",
       "      <td>4.516672e+06</td>\n",
       "      <td>120.854531</td>\n",
       "    </tr>\n",
       "    <tr>\n",
       "      <th>17</th>\n",
       "      <td>2017</td>\n",
       "      <td>567327.0</td>\n",
       "      <td>66459.0</td>\n",
       "      <td>35574.0</td>\n",
       "      <td>21204.0</td>\n",
       "      <td>9681.0</td>\n",
       "      <td>139.684451</td>\n",
       "      <td>110.301733</td>\n",
       "      <td>117.779102</td>\n",
       "      <td>104.695601</td>\n",
       "      <td>98.836141</td>\n",
       "      <td>4.608214e+06</td>\n",
       "      <td>123.303943</td>\n",
       "    </tr>\n",
       "    <tr>\n",
       "      <th>18</th>\n",
       "      <td>2018</td>\n",
       "      <td>572940.0</td>\n",
       "      <td>65835.0</td>\n",
       "      <td>35286.0</td>\n",
       "      <td>20847.0</td>\n",
       "      <td>9702.0</td>\n",
       "      <td>141.066456</td>\n",
       "      <td>109.266082</td>\n",
       "      <td>116.825586</td>\n",
       "      <td>102.932899</td>\n",
       "      <td>99.050536</td>\n",
       "      <td>4.699755e+06</td>\n",
       "      <td>125.753355</td>\n",
       "    </tr>\n",
       "    <tr>\n",
       "      <th>19</th>\n",
       "      <td>2019</td>\n",
       "      <td>584343.0</td>\n",
       "      <td>65778.0</td>\n",
       "      <td>35289.0</td>\n",
       "      <td>20646.0</td>\n",
       "      <td>9843.0</td>\n",
       "      <td>143.874046</td>\n",
       "      <td>109.171480</td>\n",
       "      <td>116.835518</td>\n",
       "      <td>101.940453</td>\n",
       "      <td>100.490046</td>\n",
       "      <td>4.699755e+06</td>\n",
       "      <td>125.753355</td>\n",
       "    </tr>\n",
       "    <tr>\n",
       "      <th>20</th>\n",
       "      <td>2020</td>\n",
       "      <td>593592.0</td>\n",
       "      <td>65319.0</td>\n",
       "      <td>35076.0</td>\n",
       "      <td>20412.0</td>\n",
       "      <td>9831.0</td>\n",
       "      <td>146.151289</td>\n",
       "      <td>108.409679</td>\n",
       "      <td>116.130314</td>\n",
       "      <td>100.785069</td>\n",
       "      <td>100.367534</td>\n",
       "      <td>4.699755e+06</td>\n",
       "      <td>125.753355</td>\n",
       "    </tr>\n",
       "  </tbody>\n",
       "</table>\n",
       "</div>"
      ],
      "text/plain": [
       "    Year  ALL_unit  LOG_unit  RET_unit  WSL_unit  TWD_unit  ALL_growth  \\\n",
       "0   2000  406149.0   60252.0   30204.0   20253.0    9795.0  100.000000   \n",
       "1   2001  403344.0   58281.0   29289.0   19704.0    9288.0   99.309367   \n",
       "2   2002  407661.0   57777.0   29106.0   19590.0    9081.0  100.372277   \n",
       "3   2003  421701.0   58740.0   29682.0   19914.0    9144.0  103.829137   \n",
       "4   2004  456717.0   61965.0   31620.0   20628.0    9717.0  112.450603   \n",
       "5   2005  476415.0   63777.0   32613.0   21150.0   10014.0  117.300547   \n",
       "6   2006  493440.0   64878.0   33366.0   21447.0   10065.0  121.492359   \n",
       "7   2007  504288.0   64902.0   33675.0   21318.0    9909.0  124.163300   \n",
       "8   2008  514827.0   65262.0   34026.0   21315.0    9921.0  126.758160   \n",
       "9   2009  518487.0   64617.0   33738.0   21114.0    9765.0  127.659307   \n",
       "10  2010  511323.0   63342.0   33441.0   20511.0    9390.0  125.895423   \n",
       "11  2011  511065.0   63213.0   33552.0   20418.0    9243.0  125.831899   \n",
       "12  2012  510144.0   62820.0   33321.0   20346.0    9153.0  125.605135   \n",
       "13  2013  513108.0   63069.0   33666.0   20256.0    9147.0  126.334916   \n",
       "14  2014  530922.0   64218.0   34371.0   20547.0    9300.0  130.720992   \n",
       "15  2015  543447.0   65532.0   35088.0   20997.0    9447.0  133.804835   \n",
       "16  2016  553248.0   66222.0   35421.0   21210.0    9591.0  136.217989   \n",
       "17  2017  567327.0   66459.0   35574.0   21204.0    9681.0  139.684451   \n",
       "18  2018  572940.0   65835.0   35286.0   20847.0    9702.0  141.066456   \n",
       "19  2019  584343.0   65778.0   35289.0   20646.0    9843.0  143.874046   \n",
       "20  2020  593592.0   65319.0   35076.0   20412.0    9831.0  146.151289   \n",
       "\n",
       "    LOG_growth  RET_growth  WSL_growth  TWD_growth       POP_num  POP_growth  \n",
       "0   100.000000  100.000000  100.000000  100.000000           NaN  100.000000  \n",
       "1    96.728739   96.970600   97.289290   94.823890  3.737280e+06  100.000000  \n",
       "2    95.892253   96.364720   96.726411   92.710567  3.795413e+06  101.555500  \n",
       "3    97.490540   98.271752   98.326174   93.353752  3.853547e+06  103.111001  \n",
       "4   102.843059  104.688121  101.851578   99.203675  3.911680e+06  104.666501  \n",
       "5   105.850428  107.975765  104.428973  102.235835  3.969814e+06  106.222001  \n",
       "6   107.677753  110.468812  105.895423  102.756508  4.027947e+06  107.777501  \n",
       "7   107.717586  111.491855  105.258480  101.163859  4.058533e+06  108.595900  \n",
       "8   108.315077  112.653953  105.243668  101.286371  4.089119e+06  109.414299  \n",
       "9   107.244573  111.700437  104.251222   99.693721  4.119705e+06  110.232698  \n",
       "10  105.128460  110.717124  101.273885   95.865237  4.150290e+06  111.051097  \n",
       "11  104.914360  111.084625  100.814694   94.364472  4.180876e+06  111.869496  \n",
       "12  104.262099  110.319825  100.459191   93.445636  4.211462e+06  112.687894  \n",
       "13  104.675363  111.462058  100.014813   93.384380  4.242048e+06  113.506293  \n",
       "14  106.582354  113.796186  101.451637   94.946401  4.333589e+06  115.955706  \n",
       "15  108.763195  116.170044  103.673530   96.447167  4.425131e+06  118.405118  \n",
       "16  109.908385  117.272547  104.725226   97.917305  4.516672e+06  120.854531  \n",
       "17  110.301733  117.779102  104.695601   98.836141  4.608214e+06  123.303943  \n",
       "18  109.266082  116.825586  102.932899   99.050536  4.699755e+06  125.753355  \n",
       "19  109.171480  116.835518  101.940453  100.490046  4.699755e+06  125.753355  \n",
       "20  108.409679  116.130314  100.785069  100.367534  4.699755e+06  125.753355  "
      ]
     },
     "execution_count": 145,
     "metadata": {},
     "output_type": "execute_result"
    }
   ],
   "source": [
    "plotDat.iloc[1,11]=national_pop_2001.iloc[0,1]\n",
    "plotDat.iloc[1,12]=plotDat.iloc[1,11]/plotDat.iloc[1,11]*100\n",
    "\n",
    "plotDat.iloc[6,11]=national_pop.iloc[0,11]\n",
    "plotDat.iloc[6,12]=plotDat.iloc[6,11]/plotDat.iloc[1,11]*100\n",
    "\n",
    "plotDat.iloc[13,11]=national_pop.iloc[1,11]\n",
    "plotDat.iloc[13,12]=plotDat.iloc[13,11]/plotDat.iloc[1,11]*100\n",
    "\n",
    "plotDat.iloc[18,11]=national_pop.iloc[2,11]\n",
    "plotDat.iloc[18,12]=plotDat.iloc[18,11]/plotDat.iloc[1,11]*100\n",
    "\n",
    "plotDat=plotDat.interpolate(method='linear')\n",
    "plotDat.iloc[0,12]=100\n",
    "plotDat\n"
   ]
  },
  {
   "cell_type": "code",
   "execution_count": 146,
   "id": "d56eb6e4",
   "metadata": {},
   "outputs": [
    {
     "data": {
      "image/png": "[encoded data removed]",
      "text/plain": [
       "<Figure size 432x288 with 1 Axes>"
      ]
     },
     "metadata": {
      "needs_background": "light"
     },
     "output_type": "display_data"
    }
   ],
   "source": [
    "markers_on = [1, 6, 13, 18]\n",
    "plt.plot(plotDat['Year'],plotDat['ALL_growth'],label=\"ALL\",linestyle=(0,(1,1)),color='black')\n",
    "plt.plot(plotDat['Year'],plotDat['LOG_growth'],label=\"LOG\",linestyle=\"solid\",color=\"black\",linewidth=1.5)\n",
    "plt.plot(plotDat['Year'],plotDat['RET_growth'],label=\"RET\",linestyle=\"dashed\",color=\"darkgrey\",linewidth=1.5)\n",
    "plt.plot(plotDat['Year'],plotDat['WSL_growth'],label=\"WSL\",linestyle=\"dotted\",color=\"darkgrey\",linewidth=1.5)\n",
    "plt.plot(plotDat['Year'],plotDat['TWD_growth'],label=\"TWD\",linestyle=\"dashdot\",color=\"darkgrey\",linewidth=1.5)\n",
    "plt.plot(plotDat['Year'],plotDat['POP_growth'],label=\"POP\",linestyle=\"solid\",markevery=markers_on,marker='o',color=\"darkgrey\",linewidth=1.5)\n",
    "#plt.title('Indexed growth (base year: 2000)')\n",
    "plt.xticks(rotation=90,fontname='Serif',fontsize=12)\n",
    "plt.xlabel('Year',fontname='Serif',fontsize=12,labelpad=16)\n",
    "plt.ylabel('Index',fontname='Serif',fontsize=12)\n",
    "plt.yticks(fontname='Serif',fontsize=12)\n",
    "plt.legend(prop={'family':'Serif', 'size':12})\n",
    "plt.show()\n",
    "#plt.savefig('../manuscripts/graphics/IndexedGrowth.png')"
   ]
  },
  {
   "cell_type": "code",
   "execution_count": 158,
   "id": "5d2ee7ee",
   "metadata": {},
   "outputs": [],
   "source": [
    "plotDat2=pd.DataFrame(columns=[\"Year\",\"Area\",\"ALL_unit\",'LOG_unit', 'RET_unit', 'WSL_unit', 'TWD_unit',\n",
    "                              \"ALL_perc\",'LOG_perc', 'RET_perc', 'WSL_perc', 'TWD_perc'])\n",
    "plotDat3=pd.DataFrame(columns=['Year','Area','POP_num','POP_perc'])\n",
    "\n",
    "regionMaster=['Auckland Region','Bay of Plenty Region','Canterbury Region','Otago Region',\n",
    "              'Waikato Region','Wellington Region']\n",
    "\n",
    "regionMaster2=['AucklandRegion','BayOfPlentyRegion','CanterburyRegion',\n",
    "               'OtagoRegion','WaikatoRegion','WellingtonRegion']\n",
    "\n",
    "regionCombo=['Southland Region','Area Outside Region','Gisborne Region','Hawke\\'s Bay Region','Marlborough Region','Nelson Region','Northland Region','Taranaki Region','Tasman Region','West Coast Region','Manawatu-Wanganui Region']\n",
    "regionCombo2=['SouthlandRegion','AreaOutsideRegion','GisborneRegion','HawkesBayRegion','MarlboroughRegion','NelsonRegion','NorthlandRegion','TaranakiRegion','TasmanRegion','WestCoastRegion','Manawatu-WanganuiRegion']\n",
    "\n",
    "years1=[2000,2020]\n",
    "years2=[2001,2018]\n",
    "\n",
    "count=0\n",
    "\n",
    "for region in regionMaster:\n",
    "    for yr in years1:\n",
    "        sliced=groupA.loc[(groupA[\"Year\"]==yr) & (groupA['Area']==region)]\n",
    "        if(region=='Manawatu-Wanganui Region'):\n",
    "            s=sliced.iloc[0,7]+sliced.iloc[0,9]+sliced.iloc[0,13]+sliced.iloc[0,15]\n",
    "        else:\n",
    "            s=sliced.iloc[0,7]+sliced.iloc[0,9]+sliced.iloc[0,11]+sliced.iloc[0,13]+sliced.iloc[0,15]\n",
    "        log=s+sliced.iloc[0,5]+sliced.iloc[0,3]\n",
    "        add_row={\"Year\":yr,\"Area\":region,\"ALL_unit\":sliced.iloc[0,1],'LOG_unit':log, 'RET_unit':sliced.iloc[0,5], \n",
    "                 'WSL_unit':sliced.iloc[0,3], 'TWD_unit':s,\n",
    "                 \"ALL_perc\":np.nan,'LOG_perc':np.nan, 'RET_perc':np.nan, 'WSL_perc':np.nan, 'TWD_perc':np.nan}\n",
    "        plotDat2=plotDat2.append(add_row,ignore_index=True)\n",
    "        \n",
    "for yr in years1:\n",
    "    sliced=groupA.loc[(groupA[\"Year\"]==yr) & (groupA['Area'].isin(regionCombo))]\n",
    "    ALL=sliced['TotInd_GeogUnits'].sum(skipna=True)\n",
    "    WSL=sliced['F_GeogUnits'].sum(skipna=True)\n",
    "    RET=sliced['G_GeogUnits'].sum(skipna=True)\n",
    "    TWD=sliced['I461_GeogUnits'].sum(skipna=True)+sliced['I471_GeogUnits'].sum(skipna=True)+sliced['I481_GeogUnits'].sum(skipna=True)+sliced['I51_GeogUnits'].sum(skipna=True)+sliced['I53_GeogUnits'].sum(skipna=True)\n",
    "    LOG=TWD+RET+WSL\n",
    "    add_row={\"Year\":yr,\"Area\":'Rest of NZ',\"ALL_unit\":ALL,'LOG_unit':LOG, 'RET_unit':RET, \n",
    "                 'WSL_unit':WSL, 'TWD_unit':TWD,\n",
    "                 \"ALL_perc\":np.nan,'LOG_perc':np.nan, 'RET_perc':np.nan, 'WSL_perc':np.nan, 'TWD_perc':np.nan}\n",
    "    plotDat2=plotDat2.append(add_row,ignore_index=True)\n",
    "\n",
    "        \n",
    "for region in regionMaster2:\n",
    "    sliced=groupE_2001.loc[groupE_2001['Area']==region]\n",
    "    add_row={'Year':2001,'Area':region,'POP_num':sliced.iloc[0,1],'POP_perc':np.nan}\n",
    "    plotDat3=plotDat3.append(add_row,ignore_index=True)\n",
    "\n",
    "for region in regionMaster:\n",
    "    sliced=groupE.loc[(groupE[\"Year\"]==2018) & (groupE['Area']==region)]\n",
    "    add_row={'Year':2018,'Area':region,'POP_num':sliced.iloc[0,11],'POP_perc':np.nan}\n",
    "    plotDat3=plotDat3.append(add_row,ignore_index=True)\n",
    "    \n",
    "sliced=groupE_2001.loc[groupE_2001['Area'].isin(regionCombo2)]\n",
    "add_row={'Year':2001,'Area':'Rest of NZ','POP_num':sliced['TotUsuallyResident'].sum(skipna=True),'POP_perc':np.nan}\n",
    "plotDat3=plotDat3.append(add_row,ignore_index=True)\n",
    "\n",
    "sliced=groupE.loc[(groupE[\"Year\"]==2018) & (groupE['Area'].isin(regionCombo))]\n",
    "add_row={'Year':2018,'Area':'Rest of NZ','POP_num':sliced['TotPeople'].sum(skipna=True),'POP_perc':np.nan}\n",
    "plotDat3=plotDat3.append(add_row,ignore_index=True)\n",
    "    "
   ]
  },
  {
   "cell_type": "code",
   "execution_count": 42,
   "id": "7a55fe7d",
   "metadata": {},
   "outputs": [
    {
     "name": "stderr",
     "output_type": "stream",
     "text": [
      "/var/folders/d9/t204x1311sq225p1m303pk4r0000gr/T/ipykernel_12641/456991375.py:2: SettingWithCopyWarning:\n",
      "\n",
      "\n",
      "A value is trying to be set on a copy of a slice from a DataFrame.\n",
      "Try using .loc[row_indexer,col_indexer] = value instead\n",
      "\n",
      "See the caveats in the documentation: https://pandas.pydata.org/pandas-docs/stable/user_guide/indexing.html#returning-a-view-versus-a-copy\n",
      "\n",
      "/var/folders/d9/t204x1311sq225p1m303pk4r0000gr/T/ipykernel_12641/456991375.py:3: SettingWithCopyWarning:\n",
      "\n",
      "\n",
      "A value is trying to be set on a copy of a slice from a DataFrame.\n",
      "Try using .loc[row_indexer,col_indexer] = value instead\n",
      "\n",
      "See the caveats in the documentation: https://pandas.pydata.org/pandas-docs/stable/user_guide/indexing.html#returning-a-view-versus-a-copy\n",
      "\n",
      "/var/folders/d9/t204x1311sq225p1m303pk4r0000gr/T/ipykernel_12641/456991375.py:4: SettingWithCopyWarning:\n",
      "\n",
      "\n",
      "A value is trying to be set on a copy of a slice from a DataFrame.\n",
      "Try using .loc[row_indexer,col_indexer] = value instead\n",
      "\n",
      "See the caveats in the documentation: https://pandas.pydata.org/pandas-docs/stable/user_guide/indexing.html#returning-a-view-versus-a-copy\n",
      "\n",
      "/var/folders/d9/t204x1311sq225p1m303pk4r0000gr/T/ipykernel_12641/456991375.py:5: SettingWithCopyWarning:\n",
      "\n",
      "\n",
      "A value is trying to be set on a copy of a slice from a DataFrame.\n",
      "Try using .loc[row_indexer,col_indexer] = value instead\n",
      "\n",
      "See the caveats in the documentation: https://pandas.pydata.org/pandas-docs/stable/user_guide/indexing.html#returning-a-view-versus-a-copy\n",
      "\n",
      "/var/folders/d9/t204x1311sq225p1m303pk4r0000gr/T/ipykernel_12641/456991375.py:6: SettingWithCopyWarning:\n",
      "\n",
      "\n",
      "A value is trying to be set on a copy of a slice from a DataFrame.\n",
      "Try using .loc[row_indexer,col_indexer] = value instead\n",
      "\n",
      "See the caveats in the documentation: https://pandas.pydata.org/pandas-docs/stable/user_guide/indexing.html#returning-a-view-versus-a-copy\n",
      "\n",
      "/var/folders/d9/t204x1311sq225p1m303pk4r0000gr/T/ipykernel_12641/456991375.py:10: SettingWithCopyWarning:\n",
      "\n",
      "\n",
      "A value is trying to be set on a copy of a slice from a DataFrame.\n",
      "Try using .loc[row_indexer,col_indexer] = value instead\n",
      "\n",
      "See the caveats in the documentation: https://pandas.pydata.org/pandas-docs/stable/user_guide/indexing.html#returning-a-view-versus-a-copy\n",
      "\n",
      "/var/folders/d9/t204x1311sq225p1m303pk4r0000gr/T/ipykernel_12641/456991375.py:11: SettingWithCopyWarning:\n",
      "\n",
      "\n",
      "A value is trying to be set on a copy of a slice from a DataFrame.\n",
      "Try using .loc[row_indexer,col_indexer] = value instead\n",
      "\n",
      "See the caveats in the documentation: https://pandas.pydata.org/pandas-docs/stable/user_guide/indexing.html#returning-a-view-versus-a-copy\n",
      "\n",
      "/var/folders/d9/t204x1311sq225p1m303pk4r0000gr/T/ipykernel_12641/456991375.py:12: SettingWithCopyWarning:\n",
      "\n",
      "\n",
      "A value is trying to be set on a copy of a slice from a DataFrame.\n",
      "Try using .loc[row_indexer,col_indexer] = value instead\n",
      "\n",
      "See the caveats in the documentation: https://pandas.pydata.org/pandas-docs/stable/user_guide/indexing.html#returning-a-view-versus-a-copy\n",
      "\n",
      "/var/folders/d9/t204x1311sq225p1m303pk4r0000gr/T/ipykernel_12641/456991375.py:13: SettingWithCopyWarning:\n",
      "\n",
      "\n",
      "A value is trying to be set on a copy of a slice from a DataFrame.\n",
      "Try using .loc[row_indexer,col_indexer] = value instead\n",
      "\n",
      "See the caveats in the documentation: https://pandas.pydata.org/pandas-docs/stable/user_guide/indexing.html#returning-a-view-versus-a-copy\n",
      "\n",
      "/var/folders/d9/t204x1311sq225p1m303pk4r0000gr/T/ipykernel_12641/456991375.py:14: SettingWithCopyWarning:\n",
      "\n",
      "\n",
      "A value is trying to be set on a copy of a slice from a DataFrame.\n",
      "Try using .loc[row_indexer,col_indexer] = value instead\n",
      "\n",
      "See the caveats in the documentation: https://pandas.pydata.org/pandas-docs/stable/user_guide/indexing.html#returning-a-view-versus-a-copy\n",
      "\n",
      "/var/folders/d9/t204x1311sq225p1m303pk4r0000gr/T/ipykernel_12641/456991375.py:17: SettingWithCopyWarning:\n",
      "\n",
      "\n",
      "A value is trying to be set on a copy of a slice from a DataFrame.\n",
      "Try using .loc[row_indexer,col_indexer] = value instead\n",
      "\n",
      "See the caveats in the documentation: https://pandas.pydata.org/pandas-docs/stable/user_guide/indexing.html#returning-a-view-versus-a-copy\n",
      "\n",
      "/var/folders/d9/t204x1311sq225p1m303pk4r0000gr/T/ipykernel_12641/456991375.py:18: SettingWithCopyWarning:\n",
      "\n",
      "\n",
      "A value is trying to be set on a copy of a slice from a DataFrame.\n",
      "Try using .loc[row_indexer,col_indexer] = value instead\n",
      "\n",
      "See the caveats in the documentation: https://pandas.pydata.org/pandas-docs/stable/user_guide/indexing.html#returning-a-view-versus-a-copy\n",
      "\n",
      "/var/folders/d9/t204x1311sq225p1m303pk4r0000gr/T/ipykernel_12641/456991375.py:21: SettingWithCopyWarning:\n",
      "\n",
      "\n",
      "A value is trying to be set on a copy of a slice from a DataFrame.\n",
      "Try using .loc[row_indexer,col_indexer] = value instead\n",
      "\n",
      "See the caveats in the documentation: https://pandas.pydata.org/pandas-docs/stable/user_guide/indexing.html#returning-a-view-versus-a-copy\n",
      "\n"
     ]
    }
   ],
   "source": [
    "plotDat2_2000=plotDat2.loc[plotDat2['Year']==2000]\n",
    "plotDat2_2000['ALL_perc']=plotDat2_2000['ALL_unit']/plotDat2_2000['ALL_unit'].sum()\n",
    "plotDat2_2000['LOG_perc']=plotDat2_2000['LOG_unit']/plotDat2_2000['LOG_unit'].sum()\n",
    "plotDat2_2000['RET_perc']=plotDat2_2000['RET_unit']/plotDat2_2000['RET_unit'].sum()\n",
    "plotDat2_2000['WSL_perc']=plotDat2_2000['WSL_unit']/plotDat2_2000['WSL_unit'].sum()\n",
    "plotDat2_2000['TWD_perc']=plotDat2_2000['TWD_unit']/plotDat2_2000['TWD_unit'].sum()\n",
    "\n",
    "\n",
    "plotDat2_2020=plotDat2.loc[plotDat2['Year']==2020]\n",
    "plotDat2_2020['ALL_perc']=plotDat2_2020['ALL_unit']/plotDat2_2020['ALL_unit'].sum()\n",
    "plotDat2_2020['LOG_perc']=plotDat2_2020['LOG_unit']/plotDat2_2020['LOG_unit'].sum()\n",
    "plotDat2_2020['RET_perc']=plotDat2_2020['RET_unit']/plotDat2_2020['RET_unit'].sum()\n",
    "plotDat2_2020['WSL_perc']=plotDat2_2020['WSL_unit']/plotDat2_2020['WSL_unit'].sum()\n",
    "plotDat2_2020['TWD_perc']=plotDat2_2020['TWD_unit']/plotDat2_2020['TWD_unit'].sum()\n",
    "\n",
    "plotDat3_2001=plotDat3.loc[plotDat3['Year']==2001]\n",
    "plotDat3_2001['POP_perc']=plotDat3_2001['POP_num']/plotDat3_2001['POP_num'].sum()\n",
    "plotDat3_2001['Area']=['Auckland Region','Bay of Plenty Region','Canterbury Region','Manawatu-Wanganui Region','Otago Region','Waikato Region','Wellington Region','Rest of NZ']\n",
    "\n",
    "plotDat3_2018=plotDat3.loc[plotDat3['Year']==2018]\n",
    "plotDat3_2018['POP_perc']=plotDat3_2018['POP_num']/plotDat3_2018['POP_num'].sum()\n"
   ]
  },
  {
   "cell_type": "code",
   "execution_count": 173,
   "id": "80a84b56",
   "metadata": {},
   "outputs": [],
   "source": [
    "ALL=['ALL']*14\n",
    "LOG=['LOG']*14\n",
    "RET=['RET']*14\n",
    "WSL=['WSL']*14\n",
    "TWD=['TWD']*14\n",
    "POP=['POP']*14\n",
    "years1=[2000,2020] *7*5\n",
    "years2=[2001,2018]*7\n",
    "\n",
    "df = pd.DataFrame(\n",
    "    dict(\n",
    "        year=years1+years2,\n",
    "        area=['Auckland Region','Auckland Region','Canterbury Region','Canterbury Region',\n",
    "              'Wellington Region','Wellington Region','Waikato Region','Waikato Region',\n",
    "              'Bay of Plenty Region','Bay of Plenty Region','Otago Region','Otago Region',\n",
    "              'Rest of NZ','Rest of NZ']*6,\n",
    "        facType=ALL+LOG+RET+WSL+TWD+POP,\n",
    "        perc=[np.nan]*84,\n",
    "    )\n",
    ")  \n"
   ]
  },
  {
   "cell_type": "code",
   "execution_count": 174,
   "id": "63afb41d",
   "metadata": {},
   "outputs": [],
   "source": [
    "for i in range(len(df)):\n",
    "    if(df.iloc[i,2]!='POP'):\n",
    "        if(df.iloc[i,0]==2000):\n",
    "            sliced=plotDat2_2000.loc[plotDat2_2000['Area']==df.iloc[i,1]]    \n",
    "        else:\n",
    "            sliced=plotDat2_2020.loc[plotDat2_2020['Area']==df.iloc[i,1]]    \n",
    "        if(df.iloc[i,2]==\"ALL\"):\n",
    "            df.iloc[i,3]=sliced.iloc[0,7]\n",
    "        elif(df.iloc[i,2]==\"LOG\"):\n",
    "            df.iloc[i,3]=sliced.iloc[0,8]\n",
    "        elif(df.iloc[i,2]==\"RET\"):\n",
    "            df.iloc[i,3]=sliced.iloc[0,9]\n",
    "        elif(df.iloc[i,2]==\"WSL\"):\n",
    "            df.iloc[i,3]=sliced.iloc[0,10]\n",
    "        elif(df.iloc[i,2]==\"TWD\"):\n",
    "            df.iloc[i,3]=sliced.iloc[0,11]\n",
    "    else:\n",
    "        if(df.iloc[i,0]==2001):\n",
    "            sliced=plotDat3_2001.loc[plotDat3_2001['Area']==df.iloc[i,1]]    \n",
    "        else:\n",
    "            sliced=plotDat3_2018.loc[plotDat3_2018['Area']==df.iloc[i,1]]   \n",
    "        df.iloc[i,3]=sliced.iloc[0,3]\n",
    "        "
   ]
  },
  {
   "cell_type": "code",
   "execution_count": 153,
   "id": "8c4bd96d",
   "metadata": {},
   "outputs": [
    {
     "data": {
      "application/vnd.plotly.v1+json": {
       "config": {
        "plotlyServerURL": "https://plot.ly"
       },
       "data": [
        {
         "marker": {
          "color": "rgb(0,0,0)"
         },
         "name": "Auckland Region",
         "text": [
          0.3,
          0.35,
          0.37,
          0.41,
          0.32,
          0.39,
          0.45,
          0.48,
          0.34,
          0.34,
          0.31,
          0.33
         ],
         "textposition": "auto",
         "type": "bar",
         "x": [
          [
           "ALL",
           "ALL",
           "LOG",
           "LOG",
           "RET",
           "RET",
           "WSL",
           "WSL",
           "TWD",
           "TWD",
           "POP",
           "POP"
          ],
          [
           2000,
           2020,
           2000,
           2020,
           2000,
           2020,
           2000,
           2020,
           2000,
           2020,
           2001,
           2018
          ]
         ],
         "y": [
          0.30318429935811736,
          0.34713567331261214,
          0.36752988047808766,
          0.40697514129485823,
          0.3191616171649945,
          0.38542468565563254,
          0.45295599348051563,
          0.4756724974276055,
          0.3400735294117647,
          0.3410828999694096,
          0.3100886765781292,
          0.3344257314002952
         ]
        },
        {
         "marker": {
          "color": "rgb(37,37,37)"
         },
         "name": "Canterbury Region",
         "text": [
          0.12,
          0.12,
          0.13,
          0.13,
          0.13,
          0.13,
          0.14,
          0.13,
          0.12,
          0.13,
          0.13,
          0.13
         ],
         "textposition": "auto",
         "type": "bar",
         "x": [
          [
           "ALL",
           "ALL",
           "LOG",
           "LOG",
           "RET",
           "RET",
           "WSL",
           "WSL",
           "TWD",
           "TWD",
           "POP",
           "POP"
          ],
          [
           2000,
           2020,
           2000,
           2020,
           2000,
           2020,
           2000,
           2020,
           2000,
           2020,
           2001,
           2018
          ]
         ],
         "y": [
          0.12265941809532954,
          0.12390266090516261,
          0.13082669322709164,
          0.12750999402655883,
          0.1291347968610311,
          0.12505345992643915,
          0.13927989331752852,
          0.1322945759223872,
          0.11856617647058823,
          0.12633832976445397,
          0.12881824231414804,
          0.12760120108465298
         ]
        },
        {
         "marker": {
          "color": "rgb(82,82,82)"
         },
         "name": "Wellington Region",
         "text": [
          0.11,
          0.1,
          0.1,
          0.08,
          0.11,
          0.09,
          0.1,
          0.07,
          0.1,
          0.08,
          0.11,
          0.11
         ],
         "textposition": "auto",
         "type": "bar",
         "x": [
          [
           "ALL",
           "ALL",
           "LOG",
           "LOG",
           "RET",
           "RET",
           "WSL",
           "WSL",
           "TWD",
           "TWD",
           "POP",
           "POP"
          ],
          [
           2000,
           2020,
           2000,
           2020,
           2000,
           2020,
           2000,
           2020,
           2000,
           2020,
           2001,
           2018
          ]
         ],
         "y": [
          0.10512398159296218,
          0.10016425340509943,
          0.10239043824701195,
          0.08284703395671553,
          0.10906923611800934,
          0.09109571465229664,
          0.0955697140317084,
          0.07070410113185359,
          0.09589460784313726,
          0.07861731416335271,
          0.11338914384196673,
          0.10783845615683552
         ]
        },
        {
         "marker": {
          "color": "rgb(115,115,115)"
         },
         "name": "Waikato Region",
         "text": [
          0.11,
          0.1,
          0.09,
          0.09,
          0.09,
          0.09,
          0.07,
          0.07,
          0.1,
          0.11,
          0.1,
          0.1
         ],
         "textposition": "auto",
         "type": "bar",
         "x": [
          [
           "ALL",
           "ALL",
           "LOG",
           "LOG",
           "RET",
           "RET",
           "WSL",
           "WSL",
           "TWD",
           "TWD",
           "POP",
           "POP"
          ],
          [
           2000,
           2020,
           2000,
           2020,
           2000,
           2020,
           2000,
           2020,
           2000,
           2020,
           2001,
           2018
          ]
         ],
         "y": [
          0.10635751903857944,
          0.0983043994642812,
          0.0872011952191235,
          0.08776363552819005,
          0.09416906724942882,
          0.09066803524078351,
          0.0699362868573122,
          0.07379097457004263,
          0.1014093137254902,
          0.1064545732639951,
          0.09571804588834312,
          0.09749493164745714
         ]
        },
        {
         "marker": {
          "color": "rgb(150,150,150)"
         },
         "name": "Bay of Plenty Region",
         "text": [
          0.07,
          0.07,
          0.06,
          0.06,
          0.07,
          0.07,
          0.05,
          0.05,
          0.07,
          0.07,
          0.06,
          0.07
         ],
         "textposition": "auto",
         "type": "bar",
         "x": [
          [
           "ALL",
           "ALL",
           "LOG",
           "LOG",
           "RET",
           "RET",
           "WSL",
           "WSL",
           "TWD",
           "TWD",
           "POP",
           "POP"
          ],
          [
           2000,
           2020,
           2000,
           2020,
           2000,
           2020,
           2000,
           2020,
           2000,
           2020,
           2001,
           2018
          ]
         ],
         "y": [
          0.06536271171417386,
          0.06546888029717231,
          0.06210159362549801,
          0.06295087993383265,
          0.06675275653124069,
          0.06569155760841673,
          0.051563194547340346,
          0.05379979420843745,
          0.06954656862745098,
          0.07219333129397369,
          0.06406033892481956,
          0.06564154874555082
         ]
        },
        {
         "marker": {
          "color": "rgb(189,189,189)"
         },
         "name": "Otago Region",
         "text": [
          0.05,
          0.05,
          0.04,
          0.04,
          0.05,
          0.05,
          0.03,
          0.04,
          0.04,
          0.04,
          0.05,
          0.05
         ],
         "textposition": "auto",
         "type": "bar",
         "x": [
          [
           "ALL",
           "ALL",
           "LOG",
           "LOG",
           "RET",
           "RET",
           "WSL",
           "WSL",
           "TWD",
           "TWD",
           "POP",
           "POP"
          ],
          [
           2000,
           2020,
           2000,
           2020,
           2000,
           2020,
           2000,
           2020,
           2000,
           2020,
           2001,
           2018
          ]
         ],
         "y": [
          0.04583293323386245,
          0.051666540317893514,
          0.042729083665338646,
          0.04383586821669806,
          0.049766564021058904,
          0.04866991703019417,
          0.03304193213809453,
          0.03571953549904454,
          0.04105392156862745,
          0.043438360354848576,
          0.04857585271034699,
          0.047914443145085105
         ]
        },
        {
         "marker": {
          "color": "rgb(217,217,217)"
         },
         "name": "Rest of NZ",
         "text": [
          0.19,
          0.17,
          0.16,
          0.15,
          0.18,
          0.15,
          0.12,
          0.12,
          0.17,
          0.18,
          0.18,
          0.17
         ],
         "textposition": "auto",
         "type": "bar",
         "x": [
          [
           "ALL",
           "ALL",
           "LOG",
           "LOG",
           "RET",
           "RET",
           "WSL",
           "WSL",
           "TWD",
           "TWD",
           "POP",
           "POP"
          ],
          [
           2000,
           2020,
           2000,
           2020,
           2000,
           2020,
           2000,
           2020,
           2000,
           2020,
           2001,
           2018
          ]
         ],
         "y": [
          0.19450743446370666,
          0.1695853233265105,
          0.1550796812749004,
          0.14538436796397555,
          0.17572265819012617,
          0.1502865452057138,
          0.11557267743369389,
          0.12097603998236073,
          0.17310049019607843,
          0.1786479045579688,
          0.18045968615218144,
          0.16827313441219877
         ]
        }
       ],
       "layout": {
        "barmode": "stack",
        "font": {
         "family": "Serif"
        },
        "template": {
         "data": {
          "bar": [
           {
            "error_x": {
             "color": "rgb(36,36,36)"
            },
            "error_y": {
             "color": "rgb(36,36,36)"
            },
            "marker": {
             "line": {
              "color": "white",
              "width": 0.5
             },
             "pattern": {
              "fillmode": "overlay",
              "size": 10,
              "solidity": 0.2
             }
            },
            "type": "bar"
           }
          ],
          "barpolar": [
           {
            "marker": {
             "line": {
              "color": "white",
              "width": 0.5
             },
             "pattern": {
              "fillmode": "overlay",
              "size": 10,
              "solidity": 0.2
             }
            },
            "type": "barpolar"
           }
          ],
          "carpet": [
           {
            "aaxis": {
             "endlinecolor": "rgb(36,36,36)",
             "gridcolor": "white",
             "linecolor": "white",
             "minorgridcolor": "white",
             "startlinecolor": "rgb(36,36,36)"
            },
            "baxis": {
             "endlinecolor": "rgb(36,36,36)",
             "gridcolor": "white",
             "linecolor": "white",
             "minorgridcolor": "white",
             "startlinecolor": "rgb(36,36,36)"
            },
            "type": "carpet"
           }
          ],
          "choropleth": [
           {
            "colorbar": {
             "outlinewidth": 1,
             "tickcolor": "rgb(36,36,36)",
             "ticks": "outside"
            },
            "type": "choropleth"
           }
          ],
          "contour": [
           {
            "colorbar": {
             "outlinewidth": 1,
             "tickcolor": "rgb(36,36,36)",
             "ticks": "outside"
            },
            "colorscale": [
             [
              0,
              "#440154"
             ],
             [
              0.1111111111111111,
              "#482878"
             ],
             [
              0.2222222222222222,
              "#3e4989"
             ],
             [
              0.3333333333333333,
              "#31688e"
             ],
             [
              0.4444444444444444,
              "#26828e"
             ],
             [
              0.5555555555555556,
              "#1f9e89"
             ],
             [
              0.6666666666666666,
              "#35b779"
             ],
             [
              0.7777777777777778,
              "#6ece58"
             ],
             [
              0.8888888888888888,
              "#b5de2b"
             ],
             [
              1,
              "#fde725"
             ]
            ],
            "type": "contour"
           }
          ],
          "contourcarpet": [
           {
            "colorbar": {
             "outlinewidth": 1,
             "tickcolor": "rgb(36,36,36)",
             "ticks": "outside"
            },
            "type": "contourcarpet"
           }
          ],
          "heatmap": [
           {
            "colorbar": {
             "outlinewidth": 1,
             "tickcolor": "rgb(36,36,36)",
             "ticks": "outside"
            },
            "colorscale": [
             [
              0,
              "#440154"
             ],
             [
              0.1111111111111111,
              "#482878"
             ],
             [
              0.2222222222222222,
              "#3e4989"
             ],
             [
              0.3333333333333333,
              "#31688e"
             ],
             [
              0.4444444444444444,
              "#26828e"
             ],
             [
              0.5555555555555556,
              "#1f9e89"
             ],
             [
              0.6666666666666666,
              "#35b779"
             ],
             [
              0.7777777777777778,
              "#6ece58"
             ],
             [
              0.8888888888888888,
              "#b5de2b"
             ],
             [
              1,
              "#fde725"
             ]
            ],
            "type": "heatmap"
           }
          ],
          "heatmapgl": [
           {
            "colorbar": {
             "outlinewidth": 1,
             "tickcolor": "rgb(36,36,36)",
             "ticks": "outside"
            },
            "colorscale": [
             [
              0,
              "#440154"
             ],
             [
              0.1111111111111111,
              "#482878"
             ],
             [
              0.2222222222222222,
              "#3e4989"
             ],
             [
              0.3333333333333333,
              "#31688e"
             ],
             [
              0.4444444444444444,
              "#26828e"
             ],
             [
              0.5555555555555556,
              "#1f9e89"
             ],
             [
              0.6666666666666666,
              "#35b779"
             ],
             [
              0.7777777777777778,
              "#6ece58"
             ],
             [
              0.8888888888888888,
              "#b5de2b"
             ],
             [
              1,
              "#fde725"
             ]
            ],
            "type": "heatmapgl"
           }
          ],
          "histogram": [
           {
            "marker": {
             "line": {
              "color": "white",
              "width": 0.6
             }
            },
            "type": "histogram"
           }
          ],
          "histogram2d": [
           {
            "colorbar": {
             "outlinewidth": 1,
             "tickcolor": "rgb(36,36,36)",
             "ticks": "outside"
            },
            "colorscale": [
             [
              0,
              "#440154"
             ],
             [
              0.1111111111111111,
              "#482878"
             ],
             [
              0.2222222222222222,
              "#3e4989"
             ],
             [
              0.3333333333333333,
              "#31688e"
             ],
             [
              0.4444444444444444,
              "#26828e"
             ],
             [
              0.5555555555555556,
              "#1f9e89"
             ],
             [
              0.6666666666666666,
              "#35b779"
             ],
             [
              0.7777777777777778,
              "#6ece58"
             ],
             [
              0.8888888888888888,
              "#b5de2b"
             ],
             [
              1,
              "#fde725"
             ]
            ],
            "type": "histogram2d"
           }
          ],
          "histogram2dcontour": [
           {
            "colorbar": {
             "outlinewidth": 1,
             "tickcolor": "rgb(36,36,36)",
             "ticks": "outside"
            },
            "colorscale": [
             [
              0,
              "#440154"
             ],
             [
              0.1111111111111111,
              "#482878"
             ],
             [
              0.2222222222222222,
              "#3e4989"
             ],
             [
              0.3333333333333333,
              "#31688e"
             ],
             [
              0.4444444444444444,
              "#26828e"
             ],
             [
              0.5555555555555556,
              "#1f9e89"
             ],
             [
              0.6666666666666666,
              "#35b779"
             ],
             [
              0.7777777777777778,
              "#6ece58"
             ],
             [
              0.8888888888888888,
              "#b5de2b"
             ],
             [
              1,
              "#fde725"
             ]
            ],
            "type": "histogram2dcontour"
           }
          ],
          "mesh3d": [
           {
            "colorbar": {
             "outlinewidth": 1,
             "tickcolor": "rgb(36,36,36)",
             "ticks": "outside"
            },
            "type": "mesh3d"
           }
          ],
          "parcoords": [
           {
            "line": {
             "colorbar": {
              "outlinewidth": 1,
              "tickcolor": "rgb(36,36,36)",
              "ticks": "outside"
             }
            },
            "type": "parcoords"
           }
          ],
          "pie": [
           {
            "automargin": true,
            "type": "pie"
           }
          ],
          "scatter": [
           {
            "marker": {
             "colorbar": {
              "outlinewidth": 1,
              "tickcolor": "rgb(36,36,36)",
              "ticks": "outside"
             }
            },
            "type": "scatter"
           }
          ],
          "scatter3d": [
           {
            "line": {
             "colorbar": {
              "outlinewidth": 1,
              "tickcolor": "rgb(36,36,36)",
              "ticks": "outside"
             }
            },
            "marker": {
             "colorbar": {
              "outlinewidth": 1,
              "tickcolor": "rgb(36,36,36)",
              "ticks": "outside"
             }
            },
            "type": "scatter3d"
           }
          ],
          "scattercarpet": [
           {
            "marker": {
             "colorbar": {
              "outlinewidth": 1,
              "tickcolor": "rgb(36,36,36)",
              "ticks": "outside"
             }
            },
            "type": "scattercarpet"
           }
          ],
          "scattergeo": [
           {
            "marker": {
             "colorbar": {
              "outlinewidth": 1,
              "tickcolor": "rgb(36,36,36)",
              "ticks": "outside"
             }
            },
            "type": "scattergeo"
           }
          ],
          "scattergl": [
           {
            "marker": {
             "colorbar": {
              "outlinewidth": 1,
              "tickcolor": "rgb(36,36,36)",
              "ticks": "outside"
             }
            },
            "type": "scattergl"
           }
          ],
          "scattermapbox": [
           {
            "marker": {
             "colorbar": {
              "outlinewidth": 1,
              "tickcolor": "rgb(36,36,36)",
              "ticks": "outside"
             }
            },
            "type": "scattermapbox"
           }
          ],
          "scatterpolar": [
           {
            "marker": {
             "colorbar": {
              "outlinewidth": 1,
              "tickcolor": "rgb(36,36,36)",
              "ticks": "outside"
             }
            },
            "type": "scatterpolar"
           }
          ],
          "scatterpolargl": [
           {
            "marker": {
             "colorbar": {
              "outlinewidth": 1,
              "tickcolor": "rgb(36,36,36)",
              "ticks": "outside"
             }
            },
            "type": "scatterpolargl"
           }
          ],
          "scatterternary": [
           {
            "marker": {
             "colorbar": {
              "outlinewidth": 1,
              "tickcolor": "rgb(36,36,36)",
              "ticks": "outside"
             }
            },
            "type": "scatterternary"
           }
          ],
          "surface": [
           {
            "colorbar": {
             "outlinewidth": 1,
             "tickcolor": "rgb(36,36,36)",
             "ticks": "outside"
            },
            "colorscale": [
             [
              0,
              "#440154"
             ],
             [
              0.1111111111111111,
              "#482878"
             ],
             [
              0.2222222222222222,
              "#3e4989"
             ],
             [
              0.3333333333333333,
              "#31688e"
             ],
             [
              0.4444444444444444,
              "#26828e"
             ],
             [
              0.5555555555555556,
              "#1f9e89"
             ],
             [
              0.6666666666666666,
              "#35b779"
             ],
             [
              0.7777777777777778,
              "#6ece58"
             ],
             [
              0.8888888888888888,
              "#b5de2b"
             ],
             [
              1,
              "#fde725"
             ]
            ],
            "type": "surface"
           }
          ],
          "table": [
           {
            "cells": {
             "fill": {
              "color": "rgb(237,237,237)"
             },
             "line": {
              "color": "white"
             }
            },
            "header": {
             "fill": {
              "color": "rgb(217,217,217)"
             },
             "line": {
              "color": "white"
             }
            },
            "type": "table"
           }
          ]
         },
         "layout": {
          "annotationdefaults": {
           "arrowhead": 0,
           "arrowwidth": 1
          },
          "autotypenumbers": "strict",
          "coloraxis": {
           "colorbar": {
            "outlinewidth": 1,
            "tickcolor": "rgb(36,36,36)",
            "ticks": "outside"
           }
          },
          "colorscale": {
           "diverging": [
            [
             0,
             "rgb(103,0,31)"
            ],
            [
             0.1,
             "rgb(178,24,43)"
            ],
            [
             0.2,
             "rgb(214,96,77)"
            ],
            [
             0.3,
             "rgb(244,165,130)"
            ],
            [
             0.4,
             "rgb(253,219,199)"
            ],
            [
             0.5,
             "rgb(247,247,247)"
            ],
            [
             0.6,
             "rgb(209,229,240)"
            ],
            [
             0.7,
             "rgb(146,197,222)"
            ],
            [
             0.8,
             "rgb(67,147,195)"
            ],
            [
             0.9,
             "rgb(33,102,172)"
            ],
            [
             1,
             "rgb(5,48,97)"
            ]
           ],
           "sequential": [
            [
             0,
             "#440154"
            ],
            [
             0.1111111111111111,
             "#482878"
            ],
            [
             0.2222222222222222,
             "#3e4989"
            ],
            [
             0.3333333333333333,
             "#31688e"
            ],
            [
             0.4444444444444444,
             "#26828e"
            ],
            [
             0.5555555555555556,
             "#1f9e89"
            ],
            [
             0.6666666666666666,
             "#35b779"
            ],
            [
             0.7777777777777778,
             "#6ece58"
            ],
            [
             0.8888888888888888,
             "#b5de2b"
            ],
            [
             1,
             "#fde725"
            ]
           ],
           "sequentialminus": [
            [
             0,
             "#440154"
            ],
            [
             0.1111111111111111,
             "#482878"
            ],
            [
             0.2222222222222222,
             "#3e4989"
            ],
            [
             0.3333333333333333,
             "#31688e"
            ],
            [
             0.4444444444444444,
             "#26828e"
            ],
            [
             0.5555555555555556,
             "#1f9e89"
            ],
            [
             0.6666666666666666,
             "#35b779"
            ],
            [
             0.7777777777777778,
             "#6ece58"
            ],
            [
             0.8888888888888888,
             "#b5de2b"
            ],
            [
             1,
             "#fde725"
            ]
           ]
          },
          "colorway": [
           "#1F77B4",
           "#FF7F0E",
           "#2CA02C",
           "#D62728",
           "#9467BD",
           "#8C564B",
           "#E377C2",
           "#7F7F7F",
           "#BCBD22",
           "#17BECF"
          ],
          "font": {
           "color": "rgb(36,36,36)"
          },
          "geo": {
           "bgcolor": "white",
           "lakecolor": "white",
           "landcolor": "white",
           "showlakes": true,
           "showland": true,
           "subunitcolor": "white"
          },
          "hoverlabel": {
           "align": "left"
          },
          "hovermode": "closest",
          "mapbox": {
           "style": "light"
          },
          "paper_bgcolor": "white",
          "plot_bgcolor": "white",
          "polar": {
           "angularaxis": {
            "gridcolor": "rgb(232,232,232)",
            "linecolor": "rgb(36,36,36)",
            "showgrid": false,
            "showline": true,
            "ticks": "outside"
           },
           "bgcolor": "white",
           "radialaxis": {
            "gridcolor": "rgb(232,232,232)",
            "linecolor": "rgb(36,36,36)",
            "showgrid": false,
            "showline": true,
            "ticks": "outside"
           }
          },
          "scene": {
           "xaxis": {
            "backgroundcolor": "white",
            "gridcolor": "rgb(232,232,232)",
            "gridwidth": 2,
            "linecolor": "rgb(36,36,36)",
            "showbackground": true,
            "showgrid": false,
            "showline": true,
            "ticks": "outside",
            "zeroline": false,
            "zerolinecolor": "rgb(36,36,36)"
           },
           "yaxis": {
            "backgroundcolor": "white",
            "gridcolor": "rgb(232,232,232)",
            "gridwidth": 2,
            "linecolor": "rgb(36,36,36)",
            "showbackground": true,
            "showgrid": false,
            "showline": true,
            "ticks": "outside",
            "zeroline": false,
            "zerolinecolor": "rgb(36,36,36)"
           },
           "zaxis": {
            "backgroundcolor": "white",
            "gridcolor": "rgb(232,232,232)",
            "gridwidth": 2,
            "linecolor": "rgb(36,36,36)",
            "showbackground": true,
            "showgrid": false,
            "showline": true,
            "ticks": "outside",
            "zeroline": false,
            "zerolinecolor": "rgb(36,36,36)"
           }
          },
          "shapedefaults": {
           "fillcolor": "black",
           "line": {
            "width": 0
           },
           "opacity": 0.3
          },
          "ternary": {
           "aaxis": {
            "gridcolor": "rgb(232,232,232)",
            "linecolor": "rgb(36,36,36)",
            "showgrid": false,
            "showline": true,
            "ticks": "outside"
           },
           "baxis": {
            "gridcolor": "rgb(232,232,232)",
            "linecolor": "rgb(36,36,36)",
            "showgrid": false,
            "showline": true,
            "ticks": "outside"
           },
           "bgcolor": "white",
           "caxis": {
            "gridcolor": "rgb(232,232,232)",
            "linecolor": "rgb(36,36,36)",
            "showgrid": false,
            "showline": true,
            "ticks": "outside"
           }
          },
          "title": {
           "x": 0.05
          },
          "xaxis": {
           "automargin": true,
           "gridcolor": "rgb(232,232,232)",
           "linecolor": "rgb(36,36,36)",
           "showgrid": false,
           "showline": true,
           "ticks": "outside",
           "title": {
            "standoff": 15
           },
           "zeroline": false,
           "zerolinecolor": "rgb(36,36,36)"
          },
          "yaxis": {
           "automargin": true,
           "gridcolor": "rgb(232,232,232)",
           "linecolor": "rgb(36,36,36)",
           "showgrid": false,
           "showline": true,
           "ticks": "outside",
           "title": {
            "standoff": 15
           },
           "zeroline": false,
           "zerolinecolor": "rgb(36,36,36)"
          }
         }
        },
        "yaxis": {
         "title": {
          "text": "Proportion of national"
         }
        }
       }
      },
      "text/html": [
       "<div>                            <div id=\"fae4f486-0367-4fd5-b1b7-26645dc73b2d\" class=\"plotly-graph-div\" style=\"height:525px; width:100%;\"></div>            <script type=\"text/javascript\">                require([\"plotly\"], function(Plotly) {                    window.PLOTLYENV=window.PLOTLYENV || {};                                    if (document.getElementById(\"fae4f486-0367-4fd5-b1b7-26645dc73b2d\")) {                    Plotly.newPlot(                        \"fae4f486-0367-4fd5-b1b7-26645dc73b2d\",                        [{\"marker\":{\"color\":\"rgb(0,0,0)\"},\"name\":\"Auckland Region\",\"text\":[0.3,0.35,0.37,0.41,0.32,0.39,0.45,0.48,0.34,0.34,0.31,0.33],\"textposition\":\"auto\",\"x\":[[\"ALL\",\"ALL\",\"LOG\",\"LOG\",\"RET\",\"RET\",\"WSL\",\"WSL\",\"TWD\",\"TWD\",\"POP\",\"POP\"],[2000,2020,2000,2020,2000,2020,2000,2020,2000,2020,2001,2018]],\"y\":[0.30318429935811736,0.34713567331261214,0.36752988047808766,0.40697514129485823,0.3191616171649945,0.38542468565563254,0.45295599348051563,0.4756724974276055,0.3400735294117647,0.3410828999694096,0.3100886765781292,0.3344257314002952],\"type\":\"bar\"},{\"marker\":{\"color\":\"rgb(37,37,37)\"},\"name\":\"Canterbury Region\",\"text\":[0.12,0.12,0.13,0.13,0.13,0.13,0.14,0.13,0.12,0.13,0.13,0.13],\"textposition\":\"auto\",\"x\":[[\"ALL\",\"ALL\",\"LOG\",\"LOG\",\"RET\",\"RET\",\"WSL\",\"WSL\",\"TWD\",\"TWD\",\"POP\",\"POP\"],[2000,2020,2000,2020,2000,2020,2000,2020,2000,2020,2001,2018]],\"y\":[0.12265941809532954,0.12390266090516261,0.13082669322709164,0.12750999402655883,0.1291347968610311,0.12505345992643915,0.13927989331752852,0.1322945759223872,0.11856617647058823,0.12633832976445397,0.12881824231414804,0.12760120108465298],\"type\":\"bar\"},{\"marker\":{\"color\":\"rgb(82,82,82)\"},\"name\":\"Wellington Region\",\"text\":[0.11,0.1,0.1,0.08,0.11,0.09,0.1,0.07,0.1,0.08,0.11,0.11],\"textposition\":\"auto\",\"x\":[[\"ALL\",\"ALL\",\"LOG\",\"LOG\",\"RET\",\"RET\",\"WSL\",\"WSL\",\"TWD\",\"TWD\",\"POP\",\"POP\"],[2000,2020,2000,2020,2000,2020,2000,2020,2000,2020,2001,2018]],\"y\":[0.10512398159296218,0.10016425340509943,0.10239043824701195,0.08284703395671553,0.10906923611800934,0.09109571465229664,0.0955697140317084,0.07070410113185359,0.09589460784313726,0.07861731416335271,0.11338914384196673,0.10783845615683552],\"type\":\"bar\"},{\"marker\":{\"color\":\"rgb(115,115,115)\"},\"name\":\"Waikato Region\",\"text\":[0.11,0.1,0.09,0.09,0.09,0.09,0.07,0.07,0.1,0.11,0.1,0.1],\"textposition\":\"auto\",\"x\":[[\"ALL\",\"ALL\",\"LOG\",\"LOG\",\"RET\",\"RET\",\"WSL\",\"WSL\",\"TWD\",\"TWD\",\"POP\",\"POP\"],[2000,2020,2000,2020,2000,2020,2000,2020,2000,2020,2001,2018]],\"y\":[0.10635751903857944,0.0983043994642812,0.0872011952191235,0.08776363552819005,0.09416906724942882,0.09066803524078351,0.0699362868573122,0.07379097457004263,0.1014093137254902,0.1064545732639951,0.09571804588834312,0.09749493164745714],\"type\":\"bar\"},{\"marker\":{\"color\":\"rgb(150,150,150)\"},\"name\":\"Bay of Plenty Region\",\"text\":[0.07,0.07,0.06,0.06,0.07,0.07,0.05,0.05,0.07,0.07,0.06,0.07],\"textposition\":\"auto\",\"x\":[[\"ALL\",\"ALL\",\"LOG\",\"LOG\",\"RET\",\"RET\",\"WSL\",\"WSL\",\"TWD\",\"TWD\",\"POP\",\"POP\"],[2000,2020,2000,2020,2000,2020,2000,2020,2000,2020,2001,2018]],\"y\":[0.06536271171417386,0.06546888029717231,0.06210159362549801,0.06295087993383265,0.06675275653124069,0.06569155760841673,0.051563194547340346,0.05379979420843745,0.06954656862745098,0.07219333129397369,0.06406033892481956,0.06564154874555082],\"type\":\"bar\"},{\"marker\":{\"color\":\"rgb(189,189,189)\"},\"name\":\"Otago Region\",\"text\":[0.05,0.05,0.04,0.04,0.05,0.05,0.03,0.04,0.04,0.04,0.05,0.05],\"textposition\":\"auto\",\"x\":[[\"ALL\",\"ALL\",\"LOG\",\"LOG\",\"RET\",\"RET\",\"WSL\",\"WSL\",\"TWD\",\"TWD\",\"POP\",\"POP\"],[2000,2020,2000,2020,2000,2020,2000,2020,2000,2020,2001,2018]],\"y\":[0.04583293323386245,0.051666540317893514,0.042729083665338646,0.04383586821669806,0.049766564021058904,0.04866991703019417,0.03304193213809453,0.03571953549904454,0.04105392156862745,0.043438360354848576,0.04857585271034699,0.047914443145085105],\"type\":\"bar\"},{\"marker\":{\"color\":\"rgb(217,217,217)\"},\"name\":\"Rest of NZ\",\"text\":[0.19,0.17,0.16,0.15,0.18,0.15,0.12,0.12,0.17,0.18,0.18,0.17],\"textposition\":\"auto\",\"x\":[[\"ALL\",\"ALL\",\"LOG\",\"LOG\",\"RET\",\"RET\",\"WSL\",\"WSL\",\"TWD\",\"TWD\",\"POP\",\"POP\"],[2000,2020,2000,2020,2000,2020,2000,2020,2000,2020,2001,2018]],\"y\":[0.19450743446370666,0.1695853233265105,0.1550796812749004,0.14538436796397555,0.17572265819012617,0.1502865452057138,0.11557267743369389,0.12097603998236073,0.17310049019607843,0.1786479045579688,0.18045968615218144,0.16827313441219877],\"type\":\"bar\"}],                        {\"template\":{\"data\":{\"barpolar\":[{\"marker\":{\"line\":{\"color\":\"white\",\"width\":0.5},\"pattern\":{\"fillmode\":\"overlay\",\"size\":10,\"solidity\":0.2}},\"type\":\"barpolar\"}],\"bar\":[{\"error_x\":{\"color\":\"rgb(36,36,36)\"},\"error_y\":{\"color\":\"rgb(36,36,36)\"},\"marker\":{\"line\":{\"color\":\"white\",\"width\":0.5},\"pattern\":{\"fillmode\":\"overlay\",\"size\":10,\"solidity\":0.2}},\"type\":\"bar\"}],\"carpet\":[{\"aaxis\":{\"endlinecolor\":\"rgb(36,36,36)\",\"gridcolor\":\"white\",\"linecolor\":\"white\",\"minorgridcolor\":\"white\",\"startlinecolor\":\"rgb(36,36,36)\"},\"baxis\":{\"endlinecolor\":\"rgb(36,36,36)\",\"gridcolor\":\"white\",\"linecolor\":\"white\",\"minorgridcolor\":\"white\",\"startlinecolor\":\"rgb(36,36,36)\"},\"type\":\"carpet\"}],\"choropleth\":[{\"colorbar\":{\"outlinewidth\":1,\"tickcolor\":\"rgb(36,36,36)\",\"ticks\":\"outside\"},\"type\":\"choropleth\"}],\"contourcarpet\":[{\"colorbar\":{\"outlinewidth\":1,\"tickcolor\":\"rgb(36,36,36)\",\"ticks\":\"outside\"},\"type\":\"contourcarpet\"}],\"contour\":[{\"colorbar\":{\"outlinewidth\":1,\"tickcolor\":\"rgb(36,36,36)\",\"ticks\":\"outside\"},\"colorscale\":[[0.0,\"#440154\"],[0.1111111111111111,\"#482878\"],[0.2222222222222222,\"#3e4989\"],[0.3333333333333333,\"#31688e\"],[0.4444444444444444,\"#26828e\"],[0.5555555555555556,\"#1f9e89\"],[0.6666666666666666,\"#35b779\"],[0.7777777777777778,\"#6ece58\"],[0.8888888888888888,\"#b5de2b\"],[1.0,\"#fde725\"]],\"type\":\"contour\"}],\"heatmapgl\":[{\"colorbar\":{\"outlinewidth\":1,\"tickcolor\":\"rgb(36,36,36)\",\"ticks\":\"outside\"},\"colorscale\":[[0.0,\"#440154\"],[0.1111111111111111,\"#482878\"],[0.2222222222222222,\"#3e4989\"],[0.3333333333333333,\"#31688e\"],[0.4444444444444444,\"#26828e\"],[0.5555555555555556,\"#1f9e89\"],[0.6666666666666666,\"#35b779\"],[0.7777777777777778,\"#6ece58\"],[0.8888888888888888,\"#b5de2b\"],[1.0,\"#fde725\"]],\"type\":\"heatmapgl\"}],\"heatmap\":[{\"colorbar\":{\"outlinewidth\":1,\"tickcolor\":\"rgb(36,36,36)\",\"ticks\":\"outside\"},\"colorscale\":[[0.0,\"#440154\"],[0.1111111111111111,\"#482878\"],[0.2222222222222222,\"#3e4989\"],[0.3333333333333333,\"#31688e\"],[0.4444444444444444,\"#26828e\"],[0.5555555555555556,\"#1f9e89\"],[0.6666666666666666,\"#35b779\"],[0.7777777777777778,\"#6ece58\"],[0.8888888888888888,\"#b5de2b\"],[1.0,\"#fde725\"]],\"type\":\"heatmap\"}],\"histogram2dcontour\":[{\"colorbar\":{\"outlinewidth\":1,\"tickcolor\":\"rgb(36,36,36)\",\"ticks\":\"outside\"},\"colorscale\":[[0.0,\"#440154\"],[0.1111111111111111,\"#482878\"],[0.2222222222222222,\"#3e4989\"],[0.3333333333333333,\"#31688e\"],[0.4444444444444444,\"#26828e\"],[0.5555555555555556,\"#1f9e89\"],[0.6666666666666666,\"#35b779\"],[0.7777777777777778,\"#6ece58\"],[0.8888888888888888,\"#b5de2b\"],[1.0,\"#fde725\"]],\"type\":\"histogram2dcontour\"}],\"histogram2d\":[{\"colorbar\":{\"outlinewidth\":1,\"tickcolor\":\"rgb(36,36,36)\",\"ticks\":\"outside\"},\"colorscale\":[[0.0,\"#440154\"],[0.1111111111111111,\"#482878\"],[0.2222222222222222,\"#3e4989\"],[0.3333333333333333,\"#31688e\"],[0.4444444444444444,\"#26828e\"],[0.5555555555555556,\"#1f9e89\"],[0.6666666666666666,\"#35b779\"],[0.7777777777777778,\"#6ece58\"],[0.8888888888888888,\"#b5de2b\"],[1.0,\"#fde725\"]],\"type\":\"histogram2d\"}],\"histogram\":[{\"marker\":{\"line\":{\"color\":\"white\",\"width\":0.6}},\"type\":\"histogram\"}],\"mesh3d\":[{\"colorbar\":{\"outlinewidth\":1,\"tickcolor\":\"rgb(36,36,36)\",\"ticks\":\"outside\"},\"type\":\"mesh3d\"}],\"parcoords\":[{\"line\":{\"colorbar\":{\"outlinewidth\":1,\"tickcolor\":\"rgb(36,36,36)\",\"ticks\":\"outside\"}},\"type\":\"parcoords\"}],\"pie\":[{\"automargin\":true,\"type\":\"pie\"}],\"scatter3d\":[{\"line\":{\"colorbar\":{\"outlinewidth\":1,\"tickcolor\":\"rgb(36,36,36)\",\"ticks\":\"outside\"}},\"marker\":{\"colorbar\":{\"outlinewidth\":1,\"tickcolor\":\"rgb(36,36,36)\",\"ticks\":\"outside\"}},\"type\":\"scatter3d\"}],\"scattercarpet\":[{\"marker\":{\"colorbar\":{\"outlinewidth\":1,\"tickcolor\":\"rgb(36,36,36)\",\"ticks\":\"outside\"}},\"type\":\"scattercarpet\"}],\"scattergeo\":[{\"marker\":{\"colorbar\":{\"outlinewidth\":1,\"tickcolor\":\"rgb(36,36,36)\",\"ticks\":\"outside\"}},\"type\":\"scattergeo\"}],\"scattergl\":[{\"marker\":{\"colorbar\":{\"outlinewidth\":1,\"tickcolor\":\"rgb(36,36,36)\",\"ticks\":\"outside\"}},\"type\":\"scattergl\"}],\"scattermapbox\":[{\"marker\":{\"colorbar\":{\"outlinewidth\":1,\"tickcolor\":\"rgb(36,36,36)\",\"ticks\":\"outside\"}},\"type\":\"scattermapbox\"}],\"scatterpolargl\":[{\"marker\":{\"colorbar\":{\"outlinewidth\":1,\"tickcolor\":\"rgb(36,36,36)\",\"ticks\":\"outside\"}},\"type\":\"scatterpolargl\"}],\"scatterpolar\":[{\"marker\":{\"colorbar\":{\"outlinewidth\":1,\"tickcolor\":\"rgb(36,36,36)\",\"ticks\":\"outside\"}},\"type\":\"scatterpolar\"}],\"scatter\":[{\"marker\":{\"colorbar\":{\"outlinewidth\":1,\"tickcolor\":\"rgb(36,36,36)\",\"ticks\":\"outside\"}},\"type\":\"scatter\"}],\"scatterternary\":[{\"marker\":{\"colorbar\":{\"outlinewidth\":1,\"tickcolor\":\"rgb(36,36,36)\",\"ticks\":\"outside\"}},\"type\":\"scatterternary\"}],\"surface\":[{\"colorbar\":{\"outlinewidth\":1,\"tickcolor\":\"rgb(36,36,36)\",\"ticks\":\"outside\"},\"colorscale\":[[0.0,\"#440154\"],[0.1111111111111111,\"#482878\"],[0.2222222222222222,\"#3e4989\"],[0.3333333333333333,\"#31688e\"],[0.4444444444444444,\"#26828e\"],[0.5555555555555556,\"#1f9e89\"],[0.6666666666666666,\"#35b779\"],[0.7777777777777778,\"#6ece58\"],[0.8888888888888888,\"#b5de2b\"],[1.0,\"#fde725\"]],\"type\":\"surface\"}],\"table\":[{\"cells\":{\"fill\":{\"color\":\"rgb(237,237,237)\"},\"line\":{\"color\":\"white\"}},\"header\":{\"fill\":{\"color\":\"rgb(217,217,217)\"},\"line\":{\"color\":\"white\"}},\"type\":\"table\"}]},\"layout\":{\"annotationdefaults\":{\"arrowhead\":0,\"arrowwidth\":1},\"autotypenumbers\":\"strict\",\"coloraxis\":{\"colorbar\":{\"outlinewidth\":1,\"tickcolor\":\"rgb(36,36,36)\",\"ticks\":\"outside\"}},\"colorscale\":{\"diverging\":[[0.0,\"rgb(103,0,31)\"],[0.1,\"rgb(178,24,43)\"],[0.2,\"rgb(214,96,77)\"],[0.3,\"rgb(244,165,130)\"],[0.4,\"rgb(253,219,199)\"],[0.5,\"rgb(247,247,247)\"],[0.6,\"rgb(209,229,240)\"],[0.7,\"rgb(146,197,222)\"],[0.8,\"rgb(67,147,195)\"],[0.9,\"rgb(33,102,172)\"],[1.0,\"rgb(5,48,97)\"]],\"sequential\":[[0.0,\"#440154\"],[0.1111111111111111,\"#482878\"],[0.2222222222222222,\"#3e4989\"],[0.3333333333333333,\"#31688e\"],[0.4444444444444444,\"#26828e\"],[0.5555555555555556,\"#1f9e89\"],[0.6666666666666666,\"#35b779\"],[0.7777777777777778,\"#6ece58\"],[0.8888888888888888,\"#b5de2b\"],[1.0,\"#fde725\"]],\"sequentialminus\":[[0.0,\"#440154\"],[0.1111111111111111,\"#482878\"],[0.2222222222222222,\"#3e4989\"],[0.3333333333333333,\"#31688e\"],[0.4444444444444444,\"#26828e\"],[0.5555555555555556,\"#1f9e89\"],[0.6666666666666666,\"#35b779\"],[0.7777777777777778,\"#6ece58\"],[0.8888888888888888,\"#b5de2b\"],[1.0,\"#fde725\"]]},\"colorway\":[\"#1F77B4\",\"#FF7F0E\",\"#2CA02C\",\"#D62728\",\"#9467BD\",\"#8C564B\",\"#E377C2\",\"#7F7F7F\",\"#BCBD22\",\"#17BECF\"],\"font\":{\"color\":\"rgb(36,36,36)\"},\"geo\":{\"bgcolor\":\"white\",\"lakecolor\":\"white\",\"landcolor\":\"white\",\"showlakes\":true,\"showland\":true,\"subunitcolor\":\"white\"},\"hoverlabel\":{\"align\":\"left\"},\"hovermode\":\"closest\",\"mapbox\":{\"style\":\"light\"},\"paper_bgcolor\":\"white\",\"plot_bgcolor\":\"white\",\"polar\":{\"angularaxis\":{\"gridcolor\":\"rgb(232,232,232)\",\"linecolor\":\"rgb(36,36,36)\",\"showgrid\":false,\"showline\":true,\"ticks\":\"outside\"},\"bgcolor\":\"white\",\"radialaxis\":{\"gridcolor\":\"rgb(232,232,232)\",\"linecolor\":\"rgb(36,36,36)\",\"showgrid\":false,\"showline\":true,\"ticks\":\"outside\"}},\"scene\":{\"xaxis\":{\"backgroundcolor\":\"white\",\"gridcolor\":\"rgb(232,232,232)\",\"gridwidth\":2,\"linecolor\":\"rgb(36,36,36)\",\"showbackground\":true,\"showgrid\":false,\"showline\":true,\"ticks\":\"outside\",\"zeroline\":false,\"zerolinecolor\":\"rgb(36,36,36)\"},\"yaxis\":{\"backgroundcolor\":\"white\",\"gridcolor\":\"rgb(232,232,232)\",\"gridwidth\":2,\"linecolor\":\"rgb(36,36,36)\",\"showbackground\":true,\"showgrid\":false,\"showline\":true,\"ticks\":\"outside\",\"zeroline\":false,\"zerolinecolor\":\"rgb(36,36,36)\"},\"zaxis\":{\"backgroundcolor\":\"white\",\"gridcolor\":\"rgb(232,232,232)\",\"gridwidth\":2,\"linecolor\":\"rgb(36,36,36)\",\"showbackground\":true,\"showgrid\":false,\"showline\":true,\"ticks\":\"outside\",\"zeroline\":false,\"zerolinecolor\":\"rgb(36,36,36)\"}},\"shapedefaults\":{\"fillcolor\":\"black\",\"line\":{\"width\":0},\"opacity\":0.3},\"ternary\":{\"aaxis\":{\"gridcolor\":\"rgb(232,232,232)\",\"linecolor\":\"rgb(36,36,36)\",\"showgrid\":false,\"showline\":true,\"ticks\":\"outside\"},\"baxis\":{\"gridcolor\":\"rgb(232,232,232)\",\"linecolor\":\"rgb(36,36,36)\",\"showgrid\":false,\"showline\":true,\"ticks\":\"outside\"},\"bgcolor\":\"white\",\"caxis\":{\"gridcolor\":\"rgb(232,232,232)\",\"linecolor\":\"rgb(36,36,36)\",\"showgrid\":false,\"showline\":true,\"ticks\":\"outside\"}},\"title\":{\"x\":0.05},\"xaxis\":{\"automargin\":true,\"gridcolor\":\"rgb(232,232,232)\",\"linecolor\":\"rgb(36,36,36)\",\"showgrid\":false,\"showline\":true,\"ticks\":\"outside\",\"title\":{\"standoff\":15},\"zeroline\":false,\"zerolinecolor\":\"rgb(36,36,36)\"},\"yaxis\":{\"automargin\":true,\"gridcolor\":\"rgb(232,232,232)\",\"linecolor\":\"rgb(36,36,36)\",\"showgrid\":false,\"showline\":true,\"ticks\":\"outside\",\"title\":{\"standoff\":15},\"zeroline\":false,\"zerolinecolor\":\"rgb(36,36,36)\"}}},\"font\":{\"family\":\"Serif\"},\"yaxis\":{\"title\":{\"text\":\"Proportion of national\"}},\"barmode\":\"stack\"},                        {\"responsive\": true}                    ).then(function(){\n",
       "                            \n",
       "var gd = document.getElementById('fae4f486-0367-4fd5-b1b7-26645dc73b2d');\n",
       "var x = new MutationObserver(function (mutations, observer) {{\n",
       "        var display = window.getComputedStyle(gd).display;\n",
       "        if (!display || display === 'none') {{\n",
       "            console.log([gd, 'removed!']);\n",
       "            Plotly.purge(gd);\n",
       "            observer.disconnect();\n",
       "        }}\n",
       "}});\n",
       "\n",
       "// Listen for the removal of the full notebook cells\n",
       "var notebookContainer = gd.closest('#notebook-container');\n",
       "if (notebookContainer) {{\n",
       "    x.observe(notebookContainer, {childList: true});\n",
       "}}\n",
       "\n",
       "// Listen for the clearing of the current output cell\n",
       "var outputEl = gd.closest('.output');\n",
       "if (outputEl) {{\n",
       "    x.observe(outputEl, {childList: true});\n",
       "}}\n",
       "\n",
       "                        })                };                });            </script>        </div>"
      ]
     },
     "metadata": {},
     "output_type": "display_data"
    }
   ],
   "source": [
    "fig = go.Figure()\n",
    "fig.layout.font.family = 'Serif'\n",
    "\n",
    "fig.update_layout(\n",
    "    template=\"simple_white\",\n",
    "    #xaxis=dict(title_text=\"Facility Type\"),\n",
    "    yaxis=dict(title_text=\"Proportion of national\"),\n",
    "    barmode=\"stack\",\n",
    ")\n",
    "\n",
    "\n",
    "colors = [\"rgb(0,0,0)\", 'rgb(37,37,37)','rgb(82,82,82)', 'rgb(115,115,115)','rgb(150,150,150)','rgb(189,189,189)', 'rgb(217,217,217)','rgb(240,240,240)']\n",
    "\n",
    "for r, c in zip(df.area.unique(), colors):\n",
    "    plot_df = df[df.area == r]\n",
    "    fig.add_trace(\n",
    "        go.Bar(x=[plot_df.facType, plot_df.year], y=plot_df.perc, name=r, marker_color=c,text = round(plot_df.perc,2), textposition = 'auto'),\n",
    "    )\n",
    "\n",
    "fig"
   ]
  },
  {
   "cell_type": "markdown",
   "id": "7f39c52b",
   "metadata": {},
   "source": [
    "### Calculating overall growth and CAGR for table"
   ]
  },
  {
   "cell_type": "code",
   "execution_count": 92,
   "id": "3c7f8be4",
   "metadata": {},
   "outputs": [
    {
     "name": "stdout",
     "output_type": "stream",
     "text": [
      "ALL 20 year growth:46.1513\n",
      "RET 20 year growth:16.1303\n",
      "WSL 20 year growth:0.7851\n",
      "TWD 20 year growth:0.3675\n",
      "LOG 20 year growth:8.4097\n",
      "POP 17 year growth:25.7534\n"
     ]
    }
   ],
   "source": [
    "#17-year growth\n",
    "begin=national.loc[national['Year']==2000]\n",
    "end=national.loc[national['Year']==2020]\n",
    "\n",
    "begin_ALL=begin.iloc[0,1]\n",
    "end_ALL=end.iloc[0,1]\n",
    "print(\"ALL 20 year growth:\"+str(round((end_ALL/begin_ALL-1)*100,4)))\n",
    "\n",
    "begin_RET=begin.iloc[0,5]\n",
    "end_RET=end.iloc[0,5]\n",
    "print(\"RET 20 year growth:\"+str(round((end_RET/begin_RET-1)*100,4)))\n",
    "\n",
    "begin_WSL=begin.iloc[0,3]\n",
    "end_WSL=end.iloc[0,3]\n",
    "print(\"WSL 20 year growth:\"+str(round((end_WSL/begin_WSL-1)*100,4)))\n",
    "\n",
    "begin_TWD=begin.iloc[0,7]+begin.iloc[0,9]+begin.iloc[0,11]+begin.iloc[0,13]+begin.iloc[0,15]\n",
    "end_TWD=end.iloc[0,7]+end.iloc[0,9]+end.iloc[0,11]+end.iloc[0,13]+end.iloc[0,15]\n",
    "print(\"TWD 20 year growth:\"+str(round((end_TWD/begin_TWD-1)*100,4)))\n",
    "\n",
    "begin_LOG=begin_RET+begin_WSL+begin_TWD\n",
    "end_LOG=end_RET+end_WSL+end_TWD\n",
    "print(\"LOG 20 year growth:\"+str(round((end_LOG/begin_LOG-1)*100,4)))\n",
    "\n",
    "\n",
    "begin=national_pop_2001.iloc[0,1]\n",
    "end=national_pop.loc[national_pop['Year']==2018]\n",
    "end=end.iloc[0,11]\n",
    "print(\"POP 17 year growth:\"+str(round((end/begin-1)*100,4)))\n",
    "\n"
   ]
  },
  {
   "cell_type": "code",
   "execution_count": 109,
   "id": "6eb42f63",
   "metadata": {},
   "outputs": [
    {
     "name": "stdout",
     "output_type": "stream",
     "text": [
      "CAGR 2001-2006\n",
      "ALL:4.11\n",
      "RET:2.64\n",
      "WSL:1.71\n",
      "TWD:1.62\n",
      "LOG:2.17\n",
      "POP:1.51\n",
      "CAGR 2006-2013\n",
      "ALL:0.56\n",
      "RET:0.13\n",
      "WSL:-0.81\n",
      "TWD:-1.36\n",
      "LOG:-0.4\n",
      "POP:0.74\n",
      "CAGR 2013-2018\n",
      "ALL:2.23\n",
      "RET:0.94\n",
      "WSL:0.58\n",
      "TWD:1.19\n",
      "LOG:0.86\n",
      "POP:2.07\n",
      "CAGR 2018-2020\n",
      "ALL:1.79\n",
      "RET:-0.3\n",
      "WSL:-1.05\n",
      "TWD:0.66\n",
      "LOG:-0.39\n"
     ]
    }
   ],
   "source": [
    "# CAGR (end/begin)^(1/period)-1\n",
    "\n",
    "#### 2001-2006\n",
    "print('CAGR 2001-2006')\n",
    "begin=national.loc[national['Year']==2001]\n",
    "end=national.loc[national['Year']==2006]\n",
    "\n",
    "begin_ALL=begin.iloc[0,1]\n",
    "end_ALL=end.iloc[0,1]\n",
    "c=(math.pow(end_ALL/begin_ALL,(1/5))-1)*100\n",
    "print(\"ALL:\"+str(round(c,2)))\n",
    "\n",
    "begin_RET=begin.iloc[0,5]\n",
    "end_RET=end.iloc[0,5]\n",
    "c=(math.pow(end_RET/begin_RET,(1/5))-1)*100\n",
    "print(\"RET:\"+str(round(c,2)))\n",
    "\n",
    "begin_WSL=begin.iloc[0,3]\n",
    "end_WSL=end.iloc[0,3]\n",
    "c=(math.pow(end_WSL/begin_WSL,(1/5))-1)*100\n",
    "print(\"WSL:\"+str(round(c,2)))\n",
    "\n",
    "\n",
    "begin_TWD=begin.iloc[0,7]+begin.iloc[0,9]+begin.iloc[0,11]+begin.iloc[0,13]+begin.iloc[0,15]\n",
    "end_TWD=end.iloc[0,7]+end.iloc[0,9]+end.iloc[0,11]+end.iloc[0,13]+end.iloc[0,15]\n",
    "c=(math.pow(end_TWD/begin_TWD,(1/5))-1)*100\n",
    "print(\"TWD:\"+str(round(c,2)))\n",
    "\n",
    "\n",
    "begin_LOG=begin_RET+begin_WSL+begin_TWD\n",
    "end_LOG=end_RET+end_WSL+end_TWD\n",
    "c=(math.pow(end_LOG/begin_LOG,(1/5))-1)*100\n",
    "print(\"LOG:\"+str(round(c,2)))\n",
    "\n",
    "\n",
    "begin=national_pop_2001.iloc[0,1]\n",
    "end=national_pop.loc[national_pop['Year']==2006]\n",
    "end=end.iloc[0,11]\n",
    "c=(math.pow(end/begin,(1/5))-1)*100\n",
    "print(\"POP:\"+str(round(c,2)))\n",
    "\n",
    "\n",
    "#### 2006-2013\n",
    "print('CAGR 2006-2013')\n",
    "begin=national.loc[national['Year']==2006]\n",
    "end=national.loc[national['Year']==2013]\n",
    "\n",
    "begin_ALL=begin.iloc[0,1]\n",
    "end_ALL=end.iloc[0,1]\n",
    "c=(math.pow(end_ALL/begin_ALL,(1/7))-1)*100\n",
    "print(\"ALL:\"+str(round(c,2)))\n",
    "\n",
    "begin_RET=begin.iloc[0,5]\n",
    "end_RET=end.iloc[0,5]\n",
    "c=(math.pow(end_RET/begin_RET,(1/7))-1)*100\n",
    "print(\"RET:\"+str(round(c,2)))\n",
    "\n",
    "begin_WSL=begin.iloc[0,3]\n",
    "end_WSL=end.iloc[0,3]\n",
    "c=(math.pow(end_WSL/begin_WSL,(1/7))-1)*100\n",
    "print(\"WSL:\"+str(round(c,2)))\n",
    "\n",
    "\n",
    "begin_TWD=begin.iloc[0,7]+begin.iloc[0,9]+begin.iloc[0,11]+begin.iloc[0,13]+begin.iloc[0,15]\n",
    "end_TWD=end.iloc[0,7]+end.iloc[0,9]+end.iloc[0,11]+end.iloc[0,13]+end.iloc[0,15]\n",
    "c=(math.pow(end_TWD/begin_TWD,(1/7))-1)*100\n",
    "print(\"TWD:\"+str(round(c,2)))\n",
    "\n",
    "begin_LOG=begin_RET+begin_WSL+begin_TWD\n",
    "end_LOG=end_RET+end_WSL+end_TWD\n",
    "c=(math.pow(end_LOG/begin_LOG,(1/7))-1)*100\n",
    "print(\"LOG:\"+str(round(c,2)))\n",
    "\n",
    "\n",
    "begin=national_pop.loc[national_pop['Year']==2006]\n",
    "end=national_pop.loc[national_pop['Year']==2013]\n",
    "begin=begin.iloc[0,11]\n",
    "end=end.iloc[0,11]\n",
    "c=(math.pow(end/begin,(1/7))-1)*100\n",
    "print(\"POP:\"+str(round(c,2)))\n",
    "\n",
    "#### 2013-2018\n",
    "print('CAGR 2013-2018')\n",
    "begin=national.loc[national['Year']==2013]\n",
    "end=national.loc[national['Year']==2018]\n",
    "\n",
    "begin_ALL=begin.iloc[0,1]\n",
    "end_ALL=end.iloc[0,1]\n",
    "c=(math.pow(end_ALL/begin_ALL,(1/5))-1)*100\n",
    "print(\"ALL:\"+str(round(c,2)))\n",
    "\n",
    "begin_RET=begin.iloc[0,5]\n",
    "end_RET=end.iloc[0,5]\n",
    "c=(math.pow(end_RET/begin_RET,(1/5))-1)*100\n",
    "print(\"RET:\"+str(round(c,2)))\n",
    "\n",
    "begin_WSL=begin.iloc[0,3]\n",
    "end_WSL=end.iloc[0,3]\n",
    "c=(math.pow(end_WSL/begin_WSL,(1/5))-1)*100\n",
    "print(\"WSL:\"+str(round(c,2)))\n",
    "\n",
    "\n",
    "begin_TWD=begin.iloc[0,7]+begin.iloc[0,9]+begin.iloc[0,11]+begin.iloc[0,13]+begin.iloc[0,15]\n",
    "end_TWD=end.iloc[0,7]+end.iloc[0,9]+end.iloc[0,11]+end.iloc[0,13]+end.iloc[0,15]\n",
    "c=(math.pow(end_TWD/begin_TWD,(1/5))-1)*100\n",
    "print(\"TWD:\"+str(round(c,2)))\n",
    "\n",
    "begin_LOG=begin_RET+begin_WSL+begin_TWD\n",
    "end_LOG=end_RET+end_WSL+end_TWD\n",
    "c=(math.pow(end_LOG/begin_LOG,(1/5))-1)*100\n",
    "print(\"LOG:\"+str(round(c,2)))\n",
    "\n",
    "\n",
    "begin=national_pop.loc[national_pop['Year']==2013]\n",
    "end=national_pop.loc[national_pop['Year']==2018]\n",
    "begin=begin.iloc[0,11]\n",
    "end=end.iloc[0,11]\n",
    "c=(math.pow(end/begin,(1/5))-1)*100\n",
    "print(\"POP:\"+str(round(c,2)))\n",
    "\n",
    "#### 2018-2013\n",
    "print('CAGR 2018-2020')\n",
    "begin=national.loc[national['Year']==2018]\n",
    "end=national.loc[national['Year']==2020]\n",
    "\n",
    "begin_ALL=begin.iloc[0,1]\n",
    "end_ALL=end.iloc[0,1]\n",
    "c=(math.pow(end_ALL/begin_ALL,(1/2))-1)*100\n",
    "print(\"ALL:\"+str(round(c,2)))\n",
    "\n",
    "begin_RET=begin.iloc[0,5]\n",
    "end_RET=end.iloc[0,5]\n",
    "c=(math.pow(end_RET/begin_RET,(1/2))-1)*100\n",
    "print(\"RET:\"+str(round(c,2)))\n",
    "\n",
    "begin_WSL=begin.iloc[0,3]\n",
    "end_WSL=end.iloc[0,3]\n",
    "c=(math.pow(end_WSL/begin_WSL,(1/2))-1)*100\n",
    "print(\"WSL:\"+str(round(c,2)))\n",
    "\n",
    "\n",
    "begin_TWD=begin.iloc[0,7]+begin.iloc[0,9]+begin.iloc[0,11]+begin.iloc[0,13]+begin.iloc[0,15]\n",
    "end_TWD=end.iloc[0,7]+end.iloc[0,9]+end.iloc[0,11]+end.iloc[0,13]+end.iloc[0,15]\n",
    "c=(math.pow(end_TWD/begin_TWD,(1/2))-1)*100\n",
    "print(\"TWD:\"+str(round(c,2)))\n",
    "\n",
    "begin_LOG=begin_RET+begin_WSL+begin_TWD\n",
    "end_LOG=end_RET+end_WSL+end_TWD\n",
    "c=(math.pow(end_LOG/begin_LOG,(1/2))-1)*100\n",
    "print(\"LOG:\"+str(round(c,2)))"
   ]
  },
  {
   "cell_type": "markdown",
   "id": "1b0abce5",
   "metadata": {},
   "source": [
    "### Regional growth"
   ]
  },
  {
   "cell_type": "code",
   "execution_count": 125,
   "id": "24af12ff",
   "metadata": {},
   "outputs": [
    {
     "name": "stdout",
     "output_type": "stream",
     "text": [
      "Auckland Region\n",
      "ALL: 67.34\n",
      "LOG: 20.01\n",
      "RET: 40.24\n",
      "WSL: 5.86\n",
      "TWD: 0.45\n",
      "POP: 35.62\n"
     ]
    }
   ],
   "source": [
    "print(\"Auckland Region\")\n",
    "begin=plotDat2.loc[(plotDat2['Area']==\"Auckland Region\")&(plotDat2['Year']==2000)]\n",
    "end=plotDat2.loc[(plotDat2['Area']==\"Auckland Region\")&(plotDat2['Year']==2020)]\n",
    "\n",
    "print(\"ALL: \"+str(round((end.iloc[0,2]/begin.iloc[0,2]-1)*100,2)))\n",
    "print(\"LOG: \"+str(round((end.iloc[0,3]/begin.iloc[0,3]-1)*100,2)))\n",
    "print(\"RET: \"+str(round((end.iloc[0,4]/begin.iloc[0,4]-1)*100,2)))\n",
    "print(\"WSL: \"+str(round((end.iloc[0,5]/begin.iloc[0,5]-1)*100,2)))\n",
    "print(\"TWD: \"+str(round((end.iloc[0,6]/begin.iloc[0,6]-1)*100,2)))\n",
    "\n",
    "begin=groupE_2001.loc[groupE_2001['Area']==\"AucklandRegion\"]\n",
    "end=groupE.loc[(groupE['Area']==\"Auckland Region\")&(groupE['Year']==2018)]\n",
    "print(\"POP: \"+str(round((end.iloc[0,11]/begin.iloc[0,1]-1)*100,2)))"
   ]
  },
  {
   "cell_type": "code",
   "execution_count": 126,
   "id": "e006bf13",
   "metadata": {},
   "outputs": [
    {
     "name": "stdout",
     "output_type": "stream",
     "text": [
      "Bay of Plenty Region\n",
      "ALL: 46.39\n",
      "LOG: 9.86\n",
      "RET: 14.29\n",
      "WSL: 5.17\n",
      "TWD: 3.96\n",
      "POP: 28.86\n"
     ]
    }
   ],
   "source": [
    "print(\"Bay of Plenty Region\")\n",
    "region='Bay of Plenty Region'\n",
    "region2='BayOfPlentyRegion'\n",
    "begin=plotDat2.loc[(plotDat2['Area']==region)&(plotDat2['Year']==2000)]\n",
    "end=plotDat2.loc[(plotDat2['Area']==region)&(plotDat2['Year']==2020)]\n",
    "\n",
    "print(\"ALL: \"+str(round((end.iloc[0,2]/begin.iloc[0,2]-1)*100,2)))\n",
    "print(\"LOG: \"+str(round((end.iloc[0,3]/begin.iloc[0,3]-1)*100,2)))\n",
    "print(\"RET: \"+str(round((end.iloc[0,4]/begin.iloc[0,4]-1)*100,2)))\n",
    "print(\"WSL: \"+str(round((end.iloc[0,5]/begin.iloc[0,5]-1)*100,2)))\n",
    "print(\"TWD: \"+str(round((end.iloc[0,6]/begin.iloc[0,6]-1)*100,2)))\n",
    "\n",
    "begin=groupE_2001.loc[groupE_2001['Area']==region2]\n",
    "end=groupE.loc[(groupE['Area']==region)&(groupE['Year']==2018)]\n",
    "print(\"POP: \"+str(round((end.iloc[0,11]/begin.iloc[0,1]-1)*100,2)))"
   ]
  },
  {
   "cell_type": "code",
   "execution_count": 129,
   "id": "b84301a2",
   "metadata": {},
   "outputs": [
    {
     "name": "stdout",
     "output_type": "stream",
     "text": [
      "Otago Region\n",
      "ALL: 64.75\n",
      "LOG: 11.19\n",
      "RET: 13.57\n",
      "WSL: 8.97\n",
      "TWD: 5.97\n",
      "POP: 24.04\n"
     ]
    }
   ],
   "source": [
    "print(\"Otago Region\")\n",
    "region='Otago Region'\n",
    "region2='OtagoRegion'\n",
    "begin=plotDat2.loc[(plotDat2['Area']==region)&(plotDat2['Year']==2000)]\n",
    "end=plotDat2.loc[(plotDat2['Area']==region)&(plotDat2['Year']==2020)]\n",
    "\n",
    "print(\"ALL: \"+str(round((end.iloc[0,2]/begin.iloc[0,2]-1)*100,2)))\n",
    "print(\"LOG: \"+str(round((end.iloc[0,3]/begin.iloc[0,3]-1)*100,2)))\n",
    "print(\"RET: \"+str(round((end.iloc[0,4]/begin.iloc[0,4]-1)*100,2)))\n",
    "print(\"WSL: \"+str(round((end.iloc[0,5]/begin.iloc[0,5]-1)*100,2)))\n",
    "print(\"TWD: \"+str(round((end.iloc[0,6]/begin.iloc[0,6]-1)*100,2)))\n",
    "\n",
    "begin=groupE_2001.loc[groupE_2001['Area']==region2]\n",
    "end=groupE.loc[(groupE['Area']==region)&(groupE['Year']==2018)]\n",
    "print(\"POP: \"+str(round((end.iloc[0,11]/begin.iloc[0,1]-1)*100,2)))"
   ]
  },
  {
   "cell_type": "code",
   "execution_count": 130,
   "id": "7548658d",
   "metadata": {},
   "outputs": [
    {
     "name": "stdout",
     "output_type": "stream",
     "text": [
      "Waikato Region\n",
      "ALL: 35.09\n",
      "LOG: 9.08\n",
      "RET: 11.81\n",
      "WSL: 6.36\n",
      "TWD: 5.14\n",
      "POP: 28.09\n"
     ]
    }
   ],
   "source": [
    "print(\"Waikato Region\")\n",
    "region='Waikato Region'\n",
    "region2='WaikatoRegion'\n",
    "begin=plotDat2.loc[(plotDat2['Area']==region)&(plotDat2['Year']==2000)]\n",
    "end=plotDat2.loc[(plotDat2['Area']==region)&(plotDat2['Year']==2020)]\n",
    "\n",
    "print(\"ALL: \"+str(round((end.iloc[0,2]/begin.iloc[0,2]-1)*100,2)))\n",
    "print(\"LOG: \"+str(round((end.iloc[0,3]/begin.iloc[0,3]-1)*100,2)))\n",
    "print(\"RET: \"+str(round((end.iloc[0,4]/begin.iloc[0,4]-1)*100,2)))\n",
    "print(\"WSL: \"+str(round((end.iloc[0,5]/begin.iloc[0,5]-1)*100,2)))\n",
    "print(\"TWD: \"+str(round((end.iloc[0,6]/begin.iloc[0,6]-1)*100,2)))\n",
    "\n",
    "begin=groupE_2001.loc[groupE_2001['Area']==region2]\n",
    "end=groupE.loc[(groupE['Area']==region)&(groupE['Year']==2018)]\n",
    "print(\"POP: \"+str(round((end.iloc[0,11]/begin.iloc[0,1]-1)*100,2)))"
   ]
  },
  {
   "cell_type": "code",
   "execution_count": 131,
   "id": "ac601248",
   "metadata": {},
   "outputs": [
    {
     "name": "stdout",
     "output_type": "stream",
     "text": [
      "Wellington Region\n",
      "ALL: 39.26\n",
      "LOG: -12.31\n",
      "RET: -3.01\n",
      "WSL: -25.43\n",
      "TWD: -17.89\n",
      "POP: 19.6\n"
     ]
    }
   ],
   "source": [
    "print(\"Wellington Region\")\n",
    "region='Wellington Region'\n",
    "region2='WellingtonRegion'\n",
    "begin=plotDat2.loc[(plotDat2['Area']==region)&(plotDat2['Year']==2000)]\n",
    "end=plotDat2.loc[(plotDat2['Area']==region)&(plotDat2['Year']==2020)]\n",
    "\n",
    "print(\"ALL: \"+str(round((end.iloc[0,2]/begin.iloc[0,2]-1)*100,2)))\n",
    "print(\"LOG: \"+str(round((end.iloc[0,3]/begin.iloc[0,3]-1)*100,2)))\n",
    "print(\"RET: \"+str(round((end.iloc[0,4]/begin.iloc[0,4]-1)*100,2)))\n",
    "print(\"WSL: \"+str(round((end.iloc[0,5]/begin.iloc[0,5]-1)*100,2)))\n",
    "print(\"TWD: \"+str(round((end.iloc[0,6]/begin.iloc[0,6]-1)*100,2)))\n",
    "\n",
    "begin=groupE_2001.loc[groupE_2001['Area']==region2]\n",
    "end=groupE.loc[(groupE['Area']==region)&(groupE['Year']==2018)]\n",
    "print(\"POP: \"+str(round((end.iloc[0,11]/begin.iloc[0,1]-1)*100,2)))"
   ]
  },
  {
   "cell_type": "code",
   "execution_count": 167,
   "id": "46b42d85",
   "metadata": {},
   "outputs": [
    {
     "name": "stdout",
     "output_type": "stream",
     "text": [
      "Rest of NZ\n",
      "ALL: 24.0\n",
      "LOG: -1.61\n",
      "RET: -3.17\n",
      "WSL: 1.03\n",
      "TWD: -0.52\n",
      "POP: 15.11\n"
     ]
    }
   ],
   "source": [
    "print(\"Rest of NZ\")\n",
    "region='Rest of NZ'\n",
    "region2='Rest of NZ'\n",
    "begin=plotDat2.loc[(plotDat2['Area']==region)&(plotDat2['Year']==2000)]\n",
    "end=plotDat2.loc[(plotDat2['Area']==region)&(plotDat2['Year']==2020)]\n",
    "\n",
    "print(\"ALL: \"+str(round((end.iloc[0,2]/begin.iloc[0,2]-1)*100,2)))\n",
    "print(\"LOG: \"+str(round((end.iloc[0,3]/begin.iloc[0,3]-1)*100,2)))\n",
    "print(\"RET: \"+str(round((end.iloc[0,4]/begin.iloc[0,4]-1)*100,2)))\n",
    "print(\"WSL: \"+str(round((end.iloc[0,5]/begin.iloc[0,5]-1)*100,2)))\n",
    "print(\"TWD: \"+str(round((end.iloc[0,6]/begin.iloc[0,6]-1)*100,2)))\n",
    "\n",
    "begin=groupE_2001.loc[groupE_2001['Area'].isin(regionCombo2)]\n",
    "beginSum=begin.TotUsuallyResident.sum()\n",
    "end=groupE.loc[(groupE['Area'].isin(regionCombo))&(groupE['Year']==2018)]\n",
    "endSum=end.TotPeople.sum()\n",
    "print(\"POP: \"+str(round((endSum/beginSum-1)*100,2)))"
   ]
  },
  {
   "cell_type": "markdown",
   "id": "1a1d6beb",
   "metadata": {},
   "source": [
    "### Facility ratio comparisons"
   ]
  },
  {
   "cell_type": "code",
   "execution_count": 181,
   "id": "4d6bd7a2",
   "metadata": {},
   "outputs": [],
   "source": [
    "RET=['RET']*14\n",
    "WSL=['WSL']*14\n",
    "TWD=['TWD']*14\n",
    "\n",
    "\n",
    "df = pd.DataFrame(\n",
    "    dict(\n",
    "        year=[2000,2020] *7*3,\n",
    "        area=['Auckland Region','Auckland Region','Canterbury Region','Canterbury Region',\n",
    "              'Wellington Region','Wellington Region','Waikato Region','Waikato Region',\n",
    "              'Bay of Plenty Region','Bay of Plenty Region','Otago Region','Otago Region',\n",
    "              'Rest of NZ','Rest of NZ']*3,\n",
    "        facType=RET+WSL+TWD,\n",
    "        prop=[np.nan]*42,\n",
    "    )\n",
    ") \n"
   ]
  },
  {
   "cell_type": "code",
   "execution_count": 184,
   "id": "70b88c8c",
   "metadata": {},
   "outputs": [],
   "source": [
    "for i in range(len(df)):\n",
    "    if(df.iloc[i,0]==2000):\n",
    "        sliced=plotDat2_2000.loc[plotDat2_2000['Area']==df.iloc[i,1]]    \n",
    "    else:\n",
    "        sliced=plotDat2_2020.loc[plotDat2_2020['Area']==df.iloc[i,1]]    \n",
    "    if(df.iloc[i,2]==\"RET\"):\n",
    "        df.iloc[i,3]=sliced.iloc[0,4]/sliced.iloc[0,3]\n",
    "    elif(df.iloc[i,2]==\"WSL\"):\n",
    "        df.iloc[i,3]=sliced.iloc[0,5]/sliced.iloc[0,3]\n",
    "    elif(df.iloc[i,2]==\"TWD\"):\n",
    "        df.iloc[i,3]=sliced.iloc[0,6]/sliced.iloc[0,3]"
   ]
  },
  {
   "cell_type": "code",
   "execution_count": 186,
   "id": "c12621ae",
   "metadata": {},
   "outputs": [
    {
     "data": {
      "application/vnd.plotly.v1+json": {
       "config": {
        "plotlyServerURL": "https://plot.ly"
       },
       "data": [
        {
         "marker": {
          "color": "rgb(0,0,0)"
         },
         "name": "RET",
         "text": [
          0.44,
          0.51,
          0.49,
          0.53,
          0.53,
          0.59,
          0.54,
          0.55,
          0.54,
          0.56,
          0.58,
          0.6,
          0.57,
          0.56
         ],
         "textposition": "auto",
         "type": "bar",
         "x": [
          [
           "Auckland Region",
           "Auckland Region",
           "Canterbury Region",
           "Canterbury Region",
           "Wellington Region",
           "Wellington Region",
           "Waikato Region",
           "Waikato Region",
           "Bay of Plenty Region",
           "Bay of Plenty Region",
           "Otago Region",
           "Otago Region",
           "Rest of NZ",
           "Rest of NZ"
          ],
          [
           2000,
           2020,
           2000,
           2020,
           2000,
           2020,
           2000,
           2020,
           2000,
           2020,
           2000,
           2020,
           2000,
           2020
          ]
         ],
         "y": [
          0.4353658536585366,
          0.5087501411313086,
          0.4948610582413399,
          0.5268468468468468,
          0.5340466926070039,
          0.5906821963394343,
          0.5414049114791548,
          0.5549738219895288,
          0.5388933440256616,
          0.5605839416058395,
          0.583916083916084,
          0.5964360587002097,
          0.5680796403339756,
          0.5553097345132744
         ]
        },
        {
         "marker": {
          "color": "rgb(37,37,37)"
         },
         "name": "WSL",
         "text": [
          0.41,
          0.37,
          0.36,
          0.32,
          0.31,
          0.27,
          0.27,
          0.26,
          0.28,
          0.27,
          0.26,
          0.25,
          0.25,
          0.26
         ],
         "textposition": "auto",
         "type": "bar",
         "x": [
          [
           "Auckland Region",
           "Auckland Region",
           "Canterbury Region",
           "Canterbury Region",
           "Wellington Region",
           "Wellington Region",
           "Waikato Region",
           "Waikato Region",
           "Bay of Plenty Region",
           "Bay of Plenty Region",
           "Otago Region",
           "Otago Region",
           "Rest of NZ",
           "Rest of NZ"
          ],
          [
           2000,
           2020,
           2000,
           2020,
           2000,
           2020,
           2000,
           2020,
           2000,
           2020,
           2000,
           2020,
           2000,
           2020
          ]
         ],
         "y": [
          0.4142276422764228,
          0.3653607316247036,
          0.3578226113437381,
          0.32432432432432434,
          0.313715953307393,
          0.266777592900721,
          0.26956025128498,
          0.2628272251308901,
          0.27906976744186046,
          0.2671532846715328,
          0.25990675990675993,
          0.25471698113207547,
          0.2504816955684008,
          0.26011378002528446
         ]
        },
        {
         "marker": {
          "color": "rgb(82,82,82)"
         },
         "name": "TWD",
         "text": [
          0.15,
          0.13,
          0.15,
          0.15,
          0.15,
          0.14,
          0.19,
          0.18,
          0.18,
          0.17,
          0.16,
          0.15,
          0.18,
          0.18
         ],
         "textposition": "auto",
         "type": "bar",
         "x": [
          [
           "Auckland Region",
           "Auckland Region",
           "Canterbury Region",
           "Canterbury Region",
           "Wellington Region",
           "Wellington Region",
           "Waikato Region",
           "Waikato Region",
           "Bay of Plenty Region",
           "Bay of Plenty Region",
           "Otago Region",
           "Otago Region",
           "Rest of NZ",
           "Rest of NZ"
          ],
          [
           2000,
           2020,
           2000,
           2020,
           2000,
           2020,
           2000,
           2020,
           2000,
           2020,
           2000,
           2020,
           2000,
           2020
          ]
         ],
         "y": [
          0.15040650406504066,
          0.12588912724398782,
          0.14731633041492195,
          0.14882882882882884,
          0.1522373540856031,
          0.14254021075984472,
          0.18903483723586523,
          0.18219895287958116,
          0.18203688853247796,
          0.17226277372262774,
          0.1561771561771562,
          0.1488469601677149,
          0.18143866409762363,
          0.1845764854614412
         ]
        }
       ],
       "layout": {
        "barmode": "stack",
        "font": {
         "family": "Serif"
        },
        "template": {
         "data": {
          "bar": [
           {
            "error_x": {
             "color": "rgb(36,36,36)"
            },
            "error_y": {
             "color": "rgb(36,36,36)"
            },
            "marker": {
             "line": {
              "color": "white",
              "width": 0.5
             },
             "pattern": {
              "fillmode": "overlay",
              "size": 10,
              "solidity": 0.2
             }
            },
            "type": "bar"
           }
          ],
          "barpolar": [
           {
            "marker": {
             "line": {
              "color": "white",
              "width": 0.5
             },
             "pattern": {
              "fillmode": "overlay",
              "size": 10,
              "solidity": 0.2
             }
            },
            "type": "barpolar"
           }
          ],
          "carpet": [
           {
            "aaxis": {
             "endlinecolor": "rgb(36,36,36)",
             "gridcolor": "white",
             "linecolor": "white",
             "minorgridcolor": "white",
             "startlinecolor": "rgb(36,36,36)"
            },
            "baxis": {
             "endlinecolor": "rgb(36,36,36)",
             "gridcolor": "white",
             "linecolor": "white",
             "minorgridcolor": "white",
             "startlinecolor": "rgb(36,36,36)"
            },
            "type": "carpet"
           }
          ],
          "choropleth": [
           {
            "colorbar": {
             "outlinewidth": 1,
             "tickcolor": "rgb(36,36,36)",
             "ticks": "outside"
            },
            "type": "choropleth"
           }
          ],
          "contour": [
           {
            "colorbar": {
             "outlinewidth": 1,
             "tickcolor": "rgb(36,36,36)",
             "ticks": "outside"
            },
            "colorscale": [
             [
              0,
              "#440154"
             ],
             [
              0.1111111111111111,
              "#482878"
             ],
             [
              0.2222222222222222,
              "#3e4989"
             ],
             [
              0.3333333333333333,
              "#31688e"
             ],
             [
              0.4444444444444444,
              "#26828e"
             ],
             [
              0.5555555555555556,
              "#1f9e89"
             ],
             [
              0.6666666666666666,
              "#35b779"
             ],
             [
              0.7777777777777778,
              "#6ece58"
             ],
             [
              0.8888888888888888,
              "#b5de2b"
             ],
             [
              1,
              "#fde725"
             ]
            ],
            "type": "contour"
           }
          ],
          "contourcarpet": [
           {
            "colorbar": {
             "outlinewidth": 1,
             "tickcolor": "rgb(36,36,36)",
             "ticks": "outside"
            },
            "type": "contourcarpet"
           }
          ],
          "heatmap": [
           {
            "colorbar": {
             "outlinewidth": 1,
             "tickcolor": "rgb(36,36,36)",
             "ticks": "outside"
            },
            "colorscale": [
             [
              0,
              "#440154"
             ],
             [
              0.1111111111111111,
              "#482878"
             ],
             [
              0.2222222222222222,
              "#3e4989"
             ],
             [
              0.3333333333333333,
              "#31688e"
             ],
             [
              0.4444444444444444,
              "#26828e"
             ],
             [
              0.5555555555555556,
              "#1f9e89"
             ],
             [
              0.6666666666666666,
              "#35b779"
             ],
             [
              0.7777777777777778,
              "#6ece58"
             ],
             [
              0.8888888888888888,
              "#b5de2b"
             ],
             [
              1,
              "#fde725"
             ]
            ],
            "type": "heatmap"
           }
          ],
          "heatmapgl": [
           {
            "colorbar": {
             "outlinewidth": 1,
             "tickcolor": "rgb(36,36,36)",
             "ticks": "outside"
            },
            "colorscale": [
             [
              0,
              "#440154"
             ],
             [
              0.1111111111111111,
              "#482878"
             ],
             [
              0.2222222222222222,
              "#3e4989"
             ],
             [
              0.3333333333333333,
              "#31688e"
             ],
             [
              0.4444444444444444,
              "#26828e"
             ],
             [
              0.5555555555555556,
              "#1f9e89"
             ],
             [
              0.6666666666666666,
              "#35b779"
             ],
             [
              0.7777777777777778,
              "#6ece58"
             ],
             [
              0.8888888888888888,
              "#b5de2b"
             ],
             [
              1,
              "#fde725"
             ]
            ],
            "type": "heatmapgl"
           }
          ],
          "histogram": [
           {
            "marker": {
             "line": {
              "color": "white",
              "width": 0.6
             }
            },
            "type": "histogram"
           }
          ],
          "histogram2d": [
           {
            "colorbar": {
             "outlinewidth": 1,
             "tickcolor": "rgb(36,36,36)",
             "ticks": "outside"
            },
            "colorscale": [
             [
              0,
              "#440154"
             ],
             [
              0.1111111111111111,
              "#482878"
             ],
             [
              0.2222222222222222,
              "#3e4989"
             ],
             [
              0.3333333333333333,
              "#31688e"
             ],
             [
              0.4444444444444444,
              "#26828e"
             ],
             [
              0.5555555555555556,
              "#1f9e89"
             ],
             [
              0.6666666666666666,
              "#35b779"
             ],
             [
              0.7777777777777778,
              "#6ece58"
             ],
             [
              0.8888888888888888,
              "#b5de2b"
             ],
             [
              1,
              "#fde725"
             ]
            ],
            "type": "histogram2d"
           }
          ],
          "histogram2dcontour": [
           {
            "colorbar": {
             "outlinewidth": 1,
             "tickcolor": "rgb(36,36,36)",
             "ticks": "outside"
            },
            "colorscale": [
             [
              0,
              "#440154"
             ],
             [
              0.1111111111111111,
              "#482878"
             ],
             [
              0.2222222222222222,
              "#3e4989"
             ],
             [
              0.3333333333333333,
              "#31688e"
             ],
             [
              0.4444444444444444,
              "#26828e"
             ],
             [
              0.5555555555555556,
              "#1f9e89"
             ],
             [
              0.6666666666666666,
              "#35b779"
             ],
             [
              0.7777777777777778,
              "#6ece58"
             ],
             [
              0.8888888888888888,
              "#b5de2b"
             ],
             [
              1,
              "#fde725"
             ]
            ],
            "type": "histogram2dcontour"
           }
          ],
          "mesh3d": [
           {
            "colorbar": {
             "outlinewidth": 1,
             "tickcolor": "rgb(36,36,36)",
             "ticks": "outside"
            },
            "type": "mesh3d"
           }
          ],
          "parcoords": [
           {
            "line": {
             "colorbar": {
              "outlinewidth": 1,
              "tickcolor": "rgb(36,36,36)",
              "ticks": "outside"
             }
            },
            "type": "parcoords"
           }
          ],
          "pie": [
           {
            "automargin": true,
            "type": "pie"
           }
          ],
          "scatter": [
           {
            "marker": {
             "colorbar": {
              "outlinewidth": 1,
              "tickcolor": "rgb(36,36,36)",
              "ticks": "outside"
             }
            },
            "type": "scatter"
           }
          ],
          "scatter3d": [
           {
            "line": {
             "colorbar": {
              "outlinewidth": 1,
              "tickcolor": "rgb(36,36,36)",
              "ticks": "outside"
             }
            },
            "marker": {
             "colorbar": {
              "outlinewidth": 1,
              "tickcolor": "rgb(36,36,36)",
              "ticks": "outside"
             }
            },
            "type": "scatter3d"
           }
          ],
          "scattercarpet": [
           {
            "marker": {
             "colorbar": {
              "outlinewidth": 1,
              "tickcolor": "rgb(36,36,36)",
              "ticks": "outside"
             }
            },
            "type": "scattercarpet"
           }
          ],
          "scattergeo": [
           {
            "marker": {
             "colorbar": {
              "outlinewidth": 1,
              "tickcolor": "rgb(36,36,36)",
              "ticks": "outside"
             }
            },
            "type": "scattergeo"
           }
          ],
          "scattergl": [
           {
            "marker": {
             "colorbar": {
              "outlinewidth": 1,
              "tickcolor": "rgb(36,36,36)",
              "ticks": "outside"
             }
            },
            "type": "scattergl"
           }
          ],
          "scattermapbox": [
           {
            "marker": {
             "colorbar": {
              "outlinewidth": 1,
              "tickcolor": "rgb(36,36,36)",
              "ticks": "outside"
             }
            },
            "type": "scattermapbox"
           }
          ],
          "scatterpolar": [
           {
            "marker": {
             "colorbar": {
              "outlinewidth": 1,
              "tickcolor": "rgb(36,36,36)",
              "ticks": "outside"
             }
            },
            "type": "scatterpolar"
           }
          ],
          "scatterpolargl": [
           {
            "marker": {
             "colorbar": {
              "outlinewidth": 1,
              "tickcolor": "rgb(36,36,36)",
              "ticks": "outside"
             }
            },
            "type": "scatterpolargl"
           }
          ],
          "scatterternary": [
           {
            "marker": {
             "colorbar": {
              "outlinewidth": 1,
              "tickcolor": "rgb(36,36,36)",
              "ticks": "outside"
             }
            },
            "type": "scatterternary"
           }
          ],
          "surface": [
           {
            "colorbar": {
             "outlinewidth": 1,
             "tickcolor": "rgb(36,36,36)",
             "ticks": "outside"
            },
            "colorscale": [
             [
              0,
              "#440154"
             ],
             [
              0.1111111111111111,
              "#482878"
             ],
             [
              0.2222222222222222,
              "#3e4989"
             ],
             [
              0.3333333333333333,
              "#31688e"
             ],
             [
              0.4444444444444444,
              "#26828e"
             ],
             [
              0.5555555555555556,
              "#1f9e89"
             ],
             [
              0.6666666666666666,
              "#35b779"
             ],
             [
              0.7777777777777778,
              "#6ece58"
             ],
             [
              0.8888888888888888,
              "#b5de2b"
             ],
             [
              1,
              "#fde725"
             ]
            ],
            "type": "surface"
           }
          ],
          "table": [
           {
            "cells": {
             "fill": {
              "color": "rgb(237,237,237)"
             },
             "line": {
              "color": "white"
             }
            },
            "header": {
             "fill": {
              "color": "rgb(217,217,217)"
             },
             "line": {
              "color": "white"
             }
            },
            "type": "table"
           }
          ]
         },
         "layout": {
          "annotationdefaults": {
           "arrowhead": 0,
           "arrowwidth": 1
          },
          "autotypenumbers": "strict",
          "coloraxis": {
           "colorbar": {
            "outlinewidth": 1,
            "tickcolor": "rgb(36,36,36)",
            "ticks": "outside"
           }
          },
          "colorscale": {
           "diverging": [
            [
             0,
             "rgb(103,0,31)"
            ],
            [
             0.1,
             "rgb(178,24,43)"
            ],
            [
             0.2,
             "rgb(214,96,77)"
            ],
            [
             0.3,
             "rgb(244,165,130)"
            ],
            [
             0.4,
             "rgb(253,219,199)"
            ],
            [
             0.5,
             "rgb(247,247,247)"
            ],
            [
             0.6,
             "rgb(209,229,240)"
            ],
            [
             0.7,
             "rgb(146,197,222)"
            ],
            [
             0.8,
             "rgb(67,147,195)"
            ],
            [
             0.9,
             "rgb(33,102,172)"
            ],
            [
             1,
             "rgb(5,48,97)"
            ]
           ],
           "sequential": [
            [
             0,
             "#440154"
            ],
            [
             0.1111111111111111,
             "#482878"
            ],
            [
             0.2222222222222222,
             "#3e4989"
            ],
            [
             0.3333333333333333,
             "#31688e"
            ],
            [
             0.4444444444444444,
             "#26828e"
            ],
            [
             0.5555555555555556,
             "#1f9e89"
            ],
            [
             0.6666666666666666,
             "#35b779"
            ],
            [
             0.7777777777777778,
             "#6ece58"
            ],
            [
             0.8888888888888888,
             "#b5de2b"
            ],
            [
             1,
             "#fde725"
            ]
           ],
           "sequentialminus": [
            [
             0,
             "#440154"
            ],
            [
             0.1111111111111111,
             "#482878"
            ],
            [
             0.2222222222222222,
             "#3e4989"
            ],
            [
             0.3333333333333333,
             "#31688e"
            ],
            [
             0.4444444444444444,
             "#26828e"
            ],
            [
             0.5555555555555556,
             "#1f9e89"
            ],
            [
             0.6666666666666666,
             "#35b779"
            ],
            [
             0.7777777777777778,
             "#6ece58"
            ],
            [
             0.8888888888888888,
             "#b5de2b"
            ],
            [
             1,
             "#fde725"
            ]
           ]
          },
          "colorway": [
           "#1F77B4",
           "#FF7F0E",
           "#2CA02C",
           "#D62728",
           "#9467BD",
           "#8C564B",
           "#E377C2",
           "#7F7F7F",
           "#BCBD22",
           "#17BECF"
          ],
          "font": {
           "color": "rgb(36,36,36)"
          },
          "geo": {
           "bgcolor": "white",
           "lakecolor": "white",
           "landcolor": "white",
           "showlakes": true,
           "showland": true,
           "subunitcolor": "white"
          },
          "hoverlabel": {
           "align": "left"
          },
          "hovermode": "closest",
          "mapbox": {
           "style": "light"
          },
          "paper_bgcolor": "white",
          "plot_bgcolor": "white",
          "polar": {
           "angularaxis": {
            "gridcolor": "rgb(232,232,232)",
            "linecolor": "rgb(36,36,36)",
            "showgrid": false,
            "showline": true,
            "ticks": "outside"
           },
           "bgcolor": "white",
           "radialaxis": {
            "gridcolor": "rgb(232,232,232)",
            "linecolor": "rgb(36,36,36)",
            "showgrid": false,
            "showline": true,
            "ticks": "outside"
           }
          },
          "scene": {
           "xaxis": {
            "backgroundcolor": "white",
            "gridcolor": "rgb(232,232,232)",
            "gridwidth": 2,
            "linecolor": "rgb(36,36,36)",
            "showbackground": true,
            "showgrid": false,
            "showline": true,
            "ticks": "outside",
            "zeroline": false,
            "zerolinecolor": "rgb(36,36,36)"
           },
           "yaxis": {
            "backgroundcolor": "white",
            "gridcolor": "rgb(232,232,232)",
            "gridwidth": 2,
            "linecolor": "rgb(36,36,36)",
            "showbackground": true,
            "showgrid": false,
            "showline": true,
            "ticks": "outside",
            "zeroline": false,
            "zerolinecolor": "rgb(36,36,36)"
           },
           "zaxis": {
            "backgroundcolor": "white",
            "gridcolor": "rgb(232,232,232)",
            "gridwidth": 2,
            "linecolor": "rgb(36,36,36)",
            "showbackground": true,
            "showgrid": false,
            "showline": true,
            "ticks": "outside",
            "zeroline": false,
            "zerolinecolor": "rgb(36,36,36)"
           }
          },
          "shapedefaults": {
           "fillcolor": "black",
           "line": {
            "width": 0
           },
           "opacity": 0.3
          },
          "ternary": {
           "aaxis": {
            "gridcolor": "rgb(232,232,232)",
            "linecolor": "rgb(36,36,36)",
            "showgrid": false,
            "showline": true,
            "ticks": "outside"
           },
           "baxis": {
            "gridcolor": "rgb(232,232,232)",
            "linecolor": "rgb(36,36,36)",
            "showgrid": false,
            "showline": true,
            "ticks": "outside"
           },
           "bgcolor": "white",
           "caxis": {
            "gridcolor": "rgb(232,232,232)",
            "linecolor": "rgb(36,36,36)",
            "showgrid": false,
            "showline": true,
            "ticks": "outside"
           }
          },
          "title": {
           "x": 0.05
          },
          "xaxis": {
           "automargin": true,
           "gridcolor": "rgb(232,232,232)",
           "linecolor": "rgb(36,36,36)",
           "showgrid": false,
           "showline": true,
           "ticks": "outside",
           "title": {
            "standoff": 15
           },
           "zeroline": false,
           "zerolinecolor": "rgb(36,36,36)"
          },
          "yaxis": {
           "automargin": true,
           "gridcolor": "rgb(232,232,232)",
           "linecolor": "rgb(36,36,36)",
           "showgrid": false,
           "showline": true,
           "ticks": "outside",
           "title": {
            "standoff": 15
           },
           "zeroline": false,
           "zerolinecolor": "rgb(36,36,36)"
          }
         }
        },
        "yaxis": {
         "title": {
          "text": "Proportion of LOG facilities"
         }
        }
       }
      },
      "text/html": [
       "<div>                            <div id=\"e9098c35-da5c-4d5f-882d-4e1ce9d1b3f4\" class=\"plotly-graph-div\" style=\"height:525px; width:100%;\"></div>            <script type=\"text/javascript\">                require([\"plotly\"], function(Plotly) {                    window.PLOTLYENV=window.PLOTLYENV || {};                                    if (document.getElementById(\"e9098c35-da5c-4d5f-882d-4e1ce9d1b3f4\")) {                    Plotly.newPlot(                        \"e9098c35-da5c-4d5f-882d-4e1ce9d1b3f4\",                        [{\"marker\":{\"color\":\"rgb(0,0,0)\"},\"name\":\"RET\",\"text\":[0.44,0.51,0.49,0.53,0.53,0.59,0.54,0.55,0.54,0.56,0.58,0.6,0.57,0.56],\"textposition\":\"auto\",\"x\":[[\"Auckland Region\",\"Auckland Region\",\"Canterbury Region\",\"Canterbury Region\",\"Wellington Region\",\"Wellington Region\",\"Waikato Region\",\"Waikato Region\",\"Bay of Plenty Region\",\"Bay of Plenty Region\",\"Otago Region\",\"Otago Region\",\"Rest of NZ\",\"Rest of NZ\"],[2000,2020,2000,2020,2000,2020,2000,2020,2000,2020,2000,2020,2000,2020]],\"y\":[0.4353658536585366,0.5087501411313086,0.4948610582413399,0.5268468468468468,0.5340466926070039,0.5906821963394343,0.5414049114791548,0.5549738219895288,0.5388933440256616,0.5605839416058395,0.583916083916084,0.5964360587002097,0.5680796403339756,0.5553097345132744],\"type\":\"bar\"},{\"marker\":{\"color\":\"rgb(37,37,37)\"},\"name\":\"WSL\",\"text\":[0.41,0.37,0.36,0.32,0.31,0.27,0.27,0.26,0.28,0.27,0.26,0.25,0.25,0.26],\"textposition\":\"auto\",\"x\":[[\"Auckland Region\",\"Auckland Region\",\"Canterbury Region\",\"Canterbury Region\",\"Wellington Region\",\"Wellington Region\",\"Waikato Region\",\"Waikato Region\",\"Bay of Plenty Region\",\"Bay of Plenty Region\",\"Otago Region\",\"Otago Region\",\"Rest of NZ\",\"Rest of NZ\"],[2000,2020,2000,2020,2000,2020,2000,2020,2000,2020,2000,2020,2000,2020]],\"y\":[0.4142276422764228,0.3653607316247036,0.3578226113437381,0.32432432432432434,0.313715953307393,0.266777592900721,0.26956025128498,0.2628272251308901,0.27906976744186046,0.2671532846715328,0.25990675990675993,0.25471698113207547,0.2504816955684008,0.26011378002528446],\"type\":\"bar\"},{\"marker\":{\"color\":\"rgb(82,82,82)\"},\"name\":\"TWD\",\"text\":[0.15,0.13,0.15,0.15,0.15,0.14,0.19,0.18,0.18,0.17,0.16,0.15,0.18,0.18],\"textposition\":\"auto\",\"x\":[[\"Auckland Region\",\"Auckland Region\",\"Canterbury Region\",\"Canterbury Region\",\"Wellington Region\",\"Wellington Region\",\"Waikato Region\",\"Waikato Region\",\"Bay of Plenty Region\",\"Bay of Plenty Region\",\"Otago Region\",\"Otago Region\",\"Rest of NZ\",\"Rest of NZ\"],[2000,2020,2000,2020,2000,2020,2000,2020,2000,2020,2000,2020,2000,2020]],\"y\":[0.15040650406504066,0.12588912724398782,0.14731633041492195,0.14882882882882884,0.1522373540856031,0.14254021075984472,0.18903483723586523,0.18219895287958116,0.18203688853247796,0.17226277372262774,0.1561771561771562,0.1488469601677149,0.18143866409762363,0.1845764854614412],\"type\":\"bar\"}],                        {\"template\":{\"data\":{\"barpolar\":[{\"marker\":{\"line\":{\"color\":\"white\",\"width\":0.5},\"pattern\":{\"fillmode\":\"overlay\",\"size\":10,\"solidity\":0.2}},\"type\":\"barpolar\"}],\"bar\":[{\"error_x\":{\"color\":\"rgb(36,36,36)\"},\"error_y\":{\"color\":\"rgb(36,36,36)\"},\"marker\":{\"line\":{\"color\":\"white\",\"width\":0.5},\"pattern\":{\"fillmode\":\"overlay\",\"size\":10,\"solidity\":0.2}},\"type\":\"bar\"}],\"carpet\":[{\"aaxis\":{\"endlinecolor\":\"rgb(36,36,36)\",\"gridcolor\":\"white\",\"linecolor\":\"white\",\"minorgridcolor\":\"white\",\"startlinecolor\":\"rgb(36,36,36)\"},\"baxis\":{\"endlinecolor\":\"rgb(36,36,36)\",\"gridcolor\":\"white\",\"linecolor\":\"white\",\"minorgridcolor\":\"white\",\"startlinecolor\":\"rgb(36,36,36)\"},\"type\":\"carpet\"}],\"choropleth\":[{\"colorbar\":{\"outlinewidth\":1,\"tickcolor\":\"rgb(36,36,36)\",\"ticks\":\"outside\"},\"type\":\"choropleth\"}],\"contourcarpet\":[{\"colorbar\":{\"outlinewidth\":1,\"tickcolor\":\"rgb(36,36,36)\",\"ticks\":\"outside\"},\"type\":\"contourcarpet\"}],\"contour\":[{\"colorbar\":{\"outlinewidth\":1,\"tickcolor\":\"rgb(36,36,36)\",\"ticks\":\"outside\"},\"colorscale\":[[0.0,\"#440154\"],[0.1111111111111111,\"#482878\"],[0.2222222222222222,\"#3e4989\"],[0.3333333333333333,\"#31688e\"],[0.4444444444444444,\"#26828e\"],[0.5555555555555556,\"#1f9e89\"],[0.6666666666666666,\"#35b779\"],[0.7777777777777778,\"#6ece58\"],[0.8888888888888888,\"#b5de2b\"],[1.0,\"#fde725\"]],\"type\":\"contour\"}],\"heatmapgl\":[{\"colorbar\":{\"outlinewidth\":1,\"tickcolor\":\"rgb(36,36,36)\",\"ticks\":\"outside\"},\"colorscale\":[[0.0,\"#440154\"],[0.1111111111111111,\"#482878\"],[0.2222222222222222,\"#3e4989\"],[0.3333333333333333,\"#31688e\"],[0.4444444444444444,\"#26828e\"],[0.5555555555555556,\"#1f9e89\"],[0.6666666666666666,\"#35b779\"],[0.7777777777777778,\"#6ece58\"],[0.8888888888888888,\"#b5de2b\"],[1.0,\"#fde725\"]],\"type\":\"heatmapgl\"}],\"heatmap\":[{\"colorbar\":{\"outlinewidth\":1,\"tickcolor\":\"rgb(36,36,36)\",\"ticks\":\"outside\"},\"colorscale\":[[0.0,\"#440154\"],[0.1111111111111111,\"#482878\"],[0.2222222222222222,\"#3e4989\"],[0.3333333333333333,\"#31688e\"],[0.4444444444444444,\"#26828e\"],[0.5555555555555556,\"#1f9e89\"],[0.6666666666666666,\"#35b779\"],[0.7777777777777778,\"#6ece58\"],[0.8888888888888888,\"#b5de2b\"],[1.0,\"#fde725\"]],\"type\":\"heatmap\"}],\"histogram2dcontour\":[{\"colorbar\":{\"outlinewidth\":1,\"tickcolor\":\"rgb(36,36,36)\",\"ticks\":\"outside\"},\"colorscale\":[[0.0,\"#440154\"],[0.1111111111111111,\"#482878\"],[0.2222222222222222,\"#3e4989\"],[0.3333333333333333,\"#31688e\"],[0.4444444444444444,\"#26828e\"],[0.5555555555555556,\"#1f9e89\"],[0.6666666666666666,\"#35b779\"],[0.7777777777777778,\"#6ece58\"],[0.8888888888888888,\"#b5de2b\"],[1.0,\"#fde725\"]],\"type\":\"histogram2dcontour\"}],\"histogram2d\":[{\"colorbar\":{\"outlinewidth\":1,\"tickcolor\":\"rgb(36,36,36)\",\"ticks\":\"outside\"},\"colorscale\":[[0.0,\"#440154\"],[0.1111111111111111,\"#482878\"],[0.2222222222222222,\"#3e4989\"],[0.3333333333333333,\"#31688e\"],[0.4444444444444444,\"#26828e\"],[0.5555555555555556,\"#1f9e89\"],[0.6666666666666666,\"#35b779\"],[0.7777777777777778,\"#6ece58\"],[0.8888888888888888,\"#b5de2b\"],[1.0,\"#fde725\"]],\"type\":\"histogram2d\"}],\"histogram\":[{\"marker\":{\"line\":{\"color\":\"white\",\"width\":0.6}},\"type\":\"histogram\"}],\"mesh3d\":[{\"colorbar\":{\"outlinewidth\":1,\"tickcolor\":\"rgb(36,36,36)\",\"ticks\":\"outside\"},\"type\":\"mesh3d\"}],\"parcoords\":[{\"line\":{\"colorbar\":{\"outlinewidth\":1,\"tickcolor\":\"rgb(36,36,36)\",\"ticks\":\"outside\"}},\"type\":\"parcoords\"}],\"pie\":[{\"automargin\":true,\"type\":\"pie\"}],\"scatter3d\":[{\"line\":{\"colorbar\":{\"outlinewidth\":1,\"tickcolor\":\"rgb(36,36,36)\",\"ticks\":\"outside\"}},\"marker\":{\"colorbar\":{\"outlinewidth\":1,\"tickcolor\":\"rgb(36,36,36)\",\"ticks\":\"outside\"}},\"type\":\"scatter3d\"}],\"scattercarpet\":[{\"marker\":{\"colorbar\":{\"outlinewidth\":1,\"tickcolor\":\"rgb(36,36,36)\",\"ticks\":\"outside\"}},\"type\":\"scattercarpet\"}],\"scattergeo\":[{\"marker\":{\"colorbar\":{\"outlinewidth\":1,\"tickcolor\":\"rgb(36,36,36)\",\"ticks\":\"outside\"}},\"type\":\"scattergeo\"}],\"scattergl\":[{\"marker\":{\"colorbar\":{\"outlinewidth\":1,\"tickcolor\":\"rgb(36,36,36)\",\"ticks\":\"outside\"}},\"type\":\"scattergl\"}],\"scattermapbox\":[{\"marker\":{\"colorbar\":{\"outlinewidth\":1,\"tickcolor\":\"rgb(36,36,36)\",\"ticks\":\"outside\"}},\"type\":\"scattermapbox\"}],\"scatterpolargl\":[{\"marker\":{\"colorbar\":{\"outlinewidth\":1,\"tickcolor\":\"rgb(36,36,36)\",\"ticks\":\"outside\"}},\"type\":\"scatterpolargl\"}],\"scatterpolar\":[{\"marker\":{\"colorbar\":{\"outlinewidth\":1,\"tickcolor\":\"rgb(36,36,36)\",\"ticks\":\"outside\"}},\"type\":\"scatterpolar\"}],\"scatter\":[{\"marker\":{\"colorbar\":{\"outlinewidth\":1,\"tickcolor\":\"rgb(36,36,36)\",\"ticks\":\"outside\"}},\"type\":\"scatter\"}],\"scatterternary\":[{\"marker\":{\"colorbar\":{\"outlinewidth\":1,\"tickcolor\":\"rgb(36,36,36)\",\"ticks\":\"outside\"}},\"type\":\"scatterternary\"}],\"surface\":[{\"colorbar\":{\"outlinewidth\":1,\"tickcolor\":\"rgb(36,36,36)\",\"ticks\":\"outside\"},\"colorscale\":[[0.0,\"#440154\"],[0.1111111111111111,\"#482878\"],[0.2222222222222222,\"#3e4989\"],[0.3333333333333333,\"#31688e\"],[0.4444444444444444,\"#26828e\"],[0.5555555555555556,\"#1f9e89\"],[0.6666666666666666,\"#35b779\"],[0.7777777777777778,\"#6ece58\"],[0.8888888888888888,\"#b5de2b\"],[1.0,\"#fde725\"]],\"type\":\"surface\"}],\"table\":[{\"cells\":{\"fill\":{\"color\":\"rgb(237,237,237)\"},\"line\":{\"color\":\"white\"}},\"header\":{\"fill\":{\"color\":\"rgb(217,217,217)\"},\"line\":{\"color\":\"white\"}},\"type\":\"table\"}]},\"layout\":{\"annotationdefaults\":{\"arrowhead\":0,\"arrowwidth\":1},\"autotypenumbers\":\"strict\",\"coloraxis\":{\"colorbar\":{\"outlinewidth\":1,\"tickcolor\":\"rgb(36,36,36)\",\"ticks\":\"outside\"}},\"colorscale\":{\"diverging\":[[0.0,\"rgb(103,0,31)\"],[0.1,\"rgb(178,24,43)\"],[0.2,\"rgb(214,96,77)\"],[0.3,\"rgb(244,165,130)\"],[0.4,\"rgb(253,219,199)\"],[0.5,\"rgb(247,247,247)\"],[0.6,\"rgb(209,229,240)\"],[0.7,\"rgb(146,197,222)\"],[0.8,\"rgb(67,147,195)\"],[0.9,\"rgb(33,102,172)\"],[1.0,\"rgb(5,48,97)\"]],\"sequential\":[[0.0,\"#440154\"],[0.1111111111111111,\"#482878\"],[0.2222222222222222,\"#3e4989\"],[0.3333333333333333,\"#31688e\"],[0.4444444444444444,\"#26828e\"],[0.5555555555555556,\"#1f9e89\"],[0.6666666666666666,\"#35b779\"],[0.7777777777777778,\"#6ece58\"],[0.8888888888888888,\"#b5de2b\"],[1.0,\"#fde725\"]],\"sequentialminus\":[[0.0,\"#440154\"],[0.1111111111111111,\"#482878\"],[0.2222222222222222,\"#3e4989\"],[0.3333333333333333,\"#31688e\"],[0.4444444444444444,\"#26828e\"],[0.5555555555555556,\"#1f9e89\"],[0.6666666666666666,\"#35b779\"],[0.7777777777777778,\"#6ece58\"],[0.8888888888888888,\"#b5de2b\"],[1.0,\"#fde725\"]]},\"colorway\":[\"#1F77B4\",\"#FF7F0E\",\"#2CA02C\",\"#D62728\",\"#9467BD\",\"#8C564B\",\"#E377C2\",\"#7F7F7F\",\"#BCBD22\",\"#17BECF\"],\"font\":{\"color\":\"rgb(36,36,36)\"},\"geo\":{\"bgcolor\":\"white\",\"lakecolor\":\"white\",\"landcolor\":\"white\",\"showlakes\":true,\"showland\":true,\"subunitcolor\":\"white\"},\"hoverlabel\":{\"align\":\"left\"},\"hovermode\":\"closest\",\"mapbox\":{\"style\":\"light\"},\"paper_bgcolor\":\"white\",\"plot_bgcolor\":\"white\",\"polar\":{\"angularaxis\":{\"gridcolor\":\"rgb(232,232,232)\",\"linecolor\":\"rgb(36,36,36)\",\"showgrid\":false,\"showline\":true,\"ticks\":\"outside\"},\"bgcolor\":\"white\",\"radialaxis\":{\"gridcolor\":\"rgb(232,232,232)\",\"linecolor\":\"rgb(36,36,36)\",\"showgrid\":false,\"showline\":true,\"ticks\":\"outside\"}},\"scene\":{\"xaxis\":{\"backgroundcolor\":\"white\",\"gridcolor\":\"rgb(232,232,232)\",\"gridwidth\":2,\"linecolor\":\"rgb(36,36,36)\",\"showbackground\":true,\"showgrid\":false,\"showline\":true,\"ticks\":\"outside\",\"zeroline\":false,\"zerolinecolor\":\"rgb(36,36,36)\"},\"yaxis\":{\"backgroundcolor\":\"white\",\"gridcolor\":\"rgb(232,232,232)\",\"gridwidth\":2,\"linecolor\":\"rgb(36,36,36)\",\"showbackground\":true,\"showgrid\":false,\"showline\":true,\"ticks\":\"outside\",\"zeroline\":false,\"zerolinecolor\":\"rgb(36,36,36)\"},\"zaxis\":{\"backgroundcolor\":\"white\",\"gridcolor\":\"rgb(232,232,232)\",\"gridwidth\":2,\"linecolor\":\"rgb(36,36,36)\",\"showbackground\":true,\"showgrid\":false,\"showline\":true,\"ticks\":\"outside\",\"zeroline\":false,\"zerolinecolor\":\"rgb(36,36,36)\"}},\"shapedefaults\":{\"fillcolor\":\"black\",\"line\":{\"width\":0},\"opacity\":0.3},\"ternary\":{\"aaxis\":{\"gridcolor\":\"rgb(232,232,232)\",\"linecolor\":\"rgb(36,36,36)\",\"showgrid\":false,\"showline\":true,\"ticks\":\"outside\"},\"baxis\":{\"gridcolor\":\"rgb(232,232,232)\",\"linecolor\":\"rgb(36,36,36)\",\"showgrid\":false,\"showline\":true,\"ticks\":\"outside\"},\"bgcolor\":\"white\",\"caxis\":{\"gridcolor\":\"rgb(232,232,232)\",\"linecolor\":\"rgb(36,36,36)\",\"showgrid\":false,\"showline\":true,\"ticks\":\"outside\"}},\"title\":{\"x\":0.05},\"xaxis\":{\"automargin\":true,\"gridcolor\":\"rgb(232,232,232)\",\"linecolor\":\"rgb(36,36,36)\",\"showgrid\":false,\"showline\":true,\"ticks\":\"outside\",\"title\":{\"standoff\":15},\"zeroline\":false,\"zerolinecolor\":\"rgb(36,36,36)\"},\"yaxis\":{\"automargin\":true,\"gridcolor\":\"rgb(232,232,232)\",\"linecolor\":\"rgb(36,36,36)\",\"showgrid\":false,\"showline\":true,\"ticks\":\"outside\",\"title\":{\"standoff\":15},\"zeroline\":false,\"zerolinecolor\":\"rgb(36,36,36)\"}}},\"font\":{\"family\":\"Serif\"},\"yaxis\":{\"title\":{\"text\":\"Proportion of LOG facilities\"}},\"barmode\":\"stack\"},                        {\"responsive\": true}                    ).then(function(){\n",
       "                            \n",
       "var gd = document.getElementById('e9098c35-da5c-4d5f-882d-4e1ce9d1b3f4');\n",
       "var x = new MutationObserver(function (mutations, observer) {{\n",
       "        var display = window.getComputedStyle(gd).display;\n",
       "        if (!display || display === 'none') {{\n",
       "            console.log([gd, 'removed!']);\n",
       "            Plotly.purge(gd);\n",
       "            observer.disconnect();\n",
       "        }}\n",
       "}});\n",
       "\n",
       "// Listen for the removal of the full notebook cells\n",
       "var notebookContainer = gd.closest('#notebook-container');\n",
       "if (notebookContainer) {{\n",
       "    x.observe(notebookContainer, {childList: true});\n",
       "}}\n",
       "\n",
       "// Listen for the clearing of the current output cell\n",
       "var outputEl = gd.closest('.output');\n",
       "if (outputEl) {{\n",
       "    x.observe(outputEl, {childList: true});\n",
       "}}\n",
       "\n",
       "                        })                };                });            </script>        </div>"
      ]
     },
     "metadata": {},
     "output_type": "display_data"
    }
   ],
   "source": [
    "fig = go.Figure()\n",
    "fig.layout.font.family = 'Serif'\n",
    "\n",
    "fig.update_layout(\n",
    "    template=\"simple_white\",\n",
    "    #xaxis=dict(title_text=\"Facility Type\"),\n",
    "    yaxis=dict(title_text=\"Proportion of LOG facilities\"),\n",
    "    barmode=\"stack\",\n",
    ")\n",
    "\n",
    "\n",
    "colors = [\"rgb(0,0,0)\", 'rgb(37,37,37)','rgb(82,82,82)', 'rgb(115,115,115)','rgb(150,150,150)','rgb(189,189,189)', 'rgb(217,217,217)','rgb(240,240,240)']\n",
    "\n",
    "for r, c in zip(df.facType.unique(), colors):\n",
    "    plot_df = df[df.facType == r]\n",
    "    fig.add_trace(\n",
    "        go.Bar(x=[plot_df.area, plot_df.year], y=plot_df.prop, name=r, marker_color=c,text = round(plot_df.prop,2), textposition = 'auto'),\n",
    "    )\n",
    "\n",
    "fig"
   ]
  }
 ],
 "metadata": {
  "kernelspec": {
   "display_name": "Python 3 (ipykernel)",
   "language": "python",
   "name": "python3"
  },
  "language_info": {
   "codemirror_mode": {
    "name": "ipython",
    "version": 3
   },
   "file_extension": ".py",
   "mimetype": "text/x-python",
   "name": "python",
   "nbconvert_exporter": "python",
   "pygments_lexer": "ipython3",
   "version": "3.9.7"
  }
 },
 "nbformat": 4,
 "nbformat_minor": 5
}
